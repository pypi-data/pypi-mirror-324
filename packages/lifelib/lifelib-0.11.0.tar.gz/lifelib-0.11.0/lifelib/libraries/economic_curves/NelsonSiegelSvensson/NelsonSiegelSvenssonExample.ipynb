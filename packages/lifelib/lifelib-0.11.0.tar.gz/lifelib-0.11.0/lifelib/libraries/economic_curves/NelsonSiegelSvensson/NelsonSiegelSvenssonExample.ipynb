{
 "cells": [
  {
   "cell_type": "markdown",
   "id": "7710729b",
   "metadata": {},
   "source": [
    "# Nelson-Siegel-Svensson Example\n",
    "\n",
    "The Nelson-Siegel-Svensson is a popular extension of the 4-parameter Nelson-Siegel method to 6 parameters. It is an algorithm for interpolatin/extrapolating the yield curve among other uses.\n",
    "The Scennson introduces two extra parameters to better fit the variety of shapes of either the instantaneous forward rate or yield curves that are observed in practice.\n",
    "A desirable property of the model is that it produces a smooth and well behaved forward rate curve.\n",
    "Another desirable property is the intuitive explanation of the parameters. beta0 is the long term interest rate and beta0+beta1 is the instantaneous short-term rate.\n",
    "To find the optimal value of the parameters, the Nelder-Mead simplex algorithm is used (Already implemented in the scipy package). The link to the optimization algorithm is\n",
    "Gao, F. and Han, L. Implementing the Nelder-Mead simplex algorithm with adaptive parameters. 2012. Computational Optimization and Applications. 51:1, pp. 259-277"
   ]
  },
  {
   "cell_type": "code",
   "execution_count": 1,
   "id": "3c3d759a",
   "metadata": {},
   "outputs": [],
   "source": [
    "from nelsonsiegelsvensson import *\n",
    "import numpy as np"
   ]
  },
  {
   "cell_type": "markdown",
   "id": "a3d7d3df",
   "metadata": {},
   "source": [
    "## Inputs\n",
    "\n",
    "- Observed yield rates (YieldVec)\n",
    "- Maturity of each observed yield (TimeVec)\n",
    "- Initial guess for parameters (beta0, beta1, beta2,beta3, labda0 , and lambda1) \n",
    "- Target maturities (TimeResultVec)"
   ]
  },
  {
   "cell_type": "code",
   "execution_count": 2,
   "id": "549ce7f5",
   "metadata": {},
   "outputs": [],
   "source": [
    "TimeVec = np.array([1,2,5,10,25])\n",
    "YieldVec = np.array([0.0039, 0.0061, 0.0166, 0.0258, 0.0332])\n",
    "beta0   = 0.1 # initial guess\n",
    "beta1   = 0.1 # initial guess\n",
    "beta2   = 0.1 # initial guess\n",
    "beta3   = 0.1 # initial guess\n",
    "lambda0 = 1 # initial guess\n",
    "lambda1 = 1 # initial guess\n",
    "TimeResultVec = np.array([1,2,5,10,25,30,31]) # Maturities for yields that we are interested in"
   ]
  },
  {
   "cell_type": "markdown",
   "id": "92ede8bf",
   "metadata": {},
   "source": [
    "## Implementation"
   ]
  },
  {
   "cell_type": "code",
   "execution_count": 3,
   "id": "951b623b",
   "metadata": {},
   "outputs": [
    {
     "name": "stdout",
     "output_type": "stream",
     "text": [
      "[0.00389997 0.00610007 0.01659993 0.02579993 0.0332     0.03416869\n",
      " 0.03432816]\n"
     ]
    }
   ],
   "source": [
    "# The Nelder-Mead simplex algorithem is used \n",
    "# to find the parameters that result in a curve with the minimum residuals compared to the market data.\n",
    "OptiParam = NSSMinimize(beta0, beta1, beta2, beta3, lambda0, lambda1, TimeVec, YieldVec) \n",
    "\n",
    "# Print the yield curve with optimal parameter to compare with the data provided\n",
    "print(NelsonSiegelSvensson(TimeResultVec, OptiParam[0], OptiParam[1], OptiParam[2], OptiParam[3], OptiParam[4], OptiParam[5]))"
   ]
  }
 ],
 "metadata": {
  "kernelspec": {
   "display_name": "Python 3 (ipykernel)",
   "language": "python",
   "name": "python3"
  },
  "language_info": {
   "codemirror_mode": {
    "name": "ipython",
    "version": 3
   },
   "file_extension": ".py",
   "mimetype": "text/x-python",
   "name": "python",
   "nbconvert_exporter": "python",
   "pygments_lexer": "ipython3",
   "version": "3.10.6"
  }
 },
 "nbformat": 4,
 "nbformat_minor": 5
}
