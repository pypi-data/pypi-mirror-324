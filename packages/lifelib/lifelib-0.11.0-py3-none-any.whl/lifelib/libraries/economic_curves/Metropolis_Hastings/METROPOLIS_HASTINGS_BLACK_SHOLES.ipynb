{
 "cells": [
  {
   "cell_type": "markdown",
   "id": "58508a8c",
   "metadata": {},
   "source": [
    "# Metropolis-Hastings Algorythm Example"
   ]
  },
  {
   "cell_type": "code",
   "execution_count": 2,
   "id": "35378fe3",
   "metadata": {},
   "outputs": [],
   "source": [
    "import numpy as np\n",
    "import pandas as pd\n",
    "import matplotlib.pyplot as plt"
   ]
  },
  {
   "cell_type": "markdown",
   "id": "f50506f0",
   "metadata": {},
   "source": [
    "## Black Sholes\n"
   ]
  },
  {
   "cell_type": "markdown",
   "id": "ab457710",
   "metadata": {},
   "source": [
    "[Black–Scholes–Merton model](https://en.wikipedia.org/wiki/Black%E2%80%93Scholes_model) is a mathematical model for the dynamics of the stock market. This model assumes that the price of the underlying asset follows a [Geometric Brownian motion](https://en.wikipedia.org/wiki/Geometric_Brownian_motion). \n",
    "\n",
    "That is, the underlying asset follows the process:\n",
    "\n",
    "$$ dS(t) = \\mu S(t) + \\sigma S(t) dW(t) $$\n",
    "\n",
    "\n",
    "Where:\n",
    " - ToDo\n",
    "\n",
    "or its integral form:\n",
    "\n",
    "$$ S(t) = S(0) + \\int_0^t \\mu S(s) ds + \\int_0^t \\sigma S(s) dW(s) $$\n",
    "\n",
    "\n"
   ]
  },
  {
   "cell_type": "markdown",
   "id": "ab6b380f",
   "metadata": {},
   "source": [
    "This differential equation has a unique and stable solution:\n",
    "\n",
    "$$ S(t) = S(0) e^{\\mu - \\frac{\\sigma^2}{2}t + \\sigma W(t)} $$\n",
    "\n",
    "Where:\n",
    " - ToDo\n"
   ]
  },
  {
   "cell_type": "markdown",
   "id": "b765c36d",
   "metadata": {},
   "source": [
    "In practice, the simulation is not continuous. For two subsequent time points $t_k$ and $t_{k-1}$, the following equation holds:\n",
    "\n",
    "$$ S(t_k) = S(t_{k-1}) e^{ (\\mu - \\frac{\\sigma^2}{2})(t_k - t_{k-1}) + \\sigma (W(t_k) - W(t_{k-1}))} $$\n"
   ]
  },
  {
   "cell_type": "code",
   "execution_count": 3,
   "id": "de5e6916",
   "metadata": {},
   "outputs": [],
   "source": [
    "def simulate_Black_Scholes(S0, mu, sigma, T, dt) -> pd.DataFrame:\n",
    "    \n",
    "    N = int(T / dt) # number of subintervals of length 1/dt between 0 and max modeling time T\n",
    "   \n",
    "    time, delta_t = np.linspace(0, T, num = N+1, retstep = True)\n",
    "    S = np.exp((mu - sigma ** 2 / 2) * dt + sigma * np.sqrt(dt)* np.random.normal(0, 1 , size= N))\n",
    "    S = np.hstack([1, S])\n",
    "    dict = {'Time' : time, 'Stock Price' : S0* S.cumprod(axis=0)}\n",
    "\n",
    "    stock_price_simulation = pd.DataFrame.from_dict(data = dict)\n",
    "    stock_price_simulation.set_index('Time', inplace = True)\n",
    "\n",
    "    return stock_price_simulation"
   ]
  },
  {
   "cell_type": "markdown",
   "id": "ece4cea7",
   "metadata": {},
   "source": [
    "## ESG simulation\n",
    "\n",
    "Economic Scenario Generators simulate potential future paths of financial indicators such as interest rates, indices and spreads. Most of them do this by assuming that the economy behaves according to a certain stochastic process and present multiple sample paths of this process.\n",
    "\n",
    "To simulate this, the code bellow generates 1000 scenarios from the Black-Sholes-Merton model. Each scenario simulates 50 years in annual increments."
   ]
  },
  {
   "cell_type": "code",
   "execution_count": 4,
   "id": "a425f4dd",
   "metadata": {},
   "outputs": [],
   "source": [
    "nScen = 1000\n",
    "nYear = 50"
   ]
  },
  {
   "cell_type": "markdown",
   "id": "faf86a99",
   "metadata": {},
   "source": [
    "BSM model takes 2 paramters. The average return $\\mu$ and the annual volatility $\\sigma$. This example uses the numbers obtained from XXX."
   ]
  },
  {
   "cell_type": "code",
   "execution_count": 5,
   "id": "a70dbab8",
   "metadata": {},
   "outputs": [],
   "source": [
    "mu = 0.05 #0.106  \n",
    "sigma = 0.3#0.181 "
   ]
  },
  {
   "cell_type": "code",
   "execution_count": 6,
   "id": "ffe533ba",
   "metadata": {},
   "outputs": [],
   "source": [
    "sample_paths = pd.DataFrame(simulate_Black_Scholes(1, mu, sigma, nYear, 1).values, columns=[\"Scenario0\"])\n",
    "\n",
    "for iStep in range(1,nScen):\n",
    "    name = \"Scenario\"+ str(iStep)\n",
    "    sample = pd.DataFrame(simulate_Black_Scholes(1, mu, sigma, nYear, 1).values,columns=[name])\n",
    "    sample_paths = sample_paths.join(sample)"
   ]
  },
  {
   "cell_type": "markdown",
   "id": "edce7dd9",
   "metadata": {},
   "source": [
    "By taking the logarithm of both sides and rearanging the terms, the equation transforms:\n",
    "\n",
    "$$ ln(S(t_k)) - ln(S(t_{k-1})) = (\\mu - \\frac{\\sigma^2}{2})(t_k - t_{k-1}) + \\sigma (W(t_k) - W(t_{k-1})) $$"
   ]
  },
  {
   "cell_type": "markdown",
   "id": "faf7be38",
   "metadata": {},
   "source": [
    "From the equation above, the distribution of increments can be infered:\n",
    "\n",
    "$$ ln(S(t_k)) - ln(S(t_{k-1})) \\stackrel{d}{\\sim} N\\big((\\mu - \\frac{\\sigma^2}{2})(t_k - t_{k-1}), \\sigma (t_k - t_{k-1})\\big) $$"
   ]
  },
  {
   "cell_type": "markdown",
   "id": "a4bba276",
   "metadata": {},
   "source": [
    "## Log likelihood\n",
    "\n",
    "The logarithmic increments follow a normal distribution. For convenience, the increment between $t_k$ and $t_{k-1}$ is defined as $x(t_k) = ln(S(t_k)) - ln(S(t_{k-1}))$. The likelihood function of a single increment is:\n",
    "\n",
    "$$ f_\\theta (x(t_k)) = \\frac{1}{\\sigma \\sqrt{2 \\pi (t_k - t_{k-1})}} e^{\\frac{[x(t_k) - (\\mu - \\frac{\\sigma^2}{2})(t_k - t_{k-1})]^2}{2\\sigma^2 (t_k - t_{k-1})}}  $$\n",
    "\n",
    "\n",
    "The log likelihood for the entire scenario is therefore:\n",
    "\n",
    "$$ L(\\theta) = \\sum_{k=1}^n ln(f_\\theta(x(t_k)))$$\n"
   ]
  },
  {
   "cell_type": "markdown",
   "id": "b596865f",
   "metadata": {},
   "source": [
    "$$ L(\\theta) = \\sum_{k=1}^n ln\\big(\\frac{1}{\\sigma \\sqrt{2 \\pi (t_k - t_{k-1})}} e^{-\\frac{[x(t_k) - (\\mu - \\frac{\\sigma^2}{2})(t_k - t_{k-1})]^2}{2\\sigma^2 (t_k - t_{k-1})}}\\big) = $$\n",
    "\n",
    "$$= \\sum_{k=1}^n -ln(\\sigma) -\\frac{1}{2}ln(2 \\pi (t_k - t_{k-1})) -\\frac{[x(t_k) - (\\mu - \\frac{\\sigma^2}{2})(t_k - t_{k-1})]^2}{2\\sigma^2 (t_k - t_{k-1})}$$"
   ]
  },
  {
   "cell_type": "markdown",
   "id": "1a5db486",
   "metadata": {},
   "source": [
    "$$= -n ln(\\sigma) -\\frac{n}{2}ln(2 \\pi)  -\\frac{1}{2}\\sum_{k=1}^n  ln(t_k - t_{k-1}) -\\sum_{k=1}^n\\frac{[x(t_k) - (\\mu - \\frac{\\sigma^2}{2})(t_k - t_{k-1})]^2}{2\\sigma^2 (t_k - t_{k-1})}$$"
   ]
  },
  {
   "cell_type": "markdown",
   "id": "859b501e",
   "metadata": {},
   "source": [
    "## Metropolis Hastings algorithm\n",
    "\n",
    "To calculate the most likely parameters used to generate the scenarios, the Maximum Likelihood method is normaly used.\n",
    "This method could be used in this case since the normal distribution has a well known solution. However there are cases where the maximum likelihood estimator does not have a closed solution. \n",
    "\n",
    "What is required is to know a function that is able to tell, how much more likely is that the observed data came from one set of parameters as opposed to another set.\n",
    "\n",
    "A possible solution to this is to use the [Metropolis Hastings](https://en.wikipedia.org/wiki/Metropolis%E2%80%93Hastings_algorithm) algorithm. To directly quote Wikipedia:\n",
    "\n",
    "In statistics and statistical physics, the Metropolis–Hastings algorithm is a Markov chain Monte Carlo (MCMC) method for obtaining a sequence of random samples from a probability distribution from which direct sampling is difficult. This sequence can be used to approximate the distribution.\n",
    "\n",
    "<b> The distribution of interest is the distribution of most likely parameter combinations.</b>  \n",
    "\n",
    "If the likelihood function is corectly implemented, the distribution should peak at the parameter set, that was set up in the ESG run.\n"
   ]
  },
  {
   "cell_type": "code",
   "execution_count": 7,
   "id": "168358c0",
   "metadata": {},
   "outputs": [],
   "source": [
    "# Prior distribution\n",
    "prior_mean_1 = 0.2\n",
    "prior_mean_2 = 0.3\n",
    "prior_sd_1 = np.sqrt(0.2)\n",
    "prior_sd_2 = np.sqrt(0.2)\n",
    "\n",
    "# Proposal distribution\n",
    "proposal_sd_1 = np.sqrt(0.5)\n",
    "proposal_sd_2 = np.sqrt(0.2)\n",
    "\n",
    "data1 = np.log(sample_paths)\n",
    "data = data1.diff()[1:]"
   ]
  },
  {
   "cell_type": "markdown",
   "id": "29813f4d",
   "metadata": {},
   "source": [
    "Normal distribution; log likelihood function"
   ]
  },
  {
   "cell_type": "code",
   "execution_count": 8,
   "id": "c6dbf4a1",
   "metadata": {},
   "outputs": [],
   "source": [
    "def lnorm_lf(mu,sigma,x):\n",
    "# Log likelihood of a vector from the normal distribution\n",
    "    n = x.size\n",
    "    \n",
    "    out = -n/2 * np.log(2*np.pi)-n*np.log(sigma) -1/(2 * np.power(sigma,2))*np.sum((x-(mu-sigma**2 /2))**2)\n",
    "    return out\n"
   ]
  },
  {
   "cell_type": "markdown",
   "id": "159b884a",
   "metadata": {},
   "source": [
    "Normal distribution log likelihood function for the prior distribution"
   ]
  },
  {
   "cell_type": "code",
   "execution_count": 9,
   "id": "406a6b8c",
   "metadata": {},
   "outputs": [],
   "source": [
    "def norm_lf(mu,sigma,x):\n",
    "# Log likelihood of the normal distribution\n",
    "    n = 1\n",
    "    #n = x.size\n",
    "    out = -n/2*np.log(2*np.pi)-n*np.log(sigma)-1/2 * 1/np.power(sigma,2)*(x-mu)**2\n",
    "    return out"
   ]
  },
  {
   "cell_type": "code",
   "execution_count": 10,
   "id": "93892bf4",
   "metadata": {},
   "outputs": [],
   "source": [
    "NSteps = 100000\n",
    "result = np.zeros((NSteps,2))\n",
    "\n",
    "# Starting position\n",
    "muhatminus1 = 0.05\n",
    "sigmahatminus1 = 0.2\n",
    "\n",
    "# Acceptance vector\n",
    "u = np.log(np.random.uniform(0,1,NSteps))\n",
    "\n",
    "for step in range(0,NSteps):\n",
    "    muhat = np.random.normal(muhatminus1,proposal_sd_1)\n",
    "    sigmahat = np.random.normal(sigmahatminus1,proposal_sd_2)\n",
    "\n",
    "    if sigmahat<0:\n",
    "        sigmahat = -sigmahat\n",
    "\n",
    "    poslike = lnorm_lf(muhat,sigmahat,data.values)\n",
    "    neglike = lnorm_lf(muhatminus1,sigmahatminus1,data.values)\n",
    "        \n",
    "    poslognorm = poslike + norm_lf(prior_mean_1,prior_sd_1,muhat)+ norm_lf(prior_mean_2,prior_sd_2,sigmahat)\n",
    "    neglognorm = neglike + norm_lf(prior_mean_1,prior_sd_1,muhatminus1) + norm_lf(prior_mean_2,prior_sd_2,sigmahatminus1)    \n",
    "    \n",
    "    alpha = poslognorm - neglognorm\n",
    "#    u = np.log(np.random.uniform(0,1,1))\n",
    "\n",
    "    if u[step]>alpha:\n",
    "        result[step,:] = [muhatminus1, sigmahatminus1]\n",
    "\n",
    "    else:\n",
    "        result[step,:] = [muhat, sigmahat]\n",
    "        muhatminus1 = muhat\n",
    "        sigmahatminus1 = sigmahat\n"
   ]
  },
  {
   "cell_type": "code",
   "execution_count": 11,
   "id": "b82c66cc",
   "metadata": {},
   "outputs": [],
   "source": [
    "pdResult = pd.DataFrame(result,columns = ['mu','sigma'])"
   ]
  },
  {
   "cell_type": "code",
   "execution_count": 12,
   "id": "f1e9c619",
   "metadata": {},
   "outputs": [],
   "source": [
    "# Exclude 25% of samples to only include the samples with maximum likelihood and to mitigate  the effect of initial conditions\n",
    "RealStart = round(nScen*0.25)"
   ]
  },
  {
   "cell_type": "code",
   "execution_count": 13,
   "id": "141d588a",
   "metadata": {
    "scrolled": true
   },
   "outputs": [
    {
     "data": {
      "text/plain": [
       "(array([ 2059.,     0.,     0.,     0.,     0.,     0.,     0.,     0.,\n",
       "            0.,     0., 11035., 22658., 11961., 47702.,  4335.]),\n",
       " array([0.28658319, 0.28774653, 0.28890987, 0.29007321, 0.29123654,\n",
       "        0.29239988, 0.29356322, 0.29472656, 0.2958899 , 0.29705324,\n",
       "        0.29821658, 0.29937991, 0.30054325, 0.30170659, 0.30286993,\n",
       "        0.30403327]),\n",
       " <BarContainer object of 15 artists>)"
      ]
     },
     "execution_count": 13,
     "metadata": {},
     "output_type": "execute_result"
    },
    {
     "data": {
      "image/png": "[encoded data removed]",
      "text/plain": [
       "<Figure size 640x480 with 2 Axes>"
      ]
     },
     "metadata": {},
     "output_type": "display_data"
    }
   ],
   "source": [
    "fig, axs = plt.subplots(1, 2, sharey=True, tight_layout=True)\n",
    "\n",
    "# We can set the number of bins with the *bins* keyword argument.\n",
    "axs[0].hist(pdResult['mu'][RealStart:], bins=15)\n",
    "axs[1].hist(pdResult['sigma'][RealStart:], bins=15)"
   ]
  },
  {
   "cell_type": "code",
   "execution_count": 14,
   "id": "632cbd46",
   "metadata": {},
   "outputs": [],
   "source": [
    "estimatedParam = pdResult[RealStart:].mean(axis=0)"
   ]
  },
  {
   "cell_type": "code",
   "execution_count": 15,
   "id": "cb1f87e9",
   "metadata": {},
   "outputs": [
    {
     "name": "stdout",
     "output_type": "stream",
     "text": [
      "-0.03644812550122625\n"
     ]
    }
   ],
   "source": [
    "print((mu-estimatedParam[\"mu\"])/mu)"
   ]
  },
  {
   "cell_type": "code",
   "execution_count": 16,
   "id": "5f230f93",
   "metadata": {},
   "outputs": [
    {
     "name": "stdout",
     "output_type": "stream",
     "text": [
      "-0.0038050816106107352\n"
     ]
    }
   ],
   "source": [
    "print((sigma-estimatedParam[\"sigma\"])/sigma)"
   ]
  }
 ],
 "metadata": {
  "kernelspec": {
   "display_name": "Python 3 (ipykernel)",
   "language": "python",
   "name": "python3"
  },
  "language_info": {
   "codemirror_mode": {
    "name": "ipython",
    "version": 3
   },
   "file_extension": ".py",
   "mimetype": "text/x-python",
   "name": "python",
   "nbconvert_exporter": "python",
   "pygments_lexer": "ipython3",
   "version": "3.10.6"
  }
 },
 "nbformat": 4,
 "nbformat_minor": 5
}
