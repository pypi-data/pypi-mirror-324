{
 "cells": [
  {
   "cell_type": "code",
   "execution_count": 1,
   "id": "87dcd751-1366-4467-89a2-4cda1a483d97",
   "metadata": {},
   "outputs": [],
   "source": [
    "import cv2\n",
    "import csv\n",
    "import datetime\n",
    "import os\n",
    "import sys\n",
    "sys.path.append(\"..\")\n",
    "from viame2coco.viame2coco import *"
   ]
  },
  {
   "cell_type": "code",
   "execution_count": 2,
   "id": "a97a6033-2975-4da8-a752-b3eb779ddc48",
   "metadata": {},
   "outputs": [],
   "source": [
    "DATA = os.path.join('..','data')\n",
    "EXAMPLE_CSV = os.path.join(DATA, 'viame_video_output_2025_01_13.csv')\n",
    "EXAMPLE_VIDEO = os.path.join(DATA, 'viame_video_sample_2025_01_13.mp4')"
   ]
  },
  {
   "cell_type": "code",
   "execution_count": 3,
   "id": "19a733f1-fcd1-4682-8a88-27a0d67fd140",
   "metadata": {},
   "outputs": [
    {
     "name": "stdout",
     "output_type": "stream",
     "text": [
      "../data/viame_video_sample_2025_01_13.mp4.00.00.00.800000.jpg\n",
      "../data/viame_video_sample_2025_01_13.mp4.00.00.01.000000.jpg\n",
      "../data/viame_video_sample_2025_01_13.mp4.00.00.01.200000.jpg\n",
      "../data/viame_video_sample_2025_01_13.mp4.00.00.01.400000.jpg\n",
      "../data/viame_video_sample_2025_01_13.mp4.00.00.01.600000.jpg\n",
      "../data/viame_video_sample_2025_01_13.mp4.00.00.01.800000.jpg\n",
      "../data/viame_video_sample_2025_01_13.mp4.00.00.02.000000.jpg\n",
      "../data/viame_video_sample_2025_01_13.mp4.00.00.02.200000.jpg\n",
      "../data/viame_video_sample_2025_01_13.mp4.00.00.02.400000.jpg\n",
      "../data/viame_video_sample_2025_01_13.mp4.00.00.02.600000.jpg\n",
      "../data/viame_video_sample_2025_01_13.mp4.00.00.02.800000.jpg\n",
      "../data/viame_video_sample_2025_01_13.mp4.00.00.03.000000.jpg\n",
      "../data/viame_video_sample_2025_01_13.mp4.00.00.03.200000.jpg\n",
      "../data/viame_video_sample_2025_01_13.mp4.00.00.03.400000.jpg\n",
      "../data/viame_video_sample_2025_01_13.mp4.00.00.03.600000.jpg\n",
      "../data/viame_video_sample_2025_01_13.mp4.00.00.03.800000.jpg\n",
      "../data/viame_video_sample_2025_01_13.mp4.00.00.04.000000.jpg\n",
      "../data/viame_video_sample_2025_01_13.mp4.00.00.04.200000.jpg\n",
      "../data/viame_video_sample_2025_01_13.mp4.00.00.04.400000.jpg\n",
      "../data/viame_video_sample_2025_01_13.mp4.00.00.04.600000.jpg\n",
      "../data/viame_video_sample_2025_01_13.mp4.00.00.04.800000.jpg\n",
      "../data/viame_video_sample_2025_01_13.mp4.00.00.05.000000.jpg\n",
      "../data/viame_video_sample_2025_01_13.mp4.00.00.05.200000.jpg\n",
      "../data/viame_video_sample_2025_01_13.mp4.00.00.05.400000.jpg\n",
      "../data/viame_video_sample_2025_01_13.mp4.00.00.05.600000.jpg\n",
      "../data/viame_video_sample_2025_01_13.mp4.00.00.05.800000.jpg\n",
      "../data/viame_video_sample_2025_01_13.mp4.00.00.06.000000.jpg\n",
      "../data/viame_video_sample_2025_01_13.mp4.00.00.06.200000.jpg\n",
      "../data/viame_video_sample_2025_01_13.mp4.00.00.06.400000.jpg\n",
      "../data/viame_video_sample_2025_01_13.mp4.00.00.06.600000.jpg\n",
      "../data/viame_video_sample_2025_01_13.mp4.00.00.06.800000.jpg\n",
      "../data/viame_video_sample_2025_01_13.mp4.00.00.07.000000.jpg\n",
      "../data/viame_video_sample_2025_01_13.mp4.00.00.07.200000.jpg\n",
      "../data/viame_video_sample_2025_01_13.mp4.00.00.07.400000.jpg\n",
      "../data/viame_video_sample_2025_01_13.mp4.00.00.07.600000.jpg\n",
      "../data/viame_video_sample_2025_01_13.mp4.00.00.07.800000.jpg\n",
      "../data/viame_video_sample_2025_01_13.mp4.00.00.08.000000.jpg\n",
      "../data/viame_video_sample_2025_01_13.mp4.00.00.08.200000.jpg\n",
      "../data/viame_video_sample_2025_01_13.mp4.00.00.08.400000.jpg\n",
      "../data/viame_video_sample_2025_01_13.mp4.00.00.08.600000.jpg\n",
      "../data/viame_video_sample_2025_01_13.mp4.00.00.08.800000.jpg\n",
      "../data/viame_video_sample_2025_01_13.mp4.00.00.09.000000.jpg\n",
      "../data/viame_video_sample_2025_01_13.mp4.00.00.09.200000.jpg\n"
     ]
    }
   ],
   "source": [
    "coco = viame2coco(\n",
    "    EXAMPLE_CSV,\n",
    "    'pickles',\n",
    "    video_file=EXAMPLE_VIDEO\n",
    ")"
   ]
  },
  {
   "cell_type": "raw",
   "id": "138ff031-a124-4383-9db6-fd3cfe506b73",
   "metadata": {},
   "source": [
    "with open(EXAMPLE_CSV, 'r') as f:\n",
    "    reader = csv.reader(f)\n",
    "    blah = list(\n",
    "        extract_viame_video_annotations(reader, EXAMPLE_VIDEO)\n",
    "    )"
   ]
  },
  {
   "cell_type": "raw",
   "id": "d39bc41e-f85a-4af3-a3c6-8084b6fd131a",
   "metadata": {},
   "source": [
    "for row in blah:\n",
    "    print(row)"
   ]
  },
  {
   "cell_type": "code",
   "execution_count": null,
   "id": "1b73f026-fb2a-4bb4-80ca-01f755ad936f",
   "metadata": {},
   "outputs": [],
   "source": []
  },
  {
   "cell_type": "code",
   "execution_count": null,
   "id": "3234f082-5aa8-48ef-ad86-4d6ac65d6dc4",
   "metadata": {},
   "outputs": [],
   "source": []
  }
 ],
 "metadata": {
  "kernelspec": {
   "display_name": "Python 3 (ipykernel)",
   "language": "python",
   "name": "python3"
  },
  "language_info": {
   "codemirror_mode": {
    "name": "ipython",
    "version": 3
   },
   "file_extension": ".py",
   "mimetype": "text/x-python",
   "name": "python",
   "nbconvert_exporter": "python",
   "pygments_lexer": "ipython3",
   "version": "3.11.10"
  }
 },
 "nbformat": 4,
 "nbformat_minor": 5
}
