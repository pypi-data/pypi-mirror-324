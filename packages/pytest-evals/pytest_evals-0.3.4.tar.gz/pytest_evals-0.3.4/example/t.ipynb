{
 "cells": [
  {
   "metadata": {},
   "cell_type": "code",
   "outputs": [],
   "execution_count": null,
   "source": "%load_ext pytest_evals",
   "id": "ec80ea2a86a4bd55"
  },
  {
   "metadata": {},
   "cell_type": "code",
   "outputs": [],
   "execution_count": null,
   "source": [
    "%%ipytest_evals --run-eval\n",
    "from time import sleep\n",
    "\n",
    "import pytest\n",
    "\n",
    "\n",
    "@pytest.mark.eval(name=\"computer_classifier\")\n",
    "@pytest.mark.parametrize(\"n\", range(1,5))\n",
    "def test_classifier(n):\n",
    "    sleep(10*n)"
   ],
   "id": "7e540c467649a289"
  },
  {
   "metadata": {},
   "cell_type": "code",
   "outputs": [],
   "execution_count": null,
   "source": "",
   "id": "b7e2bf97100392a3"
  }
 ],
 "metadata": {},
 "nbformat": 5,
 "nbformat_minor": 9
}
