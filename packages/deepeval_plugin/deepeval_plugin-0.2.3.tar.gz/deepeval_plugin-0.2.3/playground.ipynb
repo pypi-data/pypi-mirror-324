{
 "cells": [
  {
   "cell_type": "markdown",
   "metadata": {},
   "source": [
    "# KitchenAI Playground\n",
    "This notebook uses the kitchenai environment so you can directly interact with it's bento boxes, plugins, apps, and other components. \n"
   ]
  },
  {
   "cell_type": "code",
   "execution_count": null,
   "metadata": {},
   "outputs": [],
   "source": [
    "from dj_notebook import activate\n",
    "import os \n",
    "\n",
    "os.environ[\"DJANGO_SETTINGS_MODULE\"] = \"kitchenai.settings\"\n",
    "\n",
    "plus = activate()"
   ]
  }
 ],
 "metadata": {
  "language_info": {
   "name": "python"
  }
 },
 "nbformat": 4,
 "nbformat_minor": 2
}
