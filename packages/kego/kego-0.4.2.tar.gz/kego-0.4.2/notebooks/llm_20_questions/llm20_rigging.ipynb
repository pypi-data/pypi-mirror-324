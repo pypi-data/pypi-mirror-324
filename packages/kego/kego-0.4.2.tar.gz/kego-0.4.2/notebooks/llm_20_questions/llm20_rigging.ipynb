{
 "cells": [
  {
   "cell_type": "markdown",
   "id": "dc5e605b-1308-4f8d-b08a-12ac2bc54300",
   "metadata": {},
   "source": [
    "# Attempt with Rigging"
   ]
  },
  {
   "cell_type": "code",
   "execution_count": null,
   "id": "552076b8",
   "metadata": {},
   "outputs": [],
   "source": [
    "%load_ext autoreload\n",
    "%autoreload 2"
   ]
  },
  {
   "cell_type": "markdown",
   "id": "fda2142b-2abf-47a3-bffb-16125650ca10",
   "metadata": {},
   "source": [
    "# Question Asker Agent"
   ]
  },
  {
   "cell_type": "code",
   "execution_count": null,
   "id": "5f3e418a",
   "metadata": {},
   "outputs": [],
   "source": [
    "# MODEL = \"gpt-4o\"\n",
    "MODEL = \"transformers!meta-llama/Meta-Llama-3-8B-Instruct,device_map=cuda:1,max_tokens=1024,load_in_4bit=True\""
   ]
  },
  {
   "cell_type": "code",
   "execution_count": null,
   "id": "64dcc698-b43d-44e7-978e-f495de2104b8",
   "metadata": {},
   "outputs": [],
   "source": [
    "import rigging as rg\n",
    "\n",
    "from IPython.display import display, clear_output\n",
    "\n",
    "import kego\n",
    "\n",
    "class AskerQuestion(rg.Model):\n",
    "    question: str"
   ]
  },
  {
   "cell_type": "code",
   "execution_count": null,
   "id": "6e892208-68e1-4d5a-9602-8fd564465405",
   "metadata": {},
   "outputs": [],
   "source": [
    "questions = []\n",
    "answers = []\n",
    "\n",
    "\n",
    "def get_model():\n",
    "    return rg.get_generator(MODEL)\n",
    "\n",
    "\n",
    "async def ask_next_question(questions, answers, model, verbose=False):\n",
    "    system_prompt = \"\"\"\n",
    "        You are playing the game 20 questions.\n",
    "            - Your task is to ask questions.\n",
    "            - These questions should try to quickly find the keyword.\n",
    "            - You will recieve back only yes or no responses.\n",
    "            - Note previous questions and their answers when creating your next question.\n",
    "            - Do not assume anything specific too soon. Only as questions that divide possible answers in two evenly split groups.\n",
    "            - The keyword will be a person, place or thing. Only ask questions related to these.\n",
    "            - Avoid asking the question: \"Is the thing you're thinking of something that can be held in your hand?\".\n",
    "    \"\"\"\n",
    "    assert len(questions) == len(answers)\n",
    "\n",
    "    prev_content = \"\"\n",
    "    for i, question in enumerate(questions):\n",
    "        prev_content += f\"question {i} <question>{question}</question> <answer>{answers[i]}</answer>\"\n",
    "\n",
    "    user_prompt = f\"\"\"\n",
    "        Previous questions and answers are:\n",
    "            {prev_content}\n",
    "        \n",
    "        Ask your question within the tag {AskerQuestion.xml_tags()}\n",
    "    \"\"\"\n",
    "    asker = (\n",
    "        await model\n",
    "        .chat(\n",
    "            [\n",
    "                {\"role\": \"system\", \"content\": system_prompt},\n",
    "                {\"role\": \"user\", \"content\": user_prompt},\n",
    "            ]\n",
    "        )\n",
    "        .run()\n",
    "    )\n",
    "    question = asker.last.parse(AskerQuestion).question\n",
    "    if verbose:\n",
    "        print(f\"=== Question {len(questions) + 1} ====\")\n",
    "        print(question)\n",
    "\n",
    "    return question"
   ]
  },
  {
   "cell_type": "code",
   "execution_count": null,
   "id": "9458889d",
   "metadata": {},
   "outputs": [],
   "source": [
    "model = get_model()"
   ]
  },
  {
   "cell_type": "code",
   "execution_count": null,
   "id": "b5a9ebfd",
   "metadata": {},
   "outputs": [],
   "source": [
    "kego.empty_gpu()\n",
    "kego.info_gpus()"
   ]
  },
  {
   "cell_type": "code",
   "execution_count": null,
   "id": "67c79d56",
   "metadata": {},
   "outputs": [],
   "source": [
    "# question = await ask_next_question(questions, answers, model=model)"
   ]
  },
  {
   "cell_type": "markdown",
   "id": "0ed3f01f-1aa6-4ba5-883b-bf9729fd82f3",
   "metadata": {},
   "source": [
    "# LLM Trying to Guess the Keyword \"Tom Hanks\""
   ]
  },
  {
   "cell_type": "code",
   "execution_count": null,
   "id": "f03b2db8-2c83-432c-838a-44a0b118e099",
   "metadata": {},
   "outputs": [],
   "source": [
    "# answer = \"no\"\n",
    "# questions.append(question)\n",
    "# answers.append(answer)\n",
    "# question = await ask_next_question(questions, answers, model=model)"
   ]
  },
  {
   "cell_type": "code",
   "execution_count": null,
   "id": "a26096db",
   "metadata": {},
   "outputs": [],
   "source": [
    "def print_info():\n",
    "    print(f\"{answers=}\")\n",
    "    print(f\"{questions=}\")\n",
    "print_info()"
   ]
  },
  {
   "cell_type": "code",
   "execution_count": null,
   "id": "66a25895",
   "metadata": {},
   "outputs": [],
   "source": [
    "# question"
   ]
  },
  {
   "cell_type": "code",
   "execution_count": null,
   "id": "5f7dbc91-f342-4937-a2ff-b5b41f8854a1",
   "metadata": {},
   "outputs": [],
   "source": [
    "# answer = \"no\"\n",
    "# questions.append(question)\n",
    "# answers.append(answer)\n",
    "# question = await ask_next_question(questions, answers, model=model)"
   ]
  },
  {
   "cell_type": "markdown",
   "id": "77947f00-12d2-4632-a55c-a61925273a07",
   "metadata": {},
   "source": [
    "# Create our Answerer Agent"
   ]
  },
  {
   "cell_type": "code",
   "execution_count": null,
   "id": "8ef894e7-d4a0-4610-840c-0714b693892b",
   "metadata": {},
   "outputs": [],
   "source": [
    "class YesNoAnswer(rg.Model):\n",
    "    \"Yes/No answer answer with coercion\"\n",
    "    answer: str\n",
    "\n",
    "\n",
    "async def get_agent_answer(keyword, question, model):\n",
    "    \n",
    "    system_prompt = f\"\"\"\n",
    "        You are playing the game 20 questions. You will be asked a question an must answer yes or no.\n",
    "        Note specifically\n",
    "        - Persons are living things.\n",
    "        The keyword you are answering for is {keyword}\n",
    "    \"\"\"\n",
    "    \n",
    "    user_prompt = f\"\"\"\n",
    "        The question is <question>{question}</question>\n",
    "    \n",
    "        Your response should be given between the tags {YesNoAnswer.xml_tags()}\n",
    "    \n",
    "        It should only be 'yes' or 'no'\n",
    "        \n",
    "        \"\"\"\n",
    "    \n",
    "    answerer = (\n",
    "        await model\n",
    "        .chat(\n",
    "            [\n",
    "                {\"role\": \"system\", \"content\": system_prompt},\n",
    "                {\"role\": \"user\", \"content\": user_prompt},\n",
    "            ]\n",
    "        )\n",
    "        .run()\n",
    "    )\n",
    "    \n",
    "    answer = answerer.last.parse(YesNoAnswer).answer\n",
    "    return answer"
   ]
  },
  {
   "cell_type": "code",
   "execution_count": null,
   "id": "f01793bc-da5f-46c5-a1be-0af71b6f75fb",
   "metadata": {},
   "outputs": [],
   "source": [
    "# keyword = 'Tom Hanks'\n",
    "# question = 'Is he a handsome lad?'\n",
    "# await get_agent_answer(keyword, question, model=model)"
   ]
  },
  {
   "cell_type": "markdown",
   "id": "cb940742-0bb6-4d18-b239-7dcd5dfb0650",
   "metadata": {},
   "source": [
    "# Guesser Agent"
   ]
  },
  {
   "cell_type": "code",
   "execution_count": null,
   "id": "30c4b915-d60f-4a0e-89f9-d10e07eb0915",
   "metadata": {},
   "outputs": [],
   "source": [
    "class Guess(rg.Model):\n",
    "    \"20 Questions guess\"\n",
    "    guess: str\n",
    "\n",
    "\n",
    "async def make_guess(questions : list, answers : list, guesses : list, model, verbose=False):\n",
    "    system_prompt = \"\"\"\n",
    "        You are playing the game 20 questions.\n",
    "            - Your task is to guess the keyword.\n",
    "            - Note previous questions and their answers when creating your guess\n",
    "            - The keyword will be a person, place or thing.\n",
    "    \"\"\"\n",
    "    assert len(questions) == len(answers)\n",
    "\n",
    "    prev_content = \"\"\n",
    "    for i, question in enumerate(questions):\n",
    "        prev_content += f\"question {i} <question>{question}</question> <answer>{answers[i]}</answer>\"\n",
    "\n",
    "    user_prompt = f\"\"\"\n",
    "        Previous questions and answers are:\n",
    "            {prev_content}\n",
    "\n",
    "        Previous Guesses are, do not repeat these:\n",
    "            {','.join(guesses)}\n",
    "        \n",
    "        You will now guess for the 20 question game.\n",
    "          - Be specific.\n",
    "          - Guess only a single thing.\n",
    "        \n",
    "          \n",
    "        Put the word for your guess in the following tag {Guess.xml_tags()}\n",
    "    \"\"\"\n",
    "    asker = await (\n",
    "        model\n",
    "        .chat(\n",
    "            [\n",
    "                {\"role\": \"system\", \"content\": system_prompt},\n",
    "                {\"role\": \"user\", \"content\": user_prompt},\n",
    "            ]\n",
    "        )\n",
    "        .run()\n",
    "    )\n",
    "\n",
    "    guess = asker.last.parse(Guess).guess\n",
    "    if verbose:\n",
    "        print(f\"=== Guess {len(questions) + 1} ====\")\n",
    "        print(guess)\n",
    "\n",
    "    return guess"
   ]
  },
  {
   "cell_type": "markdown",
   "id": "d6b57ddc-cdc3-413b-a3ce-626b23387193",
   "metadata": {},
   "source": [
    "# Lets let the Agents fight it out!!!"
   ]
  },
  {
   "cell_type": "code",
   "execution_count": null,
   "id": "3e7e5bf7-e54d-4420-8265-8e8d4a6dcba8",
   "metadata": {},
   "outputs": [],
   "source": [
    "import string\n",
    "\n",
    "def keyword_guessed(guess: str, keyword: str) -> bool:\n",
    "    def normalize(s: str) -> str:\n",
    "      t = str.maketrans(\"\", \"\", string.punctuation)\n",
    "      return s.lower().replace(\"the\", \"\").replace(\" \", \"\").translate(t)\n",
    "\n",
    "    if normalize(guess) == normalize(keyword):\n",
    "      return True\n",
    "    # for s in alts:\n",
    "    #   if normalize(s) == normalize(guess):\n",
    "    #     return True\n",
    "\n",
    "    return False\n"
   ]
  },
  {
   "cell_type": "code",
   "execution_count": null,
   "id": "77e44580-a445-4a4a-bd82-aadd0df04c90",
   "metadata": {},
   "outputs": [],
   "source": [
    "keyword = 'Tom Hanks'\n",
    "questions = []\n",
    "answers = []\n",
    "guesses = []\n",
    "max_questions = 40\n",
    "for i in range(max_questions):\n",
    "    print('=' * 20)\n",
    "    print(f'Round {i}')\n",
    "    question = await ask_next_question(questions, answers, model=model)\n",
    "    print(f'[Question]: {question}')\n",
    "    answer = await get_agent_answer(keyword, question, model=model)\n",
    "\n",
    "    print(f'[Answer]:   {answer}')\n",
    "    questions.append(question)\n",
    "    answers.append(answer)\n",
    "    guess = await make_guess(questions, answers, guesses, model=model)\n",
    "    guesses.append(guess)\n",
    "    print(f'[Guess]: {guess}')\n",
    "    if keyword_guessed(guess, keyword):\n",
    "        print('FOUND IT!!!! BIZNATCH!!!!!!')\n",
    "        break"
   ]
  }
 ],
 "metadata": {
  "kernelspec": {
   "display_name": "Python 3 (ipykernel)",
   "language": "python",
   "name": "python3"
  },
  "language_info": {
   "codemirror_mode": {
    "name": "ipython",
    "version": 3
   },
   "file_extension": ".py",
   "mimetype": "text/x-python",
   "name": "python",
   "nbconvert_exporter": "python",
   "pygments_lexer": "ipython3",
   "version": "3.10.12"
  }
 },
 "nbformat": 4,
 "nbformat_minor": 5
}
