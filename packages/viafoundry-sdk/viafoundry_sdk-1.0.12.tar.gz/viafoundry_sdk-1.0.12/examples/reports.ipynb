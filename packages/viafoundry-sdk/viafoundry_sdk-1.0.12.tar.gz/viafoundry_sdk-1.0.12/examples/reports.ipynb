{
 "cells": [
  {
   "cell_type": "code",
   "execution_count": 2,
   "metadata": {},
   "outputs": [],
   "source": [
    "from viafoundry.client import ViaFoundryClient\n",
    "import json\n"
   ]
  },
  {
   "cell_type": "code",
   "execution_count": 8,
   "metadata": {},
   "outputs": [],
   "source": [
    "# Make sure to authenticate it\n",
    "#client = ViaFoundryClient(\"/Users/alper/.viaprod\",  enable_session_history=True)\n",
    "client = ViaFoundryClient(\"/Users/alper/.vialocal\")\n",
    "# client.configure_auth(username=\"YOUR_USER\", password=\"YOUR_PASSWORD\", hostname=\"YOUR_VIA_HOST\")"
   ]
  },
  {
   "cell_type": "code",
   "execution_count": 9,
   "metadata": {},
   "outputs": [
    {
     "name": "stdout",
     "output_type": "stream",
     "text": [
      "Processes: ['Overall_Summary', 'Salmon_module', 'Bam_Quantify_Module_STAR', 'DE_module_RSEM', 'RSEM_module', 'Sequential_Mapping_Module', 'MultiQC']\n",
      "                                     id  processName  \\\n",
      "0  69b1232f-bfa1-4c99-96a1-cd30583af059  RSEM_module   \n",
      "1  c8198894-7c0d-462e-a44f-35190326683e  RSEM_module   \n",
      "2  9acfbf6e-a4ad-4d37-98e5-e8a6bfe6f3de  RSEM_module   \n",
      "3  36a6a76a-43ab-4f8c-a906-4a9036745efb  RSEM_module   \n",
      "\n",
      "                                     name extension  \\\n",
      "0     genes_expression_expected_count.tsv       tsv   \n",
      "1                genes_expression_tpm.tsv       tsv   \n",
      "2  isoforms_expression_expected_count.tsv       tsv   \n",
      "3             isoforms_expression_tpm.tsv       tsv   \n",
      "\n",
      "                                           file_path  fileSize  \\\n",
      "0   rsem_summary/genes_expression_expected_count.tsv     65181   \n",
      "1              rsem_summary/genes_expression_tpm.tsv     65639   \n",
      "2  rsem_summary/isoforms_expression_expected_coun...     99601   \n",
      "3           rsem_summary/isoforms_expression_tpm.tsv    100304   \n",
      "\n",
      "                                           routePath  \n",
      "0  /report-resources/91a88daba2c2467695b67f8375fb...  \n",
      "1  /report-resources/91a88daba2c2467695b67f8375fb...  \n",
      "2  /report-resources/91a88daba2c2467695b67f8375fb...  \n",
      "3  /report-resources/91a88daba2c2467695b67f8375fb...  \n"
     ]
    }
   ],
   "source": [
    "report_data = client.reports.fetch_report_data(report_id=\"1\")\n",
    "\n",
    "process_names = client.reports.get_process_names(report_data)\n",
    "print(\"Processes:\", process_names)\n",
    "filenames = client.reports.get_file_names(report_data, \"RSEM_module\")\n",
    "print(filenames)\n",
    "# We will use file_path to load the data\n"
   ]
  },
  {
   "cell_type": "code",
   "execution_count": 5,
   "metadata": {},
   "outputs": [
    {
     "name": "stdout",
     "output_type": "stream",
     "text": [
      "             gene                                         transcript  \\\n",
      "0       LINC02849                                  ENST00000650562.1   \n",
      "1         RPS4XP1                                  ENST00000482189.1   \n",
      "2      AC012184.1                                  ENST00000566960.1   \n",
      "3       RN7SKP245                                  ENST00000364025.1   \n",
      "4         SNORD1B                                  ENST00000363091.1   \n",
      "...           ...                                                ...   \n",
      "60586      CDKN2C  ENST00000262662.5,ENST00000371761.4,ENST000003...   \n",
      "60587       RIMS2  ENST00000262231.14,ENST00000339750.3,ENST00000...   \n",
      "60588      P2RY10  ENST00000171757.3,ENST00000461541.5,ENST000004...   \n",
      "60589  AP004607.7                                  ENST00000527152.1   \n",
      "60590  AC008708.1                                  ENST00000517346.1   \n",
      "\n",
      "       LPS_1h_rep1  LPS_1h_rep2  ctrl_0h_rep1  ctrl_0h_rep2  \n",
      "0              1.0          0.0           0.0           0.0  \n",
      "1              1.0          2.0           3.0           3.0  \n",
      "2              0.0          0.0           0.0           0.0  \n",
      "3              0.0          0.0           0.0           0.0  \n",
      "4              0.0          0.0           0.0           0.0  \n",
      "...            ...          ...           ...           ...  \n",
      "60586         16.0         19.0          24.0           7.0  \n",
      "60587          0.0          0.0           0.0           0.0  \n",
      "60588          2.0         16.0          13.0          10.0  \n",
      "60589          0.0          0.0           0.0           0.0  \n",
      "60590          0.0          0.0           0.0           0.0  \n",
      "\n",
      "[60591 rows x 6 columns]\n"
     ]
    }
   ],
   "source": [
    "rsem_data = client.reports.load_file(report_data, \"rsem_summary/genes_expression_expected_count.tsv\")\n",
    "# To download the file you can use the line below.\n",
    "# client.reports.download_file(report_data, \"rsem_summary/genes_expression_expected_count.tsv\")\n",
    "\n",
    "print(rsem_data)"
   ]
  },
  {
   "cell_type": "code",
   "execution_count": 6,
   "metadata": {},
   "outputs": [
    {
     "name": "stdout",
     "output_type": "stream",
     "text": [
      "Directories: {'rsem_summary', 'multiqc', 'summary', 'kallisto_count', 'featureCounts_after_STAR_details', 'featureCounts_after_STAR_summary'}\n"
     ]
    }
   ],
   "source": [
    "directories = client.reports.get_report_dirs(report_id=\"2523\")\n",
    "print(\"Directories:\", directories)"
   ]
  },
  {
   "cell_type": "code",
   "execution_count": 46,
   "metadata": {},
   "outputs": [
    {
     "data": {
      "image/png": "[encoded data removed]",
      "text/plain": [
       "<Figure size 1000x600 with 1 Axes>"
      ]
     },
     "metadata": {},
     "output_type": "display_data"
    }
   ],
   "source": [
    "# prompt: Write a script to Create a scatter plot using rsem_data by getting the average of LPS vs ctrl columns in ligth grey and log Scale. The column prefixes are LPS and ctrl. Make sure to complete full column name yourself to get average for each condition. And save the file as plot.png\n",
    "\n",
    "import pandas as pd\n",
    "import matplotlib.pyplot as plt\n",
    "\n",
    "# Assuming rsem_data is a pandas DataFrame\n",
    "# Calculate the average of LPS and ctrl columns\n",
    "lps_cols = [col for col in rsem_data.columns if col.startswith('LPS')]\n",
    "ctrl_cols = [col for col in rsem_data.columns if col.startswith('ctrl')]\n",
    "\n",
    "if not lps_cols or not ctrl_cols:\n",
    "    print(\"No LPS or ctrl columns found in the data.\")\n",
    "else:\n",
    "    rsem_data['LPS_avg'] = rsem_data[lps_cols].mean(axis=1)\n",
    "    rsem_data['ctrl_avg'] = rsem_data[ctrl_cols].mean(axis=1)\n",
    "\n",
    "    # Create the scatter plot\n",
    "    plt.figure(figsize=(10, 6))\n",
    "    plt.scatter(rsem_data['ctrl_avg'], rsem_data['LPS_avg'], color='lightgrey')\n",
    "    plt.xlabel('Average ctrl Expression', fontsize=12)\n",
    "    plt.ylabel('Average LPS Expression', fontsize=12)\n",
    "    plt.title('LPS vs ctrl Expression', fontsize=14)\n",
    "    plt.xscale('log')\n",
    "    plt.yscale('log')\n",
    "    plt.savefig('plot.png')\n",
    "    plt.show()"
   ]
  },
  {
   "cell_type": "code",
   "execution_count": null,
   "metadata": {},
   "outputs": [
    {
     "ename": "RuntimeError",
     "evalue": "Error 602: Failed to upload file to report: [Errno 2] No such file or directory: 'examples/plot.png'",
     "output_type": "error",
     "traceback": [
      "\u001b[0;31m---------------------------------------------------------------------------\u001b[0m",
      "\u001b[0;31mFileNotFoundError\u001b[0m                         Traceback (most recent call last)",
      "File \u001b[0;32m~/workdir/docker_work/Foundry/viafoundry-sdk/viafoundry/reports.py:183\u001b[0m, in \u001b[0;36mReports.upload_report_file\u001b[0;34m(self, report_id, local_file_path, dir)\u001b[0m\n\u001b[1;32m    182\u001b[0m \u001b[38;5;66;03m# Open the file in binary mode\u001b[39;00m\n\u001b[0;32m--> 183\u001b[0m \u001b[38;5;28;01mwith\u001b[39;00m \u001b[38;5;28;43mopen\u001b[39;49m\u001b[43m(\u001b[49m\u001b[43mlocal_file_path\u001b[49m\u001b[43m,\u001b[49m\u001b[43m \u001b[49m\u001b[38;5;124;43m\"\u001b[39;49m\u001b[38;5;124;43mrb\u001b[39;49m\u001b[38;5;124;43m\"\u001b[39;49m\u001b[43m)\u001b[49m \u001b[38;5;28;01mas\u001b[39;00m file:\n\u001b[1;32m    184\u001b[0m     files \u001b[38;5;241m=\u001b[39m {\u001b[38;5;124m\"\u001b[39m\u001b[38;5;124mfile\u001b[39m\u001b[38;5;124m\"\u001b[39m: (local_file_path\u001b[38;5;241m.\u001b[39msplit(\u001b[38;5;124m\"\u001b[39m\u001b[38;5;124m/\u001b[39m\u001b[38;5;124m\"\u001b[39m)[\u001b[38;5;241m-\u001b[39m\u001b[38;5;241m1\u001b[39m], file, mime_type)}\n",
      "\u001b[0;31mFileNotFoundError\u001b[0m: [Errno 2] No such file or directory: 'examples/plot.png'",
      "\nDuring handling of the above exception, another exception occurred:\n",
      "\u001b[0;31mRuntimeError\u001b[0m                              Traceback (most recent call last)",
      "Cell \u001b[0;32mIn[11], line 1\u001b[0m\n\u001b[0;32m----> 1\u001b[0m response \u001b[38;5;241m=\u001b[39m \u001b[43mclient\u001b[49m\u001b[38;5;241;43m.\u001b[39;49m\u001b[43mreports\u001b[49m\u001b[38;5;241;43m.\u001b[39;49m\u001b[43mupload_report_file\u001b[49m\u001b[43m(\u001b[49m\n\u001b[1;32m      2\u001b[0m \u001b[43m    \u001b[49m\u001b[43mreport_id\u001b[49m\u001b[38;5;241;43m=\u001b[39;49m\u001b[38;5;124;43m\"\u001b[39;49m\u001b[38;5;124;43m1\u001b[39;49m\u001b[38;5;124;43m\"\u001b[39;49m\u001b[43m,\u001b[49m\n\u001b[1;32m      3\u001b[0m \u001b[43m    \u001b[49m\u001b[43mlocal_file_path\u001b[49m\u001b[38;5;241;43m=\u001b[39;49m\u001b[38;5;124;43m\"\u001b[39;49m\u001b[38;5;124;43mexamples/plot.png\u001b[39;49m\u001b[38;5;124;43m\"\u001b[39;49m\u001b[43m,\u001b[49m\n\u001b[1;32m      4\u001b[0m \u001b[43m    \u001b[49m\u001b[38;5;28;43mdir\u001b[39;49m\u001b[38;5;241;43m=\u001b[39;49m\u001b[38;5;124;43m\"\u001b[39;49m\u001b[38;5;124;43msummary\u001b[39;49m\u001b[38;5;124;43m\"\u001b[39;49m\n\u001b[1;32m      5\u001b[0m \u001b[43m)\u001b[49m\n\u001b[1;32m      6\u001b[0m \u001b[38;5;28mprint\u001b[39m(\u001b[38;5;124m\"\u001b[39m\u001b[38;5;124mUpload Response:\u001b[39m\u001b[38;5;124m\"\u001b[39m, response)\n",
      "File \u001b[0;32m~/workdir/docker_work/Foundry/viafoundry-sdk/viafoundry/reports.py:192\u001b[0m, in \u001b[0;36mReports.upload_report_file\u001b[0;34m(self, report_id, local_file_path, dir)\u001b[0m\n\u001b[1;32m    190\u001b[0m     \u001b[38;5;28;01mreturn\u001b[39;00m response\n\u001b[1;32m    191\u001b[0m \u001b[38;5;28;01mexcept\u001b[39;00m \u001b[38;5;167;01mException\u001b[39;00m \u001b[38;5;28;01mas\u001b[39;00m e:\n\u001b[0;32m--> 192\u001b[0m     \u001b[38;5;28;43mself\u001b[39;49m\u001b[38;5;241;43m.\u001b[39;49m\u001b[43m_raise_error\u001b[49m\u001b[43m(\u001b[49m\u001b[38;5;241;43m602\u001b[39;49m\u001b[43m,\u001b[49m\u001b[43m \u001b[49m\u001b[38;5;124;43mf\u001b[39;49m\u001b[38;5;124;43m\"\u001b[39;49m\u001b[38;5;124;43mFailed to upload file to report: \u001b[39;49m\u001b[38;5;132;43;01m{\u001b[39;49;00m\u001b[43me\u001b[49m\u001b[38;5;132;43;01m}\u001b[39;49;00m\u001b[38;5;124;43m\"\u001b[39;49m\u001b[43m)\u001b[49m\n",
      "File \u001b[0;32m~/workdir/docker_work/Foundry/viafoundry-sdk/viafoundry/reports.py:154\u001b[0m, in \u001b[0;36mReports._raise_error\u001b[0;34m(self, code, message)\u001b[0m\n\u001b[1;32m    152\u001b[0m \u001b[38;5;250m\u001b[39m\u001b[38;5;124;03m\"\"\"Raise a categorized error with a specific code and message.\"\"\"\u001b[39;00m\n\u001b[1;32m    153\u001b[0m logging\u001b[38;5;241m.\u001b[39merror(\u001b[38;5;124mf\u001b[39m\u001b[38;5;124m\"\u001b[39m\u001b[38;5;124mError \u001b[39m\u001b[38;5;132;01m{\u001b[39;00mcode\u001b[38;5;132;01m}\u001b[39;00m\u001b[38;5;124m: \u001b[39m\u001b[38;5;132;01m{\u001b[39;00mmessage\u001b[38;5;132;01m}\u001b[39;00m\u001b[38;5;124m\"\u001b[39m)  \u001b[38;5;66;03m# Log the error\u001b[39;00m\n\u001b[0;32m--> 154\u001b[0m \u001b[38;5;28;01mraise\u001b[39;00m \u001b[38;5;167;01mRuntimeError\u001b[39;00m(\u001b[38;5;124mf\u001b[39m\u001b[38;5;124m\"\u001b[39m\u001b[38;5;124mError \u001b[39m\u001b[38;5;132;01m{\u001b[39;00mcode\u001b[38;5;132;01m}\u001b[39;00m\u001b[38;5;124m: \u001b[39m\u001b[38;5;132;01m{\u001b[39;00mmessage\u001b[38;5;132;01m}\u001b[39;00m\u001b[38;5;124m\"\u001b[39m)\n",
      "\u001b[0;31mRuntimeError\u001b[0m: Error 602: Failed to upload file to report: [Errno 2] No such file or directory: 'examples/plot.png'"
     ]
    }
   ],
   "source": [
    "response = client.reports.upload_report_file(\n",
    "    report_id=\"1\",\n",
    "    local_file_path=\"examples/plot.png\",\n",
    "    dir=\"summary\"\n",
    ")\n",
    "print(\"Upload Response:\", response)"
   ]
  },
  {
   "cell_type": "code",
   "execution_count": null,
   "metadata": {},
   "outputs": [
    {
     "name": "stdout",
     "output_type": "stream",
     "text": [
      "Overwriting file.\n"
     ]
    }
   ],
   "source": [
    "response = client.reports.upload_session_history(\n",
    "    report_id=\"2523\",\n",
    "    dir=\"summary\"\n",
    ")"
   ]
  },
  {
   "cell_type": "markdown",
   "metadata": {},
   "source": []
  },
  {
   "cell_type": "code",
   "execution_count": 21,
   "metadata": {},
   "outputs": [
    {
     "name": "stdout",
     "output_type": "stream",
     "text": [
      "from viafoundry.client import ViaFoundryClient\n",
      "import json\n",
      "import getpass\n",
      "# Make sure to authenticate it\n",
      "client = ViaFoundryClient(\"/Users/alper/.viaprod\")\n",
      "# client.configure_auth(username=\"YOUR_USER\", password=\"YOUR_PASSWORD\", hostname=\"YOUR_VIA_HOST\")\n",
      "report_data = client.reports.fetch_report_data(report_id=\"2523\")\n",
      "\n",
      "process_names = client.reports.get_process_names(report_data)\n",
      "print(\"Processes:\", process_names)\n",
      "filenames = client.reports.get_file_names(report_data, \"RSEM_module\")\n",
      "print(filenames[[\"file_path\",\"fileSize\"]])\n",
      "# We will use file_path to load the data\n",
      "rsem_data = client.reports.load_file(report_data, \"rsem_summary/genes_expression_expected_count.tsv\")\n",
      "# To download the file you can use the line below.\n",
      "# client.reports.download_file(report_data, \"rsem_summary/genes_expression_expected_count.tsv\")\n",
      "\n",
      "print(rsem_data)\n",
      "directories = client.reports.get_report_dirs(report_id=\"2523\")\n",
      "print(\"Directories:\", directories)\n",
      "# prompt: Write a script to Create a scatter plot using rsem_data by getting the average of LPS vs ctrl columns in ligth grey and log Scale. The column prefixes are LPS and ctrl. Make sure to complete full column name yourself to get average for each condition. And save the file as plot.png\n",
      "\n",
      "import pandas as pd\n",
      "import matplotlib.pyplot as plt\n",
      "\n",
      "# Assuming rsem_data is a pandas DataFrame\n",
      "# Calculate the average of LPS and ctrl columns\n",
      "lps_cols = [col for col in rsem_data.columns if col.startswith('LPS')]\n",
      "ctrl_cols = [col for col in rsem_data.columns if col.startswith('ctrl')]\n",
      "\n",
      "if not lps_cols or not ctrl_cols:\n",
      "    print(\"No LPS or ctrl columns found in the data.\")\n",
      "else:\n",
      "    rsem_data['LPS_avg'] = rsem_data[lps_cols].mean(axis=1)\n",
      "    rsem_data['ctrl_avg'] = rsem_data[ctrl_cols].mean(axis=1)\n",
      "\n",
      "    # Create the scatter plot\n",
      "    plt.figure(figsize=(10, 6))\n",
      "    plt.scatter(rsem_data['ctrl_avg'], rsem_data['LPS_avg'], color='lightgrey')\n",
      "    plt.xlabel('Average ctrl Expression', fontsize=12)\n",
      "    plt.ylabel('Average LPS Expression', fontsize=12)\n",
      "    plt.title('LPS vs ctrl Expression', fontsize=14)\n",
      "    plt.xscale('log')\n",
      "    plt.yscale('log')\n",
      "    plt.savefig('plot.png')\n",
      "    plt.show()\n",
      "response = client.reports.upload_report_file(\n",
      "    report_id=\"2523\",\n",
      "    local_file_path=\"example/plot.png\",\n",
      "    dir=\"kallisto_count\"\n",
      ")\n",
      "print(\"Upload Response:\", response)\n",
      "response = client.reports.upload_report_file(\n",
      "    report_id=\"2523\",\n",
      "    local_file_path=\"plot.png\",\n",
      "    dir=\"kallisto_count\"\n",
      ")\n",
      "print(\"Upload Response:\", response)\n",
      "from viafoundry.client import ViaFoundryClient\n",
      "import json\n",
      "# Make sure to authenticate it\n",
      "client = ViaFoundryClient(\"/Users/alper/.viaprod\")\n",
      "# client.configure_auth(username=\"YOUR_USER\", password=\"YOUR_PASSWORD\", hostname=\"YOUR_VIA_HOST\")\n",
      "# Make sure to authenticate it\n",
      "client = ViaFoundryClient(\"/Users/alper/.viaprod\")\n",
      "# client.configure_auth(username=\"YOUR_USER\", password=\"YOUR_PASSWORD\", hostname=\"YOUR_VIA_HOST\")\n",
      "# Make sure to authenticate it\n",
      "client = ViaFoundryClient(\"/Users/alper/.viaprod\")\n",
      "# client.configure_auth(username=\"YOUR_USER\", password=\"YOUR_PASSWORD\", hostname=\"YOUR_VIA_HOST\")\n",
      "# Make sure to authenticate it\n",
      "client = ViaFoundryClient(\"/Users/alper/.viaprod\")\n",
      "# client.configure_auth(username=\"YOUR_USER\", password=\"YOUR_PASSWORD\", hostname=\"YOUR_VIA_HOST\")\n",
      "report_data = client.reports.fetch_report_data(report_id=\"2523\")\n",
      "\n",
      "process_names = client.reports.get_process_names(report_data)\n",
      "print(\"Processes:\", process_names)\n",
      "filenames = client.reports.get_file_names(report_data, \"RSEM_module\")\n",
      "print(filenames[[\"file_path\",\"fileSize\"]])\n",
      "# We will use file_path to load the data\n",
      "rsem_data = client.reports.load_file(report_data, \"rsem_summary/genes_expression_expected_count.tsv\")\n",
      "# To download the file you can use the line below.\n",
      "# client.reports.download_file(report_data, \"rsem_summary/genes_expression_expected_count.tsv\")\n",
      "\n",
      "print(rsem_data)\n",
      "directories = client.reports.get_report_dirs(report_id=\"2523\")\n",
      "print(\"Directories:\", directories)\n",
      "# prompt: Write a script to Create a scatter plot using rsem_data by getting the average of LPS vs ctrl columns in ligth grey and log Scale. The column prefixes are LPS and ctrl. Make sure to complete full column name yourself to get average for each condition. And save the file as plot.png\n",
      "\n",
      "import pandas as pd\n",
      "import matplotlib.pyplot as plt\n",
      "\n",
      "# Assuming rsem_data is a pandas DataFrame\n",
      "# Calculate the average of LPS and ctrl columns\n",
      "lps_cols = [col for col in rsem_data.columns if col.startswith('LPS')]\n",
      "ctrl_cols = [col for col in rsem_data.columns if col.startswith('ctrl')]\n",
      "\n",
      "if not lps_cols or not ctrl_cols:\n",
      "    print(\"No LPS or ctrl columns found in the data.\")\n",
      "else:\n",
      "    rsem_data['LPS_avg'] = rsem_data[lps_cols].mean(axis=1)\n",
      "    rsem_data['ctrl_avg'] = rsem_data[ctrl_cols].mean(axis=1)\n",
      "\n",
      "    # Create the scatter plot\n",
      "    plt.figure(figsize=(10, 6))\n",
      "    plt.scatter(rsem_data['ctrl_avg'], rsem_data['LPS_avg'], color='lightgrey')\n",
      "    plt.xlabel('Average ctrl Expression', fontsize=12)\n",
      "    plt.ylabel('Average LPS Expression', fontsize=12)\n",
      "    plt.title('LPS vs ctrl Expression', fontsize=14)\n",
      "    plt.xscale('log')\n",
      "    plt.yscale('log')\n",
      "    plt.savefig('plot.png')\n",
      "    plt.show()\n",
      "response = client.reports.upload_report_file(\n",
      "    report_id=\"2523\",\n",
      "    local_file_path=\"plot.png\",\n",
      "    dir=\"kallisto_count\"\n",
      ")\n",
      "print(\"Upload Response:\", response)\n",
      "%history\n",
      "# prompt: Write a script to Create a scatter plot using rsem_data by getting the average of LPS vs ctrl columns in ligth grey and log Scale. The column prefixes are LPS and ctrl. Make sure to complete full column name yourself to get average for each condition. And save the file as plot.png\n",
      "\n",
      "import pandas as pd\n",
      "import matplotlib.pyplot as plt\n",
      "\n",
      "# Assuming rsem_data is a pandas DataFrame\n",
      "# Calculate the average of LPS and ctrl columns\n",
      "lps_cols = [col for col in rsem_data.columns if col.startswith('LPS')]\n",
      "ctrl_cols = [col for col in rsem_data.columns if col.startswith('ctrl')]\n",
      "\n",
      "if not lps_cols or not ctrl_cols:\n",
      "    print(\"No LPS or ctrl columns found in the data.\")\n",
      "else:\n",
      "    rsem_data['LPS_avg'] = rsem_data[lps_cols].mean(axis=1)\n",
      "    rsem_data['ctrl_avg'] = rsem_data[ctrl_cols].mean(axis=1)\n",
      "\n",
      "    # Create the scatter plot\n",
      "    plt.figure(figsize=(10, 6))\n",
      "    plt.scatter(rsem_data['ctrl_avg'], rsem_data['LPS_avg'], color='lightgrey')\n",
      "    plt.xlabel('Average ctrl Expression', fontsize=12)\n",
      "    plt.ylabel('Average LPS Expression', fontsize=12)\n",
      "    plt.title('LPS vs ctrl Expression', fontsize=14)\n",
      "    plt.xscale('log')\n",
      "    plt.yscale('log')\n",
      "    plt.savefig('plot.png')\n",
      "    plt.show()\n",
      "%history\n"
     ]
    }
   ],
   "source": [
    "%history"
   ]
  }
 ],
 "metadata": {
  "kernelspec": {
   "display_name": "Python 3",
   "language": "python",
   "name": "python3"
  },
  "language_info": {
   "codemirror_mode": {
    "name": "ipython",
    "version": 3
   },
   "file_extension": ".py",
   "mimetype": "text/x-python",
   "name": "python",
   "nbconvert_exporter": "python",
   "pygments_lexer": "ipython3",
   "version": "3.11.3"
  }
 },
 "nbformat": 4,
 "nbformat_minor": 2
}
