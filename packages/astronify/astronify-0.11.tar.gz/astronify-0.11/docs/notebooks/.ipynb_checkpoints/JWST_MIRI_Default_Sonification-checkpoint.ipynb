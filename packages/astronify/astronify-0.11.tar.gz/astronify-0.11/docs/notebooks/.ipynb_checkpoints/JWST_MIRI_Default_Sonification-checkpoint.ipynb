{
 "cells": [
  {
   "cell_type": "markdown",
   "id": "5bfcbeba",
   "metadata": {},
   "source": [
    "# We will download a MIRI 1D spectrum, plot it, and sonify it with default `astronify` configurations."
   ]
  },
  {
   "cell_type": "code",
   "execution_count": null,
   "id": "0fe4e8ad",
   "metadata": {},
   "outputs": [],
   "source": [
    "from astronify.series import SoniSeries\n",
    "from astroquery.mast import Observations\n",
    "from astropy.io import fits\n",
    "from astropy.table import QTable\n",
    "import matplotlib.pyplot as plt"
   ]
  },
  {
   "cell_type": "markdown",
   "id": "60ced11f",
   "metadata": {},
   "source": [
    "## First we need to download the data.  We are going to look for a specific file from a specific observation: jw01246-o051_t004_miri_ch2-short_x1d.fits"
   ]
  },
  {
   "cell_type": "code",
   "execution_count": null,
   "id": "6810d7d2",
   "metadata": {},
   "outputs": [],
   "source": [
    "obs_table = Observations.query_criteria(\n",
    "    obs_id=\"jw01246-o051_t004_miri_ch2-short\")"
   ]
  },
  {
   "cell_type": "code",
   "execution_count": null,
   "id": "93376369",
   "metadata": {},
   "outputs": [],
   "source": [
    "data_products = Observations.get_product_list(obs_table)"
   ]
  },
  {
   "cell_type": "code",
   "execution_count": null,
   "id": "af922b76",
   "metadata": {},
   "outputs": [],
   "source": [
    "manifest = Observations.download_products(data_products, productSubGroupDescription='X1D', mrp_only=True)"
   ]
  },
  {
   "cell_type": "code",
   "execution_count": null,
   "id": "6c770b88",
   "metadata": {},
   "outputs": [],
   "source": [
    "local_file = manifest['Local Path'][0]"
   ]
  },
  {
   "cell_type": "markdown",
   "id": "2b8e6549",
   "metadata": {},
   "source": [
    "## Read in the combined 1-D spectrum."
   ]
  },
  {
   "cell_type": "code",
   "execution_count": null,
   "id": "d695c1cf",
   "metadata": {},
   "outputs": [],
   "source": [
    "with fits.open(local_file, mode=\"readonly\") as hdulist:\n",
    "    header = hdulist[1].header\n",
    "    data = hdulist[1].data"
   ]
  },
  {
   "cell_type": "code",
   "execution_count": null,
   "id": "e42f7bc5",
   "metadata": {},
   "outputs": [],
   "source": [
    "wls = data['WAVELENGTH']\n",
    "fluxes = data['FLUX']"
   ]
  },
  {
   "cell_type": "markdown",
   "id": "e42ff8f6",
   "metadata": {},
   "source": [
    "## Make a plot of the data."
   ]
  },
  {
   "cell_type": "code",
   "execution_count": null,
   "id": "ba6760f8",
   "metadata": {},
   "outputs": [],
   "source": [
    "plt.plot(wls, fluxes, '-k')\n",
    "plt.xlabel('Wavelength (micron)')\n",
    "plt.ylabel('Flux (Jy)')\n",
    "plt.show()"
   ]
  },
  {
   "cell_type": "markdown",
   "id": "1dee0936",
   "metadata": {},
   "source": [
    "## Make a sonification using default configurations."
   ]
  },
  {
   "cell_type": "code",
   "execution_count": null,
   "id": "73624713",
   "metadata": {},
   "outputs": [],
   "source": [
    "# First we make an Astropy table of wavelength and flux to send to SoniSeries.\n",
    "data_table = QTable([wls, fluxes], names=('Wavelength', 'Flux'))"
   ]
  },
  {
   "cell_type": "code",
   "execution_count": null,
   "id": "ee28244e",
   "metadata": {},
   "outputs": [],
   "source": [
    "soni_obj = SoniSeries(data_table, time_col=\"Wavelength\", val_col=\"Flux\")"
   ]
  },
  {
   "cell_type": "code",
   "execution_count": null,
   "id": "acf63f21",
   "metadata": {},
   "outputs": [],
   "source": [
    "soni_obj.sonify()"
   ]
  },
  {
   "cell_type": "code",
   "execution_count": null,
   "id": "3e852a89",
   "metadata": {},
   "outputs": [],
   "source": [
    "soni_obj.play()"
   ]
  }
 ],
 "metadata": {
  "kernelspec": {
   "display_name": "Python 3 (ipykernel)",
   "language": "python",
   "name": "python3"
  },
  "language_info": {
   "codemirror_mode": {
    "name": "ipython",
    "version": 3
   },
   "file_extension": ".py",
   "mimetype": "text/x-python",
   "name": "python",
   "nbconvert_exporter": "python",
   "pygments_lexer": "ipython3",
   "version": "3.8.13"
  }
 },
 "nbformat": 4,
 "nbformat_minor": 5
}
