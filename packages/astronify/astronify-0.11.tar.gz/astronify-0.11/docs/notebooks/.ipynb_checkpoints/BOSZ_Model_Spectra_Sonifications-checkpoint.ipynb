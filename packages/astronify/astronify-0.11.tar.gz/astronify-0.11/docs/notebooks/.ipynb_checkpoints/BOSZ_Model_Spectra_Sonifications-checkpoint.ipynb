{
 "cells": [
  {
   "cell_type": "markdown",
   "id": "2e9f8973",
   "metadata": {},
   "source": [
    "## Plot three different spectra from the BOSZ stellar library: roughly equivalent to an O, G, and M dwarf."
   ]
  },
  {
   "cell_type": "markdown",
   "id": "3ed53f5f",
   "metadata": {},
   "source": [
    "First we read in the data files, we need to take them directly from a URL because they are not in Portal."
   ]
  },
  {
   "cell_type": "code",
   "execution_count": null,
   "id": "f9c4bacf",
   "metadata": {},
   "outputs": [],
   "source": [
    "from astronify.series import SoniSeries\n",
    "from astropy.io import fits\n",
    "from astropy.table import QTable\n",
    "import math\n",
    "import matplotlib.pyplot as plt\n",
    "import numpy as np\n",
    "import os\n",
    "import time"
   ]
  },
  {
   "cell_type": "code",
   "execution_count": null,
   "id": "ecbeba9b",
   "metadata": {},
   "outputs": [],
   "source": [
    "url_root = \"http://archive.stsci.edu/missions/hlsp/bosz/fits/insbroad_000200/\"\n",
    "files_to_read = [\n",
    "    url_root + \"metal_+0.00/carbon_+0.00/alpha_+0.00/amp00cp00op00t3500g45v20modrt0b200rs.fits\",\n",
    "    url_root + \"metal_+0.00/carbon_+0.00/alpha_+0.00/amp00cp00op00t5750g45v20modrt0b200rs.fits\",\n",
    "    url_root + \"metal_+0.00/carbon_+0.00/alpha_+0.00/amp00cp00op00t25000g45v20modrt0b200rs.fits\"]\n",
    "stypes = [\"M star\", \"G star\", \"O star\"]"
   ]
  },
  {
   "cell_type": "code",
   "execution_count": null,
   "id": "93823357",
   "metadata": {},
   "outputs": [],
   "source": [
    "# Read in each FITS file and make a static, visual plot.  Play the sonification.\n",
    "for file, stype in zip(files_to_read, stypes):\n",
    "    with fits.open(file, mode=\"readonly\") as hdulist:\n",
    "        data = hdulist[1].data\n",
    "        \n",
    "    wls = data['Wavelength']\n",
    "    surface_brightnesses = data['SpecificIntensity']\n",
    "    fluxes = math.pi * surface_brightnesses\n",
    "    \n",
    "    # Extract the temperature value from the name of the model file.\n",
    "    teff_val = file.split('/')[-1][14:18]\n",
    "    # BOSZ stores high temperature as 4 digits even though they are actually five digits...\n",
    "    if teff_val == '2500':\n",
    "        teff_val = '25000'\n",
    "    \n",
    "    # Keep only the data from 0.8 to 1.2 microns (8000 to 12000 Angstroms)\n",
    "    # Wavelengths in the BOSZ files are in Angstroms.\n",
    "    where_keep = np.where((wls >= 8000) & (wls <= 12000))[0]\n",
    "    wls = wls[where_keep]\n",
    "    fluxes = fluxes[where_keep]\n",
    "    \n",
    "    plt.plot(wls, fluxes, '-k')\n",
    "    plt.title(\"T_eff = \" + teff_val)\n",
    "    plt.show()\n",
    "    \n",
    "    # First we make an Astropy table of wavelength and flux to send to SoniSeries.\n",
    "    os.system(\"say \" + \"Sonification for type \" + stype)\n",
    "    data_table = QTable([wls, fluxes], names=('Wavelength', 'Flux'))\n",
    "    soni_obj = SoniSeries(data_table, time_col=\"Wavelength\", val_col=\"Flux\")\n",
    "    soni_obj.sonify()\n",
    "    soni_obj.play()\n",
    "    time.sleep(2)"
   ]
  },
  {
   "cell_type": "code",
   "execution_count": null,
   "id": "1bbd840f",
   "metadata": {},
   "outputs": [],
   "source": []
  },
  {
   "cell_type": "code",
   "execution_count": null,
   "id": "c0ff8f27",
   "metadata": {},
   "outputs": [],
   "source": []
  }
 ],
 "metadata": {
  "kernelspec": {
   "display_name": "Python 3 (ipykernel)",
   "language": "python",
   "name": "python3"
  },
  "language_info": {
   "codemirror_mode": {
    "name": "ipython",
    "version": 3
   },
   "file_extension": ".py",
   "mimetype": "text/x-python",
   "name": "python",
   "nbconvert_exporter": "python",
   "pygments_lexer": "ipython3",
   "version": "3.8.13"
  }
 },
 "nbformat": 4,
 "nbformat_minor": 5
}
