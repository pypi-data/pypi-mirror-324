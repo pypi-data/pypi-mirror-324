{
 "cells": [
  {
   "cell_type": "code",
   "execution_count": 1,
   "metadata": {},
   "outputs": [],
   "source": [
    "from napari_ome_zarr_navigator.ome_zarr_image import OMEZarrImage\n",
    "import zarr\n",
    "import napari\n",
    "from devtools import debug\n"
   ]
  },
  {
   "cell_type": "code",
   "execution_count": 2,
   "metadata": {},
   "outputs": [],
   "source": [
    "# path = \"/Users/joel/Desktop/20200812-CardiomyocyteDifferentiation14-Cycle1_mip.zarr/B/03/0\"\n",
    "path = \"/Users/joel/Documents/Code/napari-ome-zarr-navigator/test_data/10_5281_zenodo_10424292/20200812-CardiomyocyteDifferentiation14-Cycle1_mip.zarr/B/03/0\"\n",
    "\n",
    "image = OMEZarrImage(path)"
   ]
  },
  {
   "cell_type": "code",
   "execution_count": 3,
   "metadata": {},
   "outputs": [
    {
     "data": {
      "text/plain": [
       "{'encoding-type': 'anndata',\n",
       " 'encoding-version': '0.1.0',\n",
       " 'fractal_table_version': '1',\n",
       " 'instance_key': 'label',\n",
       " 'region': {'path': '../labels/nuclei'},\n",
       " 'type': 'feature_table'}"
      ]
     },
     "execution_count": 3,
     "metadata": {},
     "output_type": "execute_result"
    }
   ],
   "source": [
    "image.get_table_attrs(\"measurements\")"
   ]
  },
  {
   "cell_type": "code",
   "execution_count": 12,
   "metadata": {},
   "outputs": [],
   "source": [
    "def get_omero_metadata(image, channel):\n",
    "    for channel in image.image_meta.omero.channels:\n",
    "        if channel.label == channel:\n",
    "            return channel\n",
    "    return None "
   ]
  },
  {
   "cell_type": "code",
   "execution_count": 7,
   "metadata": {},
   "outputs": [
    {
     "data": {
      "text/plain": [
       "'label1'"
      ]
     },
     "execution_count": 7,
     "metadata": {},
     "output_type": "execute_result"
    }
   ],
   "source": [
    "my_dict = {\n",
    "    \"label1\": \"some obj\",\n",
    "    \"label2\": \"other ob\"\n",
    "}\n",
    "list(my_dict.keys())[0]"
   ]
  },
  {
   "cell_type": "code",
   "execution_count": 13,
   "metadata": {},
   "outputs": [],
   "source": [
    "channels = get_omero_metadata(image, \"DAPI\")"
   ]
  },
  {
   "cell_type": "code",
   "execution_count": 16,
   "metadata": {},
   "outputs": [
    {
     "name": "stdout",
     "output_type": "stream",
     "text": [
      "<class 'fractal_tasks_core.ngff.specs.Channel'>\n",
      "<class 'fractal_tasks_core.ngff.specs.Channel'>\n",
      "<class 'fractal_tasks_core.ngff.specs.Channel'>\n"
     ]
    }
   ],
   "source": [
    "for channel in channels:\n",
    "    print(type(channel))"
   ]
  },
  {
   "cell_type": "code",
   "execution_count": 11,
   "metadata": {},
   "outputs": [
    {
     "data": {
      "text/plain": [
       "[Channel(window=Window(max=65535.0, min=0.0, start=110.0, end=800.0), label='DAPI', family=None, color='00FFFF', active=True),\n",
       " Channel(window=Window(max=65535.0, min=0.0, start=110.0, end=250.0), label='nanog', family=None, color='FF00FF', active=True),\n",
       " Channel(window=Window(max=65535.0, min=0.0, start=110.0, end=800.0), label='Lamin B1', family=None, color='FFFF00', active=True)]"
      ]
     },
     "execution_count": 11,
     "metadata": {},
     "output_type": "execute_result"
    }
   ],
   "source": []
  },
  {
   "cell_type": "code",
   "execution_count": 21,
   "metadata": {},
   "outputs": [],
   "source": [
    "img, scale = image.load_intensity_roi(\n",
    "        roi_of_interest = 0, \n",
    "        channel_index = 0,\n",
    "        level=\"0\",\n",
    "        roi_table=\"FOV_ROI_table\",\n",
    "    )"
   ]
  },
  {
   "cell_type": "code",
   "execution_count": null,
   "metadata": {},
   "outputs": [],
   "source": []
  },
  {
   "cell_type": "code",
   "execution_count": 22,
   "metadata": {},
   "outputs": [],
   "source": [
    "roi_table = \"FOV_ROI_table\"\n",
    "roi_table = \"new_masking_ROI_table\"\n",
    "roi_table = \"nuclei_ROI_table\"\n",
    "roi_an = image.read_table(roi_table)"
   ]
  },
  {
   "cell_type": "code",
   "execution_count": 23,
   "metadata": {},
   "outputs": [
    {
     "data": {
      "text/plain": [
       "Index(['0', '1', '2', '3', '4', '5', '6', '7', '8', '9',\n",
       "       ...\n",
       "       '1483', '1484', '1485', '1486', '1487', '1488', '1489', '1490', '1491',\n",
       "       '1492'],\n",
       "      dtype='object', length=1493)"
      ]
     },
     "execution_count": 23,
     "metadata": {},
     "output_type": "execute_result"
    },
    {
     "ename": "",
     "evalue": "",
     "output_type": "error",
     "traceback": [
      "\u001b[1;31mThe Kernel crashed while executing code in the current cell or a previous cell. \n",
      "\u001b[1;31mPlease review the code in the cell(s) to identify a possible cause of the failure. \n",
      "\u001b[1;31mClick <a href='https://aka.ms/vscodeJupyterKernelCrash'>here</a> for more info. \n",
      "\u001b[1;31mView Jupyter <a href='command:jupyter.viewOutput'>log</a> for further details."
     ]
    }
   ],
   "source": [
    "roi_an.obs.index"
   ]
  },
  {
   "cell_type": "code",
   "execution_count": 5,
   "metadata": {},
   "outputs": [
    {
     "data": {
      "text/plain": [
       "<Image layer 'img' at 0x28a34b0d0>"
      ]
     },
     "execution_count": 5,
     "metadata": {},
     "output_type": "execute_result"
    }
   ],
   "source": [
    "viewer = napari.Viewer()\n",
    "viewer.add_image(img, scale=scale)"
   ]
  },
  {
   "cell_type": "markdown",
   "metadata": {},
   "source": []
  },
  {
   "cell_type": "code",
   "execution_count": 11,
   "metadata": {},
   "outputs": [
    {
     "data": {
      "text/plain": [
       "[Axis(name='c', type='channel', unit=None),\n",
       " Axis(name='z', type='space', unit='micrometer'),\n",
       " Axis(name='y', type='space', unit='micrometer'),\n",
       " Axis(name='x', type='space', unit='micrometer')]"
      ]
     },
     "execution_count": 11,
     "metadata": {},
     "output_type": "execute_result"
    }
   ],
   "source": [
    "image.image_meta.multiscales[0].axes"
   ]
  },
  {
   "cell_type": "code",
   "execution_count": 10,
   "metadata": {},
   "outputs": [
    {
     "data": {
      "text/plain": [
       "True"
      ]
     },
     "execution_count": 10,
     "metadata": {},
     "output_type": "execute_result"
    }
   ],
   "source": [
    "image.image_meta.multiscales[0].axes\n",
    "\n",
    "image.image_meta.multiscales[0].axes[-1].name == \"x\"\n"
   ]
  },
  {
   "cell_type": "code",
   "execution_count": 6,
   "metadata": {},
   "outputs": [
    {
     "data": {
      "text/plain": [
       "Dataset(path='0', coordinateTransformations=[ScaleCoordinateTransformation(type='scale', scale=[1.0, 1.0, 0.1625, 0.1625])])"
      ]
     },
     "execution_count": 6,
     "metadata": {},
     "output_type": "execute_result"
    }
   ],
   "source": [
    "image.image_meta.multiscales[0].datasets"
   ]
  },
  {
   "cell_type": "code",
   "execution_count": 7,
   "metadata": {},
   "outputs": [],
   "source": [
    "datasets = image.image_meta.multiscales[0].datasets"
   ]
  },
  {
   "cell_type": "code",
   "execution_count": 10,
   "metadata": {},
   "outputs": [
    {
     "data": {
      "text/plain": [
       "[Dataset(path='0', coordinateTransformations=[ScaleCoordinateTransformation(type='scale', scale=[1.0, 1.0, 0.1625, 0.1625])]),\n",
       " Dataset(path='1', coordinateTransformations=[ScaleCoordinateTransformation(type='scale', scale=[1.0, 1.0, 0.325, 0.325])]),\n",
       " Dataset(path='2', coordinateTransformations=[ScaleCoordinateTransformation(type='scale', scale=[1.0, 1.0, 0.65, 0.65])]),\n",
       " Dataset(path='3', coordinateTransformations=[ScaleCoordinateTransformation(type='scale', scale=[1.0, 1.0, 1.3, 1.3])]),\n",
       " Dataset(path='4', coordinateTransformations=[ScaleCoordinateTransformation(type='scale', scale=[1.0, 1.0, 2.6, 2.6])])]"
      ]
     },
     "execution_count": 10,
     "metadata": {},
     "output_type": "execute_result"
    }
   ],
   "source": [
    "datasets"
   ]
  },
  {
   "cell_type": "code",
   "execution_count": null,
   "metadata": {},
   "outputs": [],
   "source": []
  },
  {
   "cell_type": "code",
   "execution_count": 5,
   "metadata": {},
   "outputs": [
    {
     "name": "stdout",
     "output_type": "stream",
     "text": [
      "['FOV_ROI_table', 'new_masking_ROI_table', 'nuclei', 'well_ROI_table']\n",
      "['FOV_ROI_table', 'new_masking_ROI_table', 'well_ROI_table']\n",
      "['nuclei']\n"
     ]
    }
   ],
   "source": [
    "print(image.get_tables_list())\n",
    "print(image.get_tables_list(table_type=\"ROIs\"))\n",
    "print(image.get_tables_list(table_type=\"feature_table\"))"
   ]
  },
  {
   "cell_type": "code",
   "execution_count": 3,
   "metadata": {},
   "outputs": [],
   "source": [
    "channel_names = []\n",
    "\n",
    "for channel in image.image_meta.omero.channels:\n",
    "    channel_names.append(channel.label)"
   ]
  },
  {
   "cell_type": "code",
   "execution_count": 4,
   "metadata": {},
   "outputs": [
    {
     "data": {
      "text/plain": [
       "['0', '1', '2', '3', '4']"
      ]
     },
     "execution_count": 4,
     "metadata": {},
     "output_type": "execute_result"
    }
   ],
   "source": [
    "image.get_pyramid_levels()"
   ]
  },
  {
   "cell_type": "code",
   "execution_count": 9,
   "metadata": {},
   "outputs": [
    {
     "name": "stdout",
     "output_type": "stream",
     "text": [
      "<zarr.hierarchy.Group '/labels' read-only>\n",
      "['labels', 'tables']\n"
     ]
    }
   ],
   "source": [
    "with zarr.open(image.zarr_url, mode=\"r\") as zarr_group:\n",
    "    sub_groups = [name for name in zarr_group.group_keys()]\n",
    "    print(zarr_group.labels)\n",
    "print(sub_groups)"
   ]
  },
  {
   "cell_type": "code",
   "execution_count": 4,
   "metadata": {},
   "outputs": [
    {
     "data": {
      "text/plain": [
       "['manual_label_correction_6', 'new_label_img_1', 'nuclei']"
      ]
     },
     "execution_count": 4,
     "metadata": {},
     "output_type": "execute_result"
    }
   ],
   "source": [
    "image.get_labels_list()"
   ]
  },
  {
   "cell_type": "code",
   "execution_count": 6,
   "metadata": {},
   "outputs": [
    {
     "data": {
      "text/plain": [
       "['FOV_ROI_table', 'new_masking_ROI_table', 'nuclei', 'well_ROI_table']"
      ]
     },
     "execution_count": 6,
     "metadata": {},
     "output_type": "execute_result"
    }
   ],
   "source": [
    "image.get_tables_list()"
   ]
  },
  {
   "cell_type": "code",
   "execution_count": 8,
   "metadata": {},
   "outputs": [
    {
     "name": "stdout",
     "output_type": "stream",
     "text": [
      "<zarr.hierarchy.Group '/labels' read-only>\n"
     ]
    }
   ],
   "source": [
    "my_selection = \"labels\"\n",
    "with zarr.open(image.zarr_url, mode=\"r\") as zarr_group:\n",
    "    print(zarr_group[my_selection])"
   ]
  },
  {
   "cell_type": "code",
   "execution_count": 7,
   "metadata": {},
   "outputs": [
    {
     "name": "stdout",
     "output_type": "stream",
     "text": [
      "<zarr.hierarchy.Group '/labels' read-only>\n",
      "['labels', 'tables']\n"
     ]
    }
   ],
   "source": [
    "with zarr.open(image.zarr_url, mode=\"r\") as zarr_group:\n",
    "    sub_groups = list(zarr_group.group_keys())\n",
    "    print(zarr_group.labels)\n",
    "print(sub_groups)"
   ]
  },
  {
   "cell_type": "code",
   "execution_count": 20,
   "metadata": {},
   "outputs": [],
   "source": [
    "from pathlib import Path\n",
    "import anndata as ad\n",
    "\n",
    "def read_table(zarr_url: Path, roi_table):\n",
    "    with zarr.open(zarr_url, mode=\"r\").tables[\n",
    "                roi_table\n",
    "            ] as table:\n",
    "        return ad.read_zarr(table)\n",
    "    # TODO: Make this work for cloud-based files => different paths?\n",
    "    # table_url = zarr_url / f\"tables/{roi_table}\"\n",
    "    # return ad.read_zarr(table_url)"
   ]
  },
  {
   "cell_type": "code",
   "execution_count": 22,
   "metadata": {},
   "outputs": [
    {
     "name": "stdout",
     "output_type": "stream",
     "text": [
      "<zarr.hierarchy.Group '/tables/FOV_ROI_table' read-only>\n"
     ]
    },
    {
     "data": {
      "text/html": [
       "<div>\n",
       "<style scoped>\n",
       "    .dataframe tbody tr th:only-of-type {\n",
       "        vertical-align: middle;\n",
       "    }\n",
       "\n",
       "    .dataframe tbody tr th {\n",
       "        vertical-align: top;\n",
       "    }\n",
       "\n",
       "    .dataframe thead th {\n",
       "        text-align: right;\n",
       "    }\n",
       "</style>\n",
       "<table border=\"1\" class=\"dataframe\">\n",
       "  <thead>\n",
       "    <tr style=\"text-align: right;\">\n",
       "      <th></th>\n",
       "      <th>x_micrometer</th>\n",
       "      <th>y_micrometer</th>\n",
       "      <th>z_micrometer</th>\n",
       "      <th>len_x_micrometer</th>\n",
       "      <th>len_y_micrometer</th>\n",
       "      <th>len_z_micrometer</th>\n",
       "      <th>x_micrometer_original</th>\n",
       "      <th>y_micrometer_original</th>\n",
       "    </tr>\n",
       "    <tr>\n",
       "      <th>FieldIndex</th>\n",
       "      <th></th>\n",
       "      <th></th>\n",
       "      <th></th>\n",
       "      <th></th>\n",
       "      <th></th>\n",
       "      <th></th>\n",
       "      <th></th>\n",
       "      <th></th>\n",
       "    </tr>\n",
       "  </thead>\n",
       "  <tbody>\n",
       "    <tr>\n",
       "      <th>FOV_1</th>\n",
       "      <td>0.0</td>\n",
       "      <td>0.0</td>\n",
       "      <td>0.0</td>\n",
       "      <td>416.0</td>\n",
       "      <td>351.0</td>\n",
       "      <td>1.0</td>\n",
       "      <td>-1448.300049</td>\n",
       "      <td>-1517.699951</td>\n",
       "    </tr>\n",
       "    <tr>\n",
       "      <th>FOV_2</th>\n",
       "      <td>416.0</td>\n",
       "      <td>0.0</td>\n",
       "      <td>0.0</td>\n",
       "      <td>416.0</td>\n",
       "      <td>351.0</td>\n",
       "      <td>1.0</td>\n",
       "      <td>-1032.300049</td>\n",
       "      <td>-1517.699951</td>\n",
       "    </tr>\n",
       "  </tbody>\n",
       "</table>\n",
       "</div>"
      ],
      "text/plain": [
       "            x_micrometer  y_micrometer  z_micrometer  len_x_micrometer  \\\n",
       "FieldIndex                                                               \n",
       "FOV_1                0.0           0.0           0.0             416.0   \n",
       "FOV_2              416.0           0.0           0.0             416.0   \n",
       "\n",
       "            len_y_micrometer  len_z_micrometer  x_micrometer_original  \\\n",
       "FieldIndex                                                              \n",
       "FOV_1                  351.0               1.0           -1448.300049   \n",
       "FOV_2                  351.0               1.0           -1032.300049   \n",
       "\n",
       "            y_micrometer_original  \n",
       "FieldIndex                         \n",
       "FOV_1                -1517.699951  \n",
       "FOV_2                -1517.699951  "
      ]
     },
     "execution_count": 22,
     "metadata": {},
     "output_type": "execute_result"
    }
   ],
   "source": [
    "path = \"/Users/joel/Desktop/20200812-CardiomyocyteDifferentiation14-Cycle1_mip.zarr/B/03/0\"\n",
    "roi_table = \"FOV_ROI_table\"\n",
    "read_table(path, roi_table).to_df()\n",
    "# read_table(Path(path), roi_table).to_df()"
   ]
  },
  {
   "cell_type": "code",
   "execution_count": null,
   "metadata": {},
   "outputs": [],
   "source": []
  }
 ],
 "metadata": {
  "kernelspec": {
   "display_name": "napari-ome-zarr-navigator",
   "language": "python",
   "name": "python3"
  },
  "language_info": {
   "codemirror_mode": {
    "name": "ipython",
    "version": 3
   },
   "file_extension": ".py",
   "mimetype": "text/x-python",
   "name": "python",
   "nbconvert_exporter": "python",
   "pygments_lexer": "ipython3",
   "version": "3.10.13"
  }
 },
 "nbformat": 4,
 "nbformat_minor": 2
}
