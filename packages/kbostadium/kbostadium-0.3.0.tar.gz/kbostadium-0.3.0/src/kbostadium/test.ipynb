{
 "cells": [
  {
   "cell_type": "code",
   "execution_count": 3,
   "id": "47e70af1-1d51-467c-be8e-a662673f8eed",
   "metadata": {
    "scrolled": true
   },
   "outputs": [
    {
     "name": "stdout",
     "output_type": "stream",
     "text": [
      "Requirement already satisfied: pandas in /home/jiwon/.pyenv/versions/3.10.12/lib/python3.10/site-packages (2.2.3)\n",
      "Requirement already satisfied: requests in /home/jiwon/.pyenv/versions/3.10.12/lib/python3.10/site-packages (2.32.3)\n",
      "Collecting beautifulsoup4\n",
      "  Downloading beautifulsoup4-4.12.3-py3-none-any.whl (147 kB)\n",
      "\u001b[2K     \u001b[90m━━━━━━━━━━━━━━━━━━━━━━━━━━━━━━━━━━━━━━━\u001b[0m \u001b[32m147.9/147.9 kB\u001b[0m \u001b[31m3.2 MB/s\u001b[0m eta \u001b[36m0:00:00\u001b[0ma \u001b[36m0:00:01\u001b[0m\n",
      "Requirement already satisfied: numpy>=1.22.4 in /home/jiwon/.pyenv/versions/3.10.12/lib/python3.10/site-packages (from pandas) (1.26.4)\n",
      "Requirement already satisfied: tzdata>=2022.7 in /home/jiwon/.pyenv/versions/3.10.12/lib/python3.10/site-packages (from pandas) (2025.1)\n",
      "Requirement already satisfied: python-dateutil>=2.8.2 in /home/jiwon/.pyenv/versions/3.10.12/lib/python3.10/site-packages (from pandas) (2.9.0.post0)\n",
      "Requirement already satisfied: pytz>=2020.1 in /home/jiwon/.pyenv/versions/3.10.12/lib/python3.10/site-packages (from pandas) (2025.1)\n",
      "Requirement already satisfied: urllib3<3,>=1.21.1 in /home/jiwon/.pyenv/versions/3.10.12/lib/python3.10/site-packages (from requests) (2.3.0)\n",
      "Requirement already satisfied: certifi>=2017.4.17 in /home/jiwon/.pyenv/versions/3.10.12/lib/python3.10/site-packages (from requests) (2025.1.31)\n",
      "Requirement already satisfied: charset-normalizer<4,>=2 in /home/jiwon/.pyenv/versions/3.10.12/lib/python3.10/site-packages (from requests) (3.4.1)\n",
      "Requirement already satisfied: idna<4,>=2.5 in /home/jiwon/.pyenv/versions/3.10.12/lib/python3.10/site-packages (from requests) (3.10)\n",
      "Collecting soupsieve>1.2\n",
      "  Downloading soupsieve-2.6-py3-none-any.whl (36 kB)\n",
      "Requirement already satisfied: six>=1.5 in /home/jiwon/.pyenv/versions/3.10.12/lib/python3.10/site-packages (from python-dateutil>=2.8.2->pandas) (1.17.0)\n",
      "Installing collected packages: soupsieve, beautifulsoup4\n",
      "Successfully installed beautifulsoup4-4.12.3 soupsieve-2.6\n",
      "\n",
      "\u001b[1m[\u001b[0m\u001b[34;49mnotice\u001b[0m\u001b[1;39;49m]\u001b[0m\u001b[39;49m A new release of pip is available: \u001b[0m\u001b[31;49m23.0.1\u001b[0m\u001b[39;49m -> \u001b[0m\u001b[32;49m25.0\u001b[0m\n",
      "\u001b[1m[\u001b[0m\u001b[34;49mnotice\u001b[0m\u001b[1;39;49m]\u001b[0m\u001b[39;49m To update, run: \u001b[0m\u001b[32;49mpip install --upgrade pip\u001b[0m\n"
     ]
    }
   ],
   "source": [
    "!pip install pandas requests beautifulsoup4"
   ]
  },
  {
   "cell_type": "code",
   "execution_count": 35,
   "id": "cdcff0ed-c718-4e8f-ba2c-d0b07c5c2a38",
   "metadata": {},
   "outputs": [
    {
     "name": "stdout",
     "output_type": "stream",
     "text": [
      "         구단     좌석수\n",
      "0   키움 히어로즈  16,670\n",
      "1   NC 다이노스  17,891\n",
      "2     KT 위즈  18,700\n",
      "3    한화 이글스  20,007\n",
      "4  KIA 타이거즈  20,500\n",
      "5   롯데 자이언츠  22,758\n",
      "6   SSG 랜더스  23,000\n",
      "7    LG 트윈스  23,750\n",
      "8    두산 베어스  23,750\n",
      "9   삼성 라이온즈  24,000\n"
     ]
    }
   ],
   "source": [
    "import pandas as pd\n",
    "import typer\n",
    "\n",
    "data = {\n",
    "    \"구단\": [\"삼성 라이온즈\", \"한화 이글스\", \"LG 트윈스\", \"두산 베어스\", \"KT 위즈\", \"롯데 자이언츠\", \"키움 히어로즈\", \"KIA 타이거즈\", \"SSG 랜더스\", \"NC 다이노스\"],\n",
    "    \"경기장명\": [\"대구 삼성 라이온즈파크\", \"대전 한화생명 이글스파크\", \"서울 잠실 야구장\", \"서울 잠실 야구장\" , \"수원케이티위즈파크\", \"부산 사직야구장\", \"서울고척스카이돔\", \"광주-기아 챔피언스\", \"인천SSG 랜더스필드\", \"창원NC파크\"],\n",
    "    \"주소\": [\"대구광역시 수성구 야구전설로 1, 대구삼성라이온즈파크\", \"대전광역시 중구 대종로 373\", \"서울특별시 송파구 올림픽로 25, 서울종합운동장(야구장)\", \"서울특별시 송파구 올림픽로 25, 서울종합운동장(야구장)\", \"경기도 수원시 장안구 경수대로 893, 종합운동장(야구장)\", \"부산광역시 동래구 사직로 45, 사직야구장\", \"서울특별시 구로구 경인로 430, 고척스카이돔\", \"광주광역시 북구 서림로 10, 무등종합경기장\", \"인천광역시 미추홀구 매소홀로 618, 문학경기장(야구장)\",\"경상남도 창원시 마산회원구 삼호로 63, 창원NC파크\"],\n",
    "    \"완공연도\": [\"2016\", \"1964\", \"1982\", \"1982\", \"1988\", \"1985\", \"2015\", \"2014\", \"2002\", \"2019\"],\n",
    "    \"건축면적\": [\"22,666\", \"5,761\", \"20,741\", \"20,741\", \"13,356\", \"9,867\", \"29,120\", \"16,065\", \"22,932\", \"12,567\"],\n",
    "    \"좌석수\": [\"24,000\", \"20,007\", \"23,750\", \"23,750\", \"18,700\", \"22,758\", \"16,670\", \"20,500\", \"23,000\", \"17,891\"],\n",
    "}\n",
    "\n",
    "\n",
    "def info_sta(keyword: str, asc: bool=False, rcnt: int=10) -> pd.DataFrame:\n",
    "    df = pd.DataFrame(data)\n",
    "    # 유효한 열 이름인지 체크\n",
    "    if keyword in df.columns:\n",
    "        fdf = df[[\"구단\", keyword]]  # \"구단\" 열과 사용자가 요청한 열을 출력\n",
    "        sdf = fdf.sort_values(by=keyword, ascending=asc).reset_index(drop=True)\n",
    "        rdf = sdf.head(rcnt)\n",
    "        return rdf\n",
    "    else:\n",
    "        return f\"잘못된 열 이름입니다. 유효한 열 이름은 {', '.join(df.columns)} 입니다.\"\n",
    "\n",
    "def print_info_sta(keyword: str, asc: bool=False, rcnt: int=10):\n",
    "    # 필터링된 데이터를 출력\n",
    "    rdf = info_sta(keyword, asc, rcnt)\n",
    "    print(rdf)\n",
    "\n",
    "# 직접 호출해서 실행\n",
    "print_info_sta(\"좌석수\", True, 10)  # 예시로 \"주소\"를 입력했을 때 구단과 주소 정보를 출력\n"
   ]
  },
  {
   "cell_type": "code",
   "execution_count": null,
   "id": "b6391f4d-1501-4108-b537-4fbf79f92fcb",
   "metadata": {},
   "outputs": [],
   "source": []
  }
 ],
 "metadata": {
  "kernelspec": {
   "display_name": "Python 3 (ipykernel)",
   "language": "python",
   "name": "python3"
  },
  "language_info": {
   "codemirror_mode": {
    "name": "ipython",
    "version": 3
   },
   "file_extension": ".py",
   "mimetype": "text/x-python",
   "name": "python",
   "nbconvert_exporter": "python",
   "pygments_lexer": "ipython3",
   "version": "3.10.12"
  }
 },
 "nbformat": 4,
 "nbformat_minor": 5
}
