{
 "cells": [
  {
   "cell_type": "code",
   "execution_count": null,
   "metadata": {},
   "outputs": [],
   "source": [
    "from pathlib import Path\n",
    "\n",
    "import ctd\n",
    "\n",
    "path = Path(\"..\", \"tests\", \"data\")"
   ]
  },
  {
   "cell_type": "code",
   "execution_count": null,
   "metadata": {},
   "outputs": [],
   "source": [
    "cast = ctd.from_edf(path.joinpath(\"XBT.EDF.gz\"))\n",
    "ax = cast[\"temperature\"].plot_cast()\n",
    "ax.axis([20, 24, 19, 0]);"
   ]
  },
  {
   "cell_type": "code",
   "execution_count": null,
   "metadata": {},
   "outputs": [],
   "source": [
    "cast = ctd.from_fsi(path.joinpath(\"FSI.txt.gz\"))\n",
    "downcast, upcast = cast.split()\n",
    "ax = downcast[\"TEMP\"].plot_cast()\n",
    "ax.grid(True)"
   ]
  },
  {
   "cell_type": "code",
   "execution_count": null,
   "metadata": {},
   "outputs": [],
   "source": [
    "cast = ctd.from_cnv(path.joinpath(\"CTD_big.cnv.bz2\"))\n",
    "downcast, upcast = cast.split()\n",
    "ax = downcast[\"t090C\"].plot_cast()\n",
    "ax.grid(True)"
   ]
  },
  {
   "cell_type": "code",
   "execution_count": null,
   "metadata": {},
   "outputs": [],
   "source": [
    "from ctd import rosette_summary\n",
    "\n",
    "ros = rosette_summary(path.joinpath(\"CTD\", \"g01l01s01.ros\"))\n",
    "ros = ros.groupby(ros.index).mean()\n",
    "\n",
    "ros"
   ]
  },
  {
   "cell_type": "code",
   "execution_count": null,
   "metadata": {
    "scrolled": false
   },
   "outputs": [],
   "source": [
    "bottles = ctd.from_btl(path.joinpath(\"btl\", \"bottletest.btl\"))\n",
    "\n",
    "bottles.head()"
   ]
  }
 ],
 "metadata": {
  "kernelspec": {
   "display_name": "Python 3 (ipykernel)",
   "language": "python",
   "name": "python3"
  },
  "language_info": {
   "codemirror_mode": {
    "name": "ipython",
    "version": 3
   },
   "file_extension": ".py",
   "mimetype": "text/x-python",
   "name": "python",
   "nbconvert_exporter": "python",
   "pygments_lexer": "ipython3",
   "version": "3.11.0"
  }
 },
 "nbformat": 4,
 "nbformat_minor": 2
}
