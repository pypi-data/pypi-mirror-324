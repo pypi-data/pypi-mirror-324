{
 "cells": [
  {
   "cell_type": "markdown",
   "metadata": {},
   "source": [
    "# Quick introduction\n",
    "\n",
    "## Reading and plotting"
   ]
  },
  {
   "cell_type": "code",
   "execution_count": null,
   "metadata": {
    "scrolled": false
   },
   "outputs": [],
   "source": [
    "import pooch\n",
    "\n",
    "test_data = \"CTD-spiked-unfiltered.cnv.bz2\"\n",
    "url = f\"https://github.com/pyoceans/python-ctd/raw/main/tests/data/{test_data}\"\n",
    "\n",
    "fname = pooch.retrieve(\n",
    "    url=url,\n",
    "    known_hash=\"sha256:1de4b7ce665d5cece925c5feb4552c13bbc19cef3e229bc87dfd77acb1a730d3\",\n",
    ")"
   ]
  },
  {
   "cell_type": "code",
   "execution_count": null,
   "metadata": {},
   "outputs": [],
   "source": [
    "import ctd\n",
    "\n",
    "cast = ctd.from_cnv(fname)\n",
    "down, up = cast.split()\n",
    "\n",
    "down.head()"
   ]
  },
  {
   "cell_type": "markdown",
   "metadata": {},
   "source": [
    "It is a `pandas.DataFrame` with all the pandas methods and properties."
   ]
  },
  {
   "cell_type": "code",
   "execution_count": null,
   "metadata": {},
   "outputs": [],
   "source": [
    "type(cast)"
   ]
  },
  {
   "cell_type": "markdown",
   "metadata": {},
   "source": [
    "But with extras for pre-processing and plotting a ocean vertical profiles."
   ]
  },
  {
   "cell_type": "code",
   "execution_count": null,
   "metadata": {},
   "outputs": [],
   "source": [
    "from matplotlib import style\n",
    "\n",
    "style.use(\"seaborn-v0_8-whitegrid\")\n",
    "\n",
    "down[\"t090C\"].plot_cast()\n",
    "down[\"c0S/m\"].plot_cast();"
   ]
  },
  {
   "cell_type": "markdown",
   "metadata": {},
   "source": [
    "Sometimes it is useful to plot the second variable in a different axis so we can compare the two."
   ]
  },
  {
   "cell_type": "code",
   "execution_count": null,
   "metadata": {},
   "outputs": [],
   "source": [
    "ax0 = down[\"t090C\"].plot_cast(label=\"Temperature (°C)\")\n",
    "ax1 = down[\"c0S/m\"].plot_cast(\n",
    "    ax=ax0,\n",
    "    label=\"Conductivity (S/m)\",\n",
    "    color=\"orange\",\n",
    "    secondary_y=True,\n",
    ")\n",
    "\n",
    "\n",
    "ax0.grid(False)\n",
    "ax1.grid(False)\n",
    "\n",
    "ax0.legend(loc=\"lower left\")\n",
    "ax1.legend(loc=\"lower right\");"
   ]
  },
  {
   "cell_type": "markdown",
   "metadata": {},
   "source": [
    "`python-ctd` saves of the file metadata in a dictionary to make them easy to access later. "
   ]
  },
  {
   "cell_type": "code",
   "execution_count": null,
   "metadata": {},
   "outputs": [],
   "source": [
    "metadata = cast._metadata\n",
    "\n",
    "metadata.keys()"
   ]
  },
  {
   "cell_type": "code",
   "execution_count": null,
   "metadata": {},
   "outputs": [],
   "source": [
    "print(metadata[\"header\"])"
   ]
  },
  {
   "cell_type": "markdown",
   "metadata": {},
   "source": [
    "## Pre-processing steps"
   ]
  },
  {
   "cell_type": "markdown",
   "metadata": {},
   "source": [
    "Usually the first pre-processing step is to filter the high frequency jitter in the pressure sensor with a low pass filter, here is a zoom in the pressure data (the `pandas` index) demonstrating it:"
   ]
  },
  {
   "cell_type": "code",
   "execution_count": null,
   "metadata": {},
   "outputs": [],
   "source": [
    "import matplotlib.pyplot as plt\n",
    "\n",
    "fig, ax = plt.subplots()\n",
    "ax.plot(down.index, label=\"unfiltered\")\n",
    "ax.plot(down.lp_filter().index, label=\"filtered\")\n",
    "ax.axis([20870, 20930, 557.5, 559])\n",
    "fig.legend();"
   ]
  },
  {
   "cell_type": "markdown",
   "metadata": {},
   "source": [
    "Thanks to [pandas_flavor](https://github.com/Zsailer/pandas_flavor) we can chain all the pre-processing steps together."
   ]
  },
  {
   "cell_type": "code",
   "execution_count": null,
   "metadata": {},
   "outputs": [],
   "source": [
    "down = down[[\"t090C\", \"c0S/m\"]]\n",
    "\n",
    "proc = (\n",
    "    down.remove_above_water()\n",
    "    .remove_up_to(idx=7)\n",
    "    .despike(n1=2, n2=20, block=100)\n",
    "    .lp_filter()\n",
    "    .press_check()\n",
    "    .interpolate()\n",
    "    .bindata(delta=1, method=\"interpolate\")\n",
    "    .smooth(window_len=21, window=\"hanning\")\n",
    ")\n",
    "\n",
    "proc.head()"
   ]
  },
  {
   "cell_type": "markdown",
   "metadata": {},
   "source": [
    "## CTD derive\n",
    "\n",
    "Now we can compute all the derived variables."
   ]
  },
  {
   "cell_type": "code",
   "execution_count": null,
   "metadata": {},
   "outputs": [],
   "source": [
    "lon, lat = metadata[\"lon\"], metadata[\"lat\"]\n",
    "lon, lat"
   ]
  },
  {
   "cell_type": "code",
   "execution_count": null,
   "metadata": {},
   "outputs": [],
   "source": [
    "import gsw\n",
    "\n",
    "p = proc.index\n",
    "\n",
    "SP = gsw.SP_from_C(proc[\"c0S/m\"].to_numpy() * 10.0, proc[\"t090C\"].to_numpy(), p)\n",
    "SA = gsw.SA_from_SP(SP, p, lon, lat)\n",
    "SR = gsw.SR_from_SP(SP)\n",
    "\n",
    "CT = gsw.CT_from_t(SA, proc[\"t090C\"].to_numpy(), p)\n",
    "z = -gsw.z_from_p(p, lat)\n",
    "sigma0_CT = gsw.sigma0(SA, CT)\n",
    "\n",
    "proc = (\n",
    "    proc.assign(SP=SP)\n",
    "    .assign(SA=SA)\n",
    "    .assign(SR=SR)\n",
    "    .assign(CT=CT)\n",
    "    .assign(z=z)\n",
    "    .assign(sigma0_CT=sigma0_CT)\n",
    ")"
   ]
  },
  {
   "cell_type": "code",
   "execution_count": null,
   "metadata": {},
   "outputs": [],
   "source": [
    "labels = [\n",
    "    r\"Absolute Salinity (g kg$^{-1}$)\",\n",
    "    r\"Reference Salinity (g kg$^{-1}$)\",\n",
    "    \"Practical Salinity\",\n",
    "]\n",
    "\n",
    "\n",
    "ax = proc[[\"SA\", \"SR\", \"SP\"]].plot_cast(\n",
    "    figsize=(5.25, 9),\n",
    "    label=labels,\n",
    ")\n",
    "ax.set_ylabel(\"Pressure (dbar)\")\n",
    "ax.grid(True)\n",
    "ax.legend()\n",
    "ax.set_title(\"Salinities\");"
   ]
  },
  {
   "cell_type": "markdown",
   "metadata": {},
   "source": [
    "Last but not least let's tweak a three line plot with the main variables measured."
   ]
  },
  {
   "cell_type": "code",
   "execution_count": null,
   "metadata": {},
   "outputs": [],
   "source": [
    "def make_patch_spines_invisible(ax):\n",
    "    ax.set_frame_on(True)\n",
    "    ax.patch.set_visible(False)\n",
    "    for sp in ax.spines.values():\n",
    "        sp.set_visible(False)"
   ]
  },
  {
   "cell_type": "code",
   "execution_count": null,
   "metadata": {},
   "outputs": [],
   "source": [
    "fig, ax0 = plt.subplots(figsize=(5, 9))\n",
    "\n",
    "colors = [\"#1f77b4\", \"#ff7f0e\", \"#2ca02c\"]\n",
    "\n",
    "ax0.invert_yaxis()\n",
    "ax1 = ax0.twiny()\n",
    "ax2 = ax0.twiny()\n",
    "\n",
    "(l0,) = ax0.plot(proc[\"CT\"], proc.index, color=colors[0], label=\"CT\")\n",
    "ax0.set_xlabel(\"Conservative Temperature (°C)\")\n",
    "\n",
    "(l1,) = ax1.plot(proc[\"SA\"], proc.index, color=colors[1], label=\"SA\")\n",
    "ax1.set_xlabel(\"Absolute Salinity (g kg$^{-1}$)\")\n",
    "\n",
    "(l2,) = ax2.plot(\n",
    "    proc[\"sigma0_CT\"],\n",
    "    proc.index,\n",
    "    color=colors[2],\n",
    "    label=r\"$\\sigma_{0\\_CT}$\",\n",
    ")\n",
    "ax2.set_xlabel(r\"$\\sigma_{0\\_CT}$ (kg m$^{-3}$)\")\n",
    "\n",
    "make_patch_spines_invisible(ax2)\n",
    "ax2.spines[\"top\"].set_position((\"axes\", 1.1))\n",
    "ax2.spines[\"top\"].set_visible(True)\n",
    "\n",
    "ax0.xaxis.label.set_color(l0.get_color())\n",
    "ax1.xaxis.label.set_color(l1.get_color())\n",
    "ax2.xaxis.label.set_color(l2.get_color())\n",
    "\n",
    "ax0.tick_params(axis=\"x\", colors=l0.get_color())\n",
    "ax1.tick_params(axis=\"x\", colors=l1.get_color())\n",
    "ax2.tick_params(axis=\"x\", colors=l2.get_color())\n",
    "\n",
    "ax0.grid(False)\n",
    "ax1.grid(False)\n",
    "ax2.grid(False)\n",
    "\n",
    "ax0.legend(loc=\"lower left\")\n",
    "ax1.legend(loc=\"lower right\")\n",
    "ax2.legend(loc=\"lower center\");"
   ]
  }
 ],
 "metadata": {
  "kernelspec": {
   "display_name": "Python 3 (ipykernel)",
   "language": "python",
   "name": "python3"
  },
  "language_info": {
   "codemirror_mode": {
    "name": "ipython",
    "version": 3
   },
   "file_extension": ".py",
   "mimetype": "text/x-python",
   "name": "python",
   "nbconvert_exporter": "python",
   "pygments_lexer": "ipython3",
   "version": "3.12.3"
  }
 },
 "nbformat": 4,
 "nbformat_minor": 2
}
