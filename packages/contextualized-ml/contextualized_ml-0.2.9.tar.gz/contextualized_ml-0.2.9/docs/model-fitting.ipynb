{
 "cells": [
  {
   "cell_type": "markdown",
   "id": "perfect-gossip",
   "metadata": {},
   "source": [
    "# Fitting Contextualized Models\n",
    "\n",
    "Here, we walk through a an example of fitting a contextualized linear regression model to diabetes data."
   ]
  },
  {
   "cell_type": "markdown",
   "id": "convenient-karma",
   "metadata": {},
   "source": [
    "## Download and Prepare Data\n",
    "\n",
    "First, we will load the data into a standard pandas dataframe or a numpy array, and create a train / test split. There's only 1 step of preprocessing required: deciding the context variables."
   ]
  },
  {
   "cell_type": "markdown",
   "id": "empty-wisdom",
   "metadata": {},
   "source": [
    "```{note}\n",
    "**Deciding context variables is an experiment-driven question.**\n",
    "\n",
    "Since we will typically interpret the contextualized models in terms of the predictor, it's often helpful to use interpretable variables as the predictors.\n",
    "\n",
    "In this example, we will use age, sex, and BMI as the contexts to look for context-specific predictors of diabetes progression.\n",
    "```"
   ]
  },
  {
   "cell_type": "code",
   "execution_count": 1,
   "id": "grand-angle",
   "metadata": {},
   "outputs": [],
   "source": [
    "import numpy as np\n",
    "import pandas as pd\n",
    "from sklearn.model_selection import train_test_split\n",
    "from sklearn.datasets import load_diabetes\n",
    "\n",
    "# Load data\n",
    "X, Y = load_diabetes(return_X_y=True, as_frame=True)\n",
    "Y = np.expand_dims(Y.values, axis=-1)\n",
    "\n",
    "# Decide context variables, or use other paired data as context\n",
    "C = X[['age', 'sex', 'bmi']]\n",
    "X.drop(['age', 'sex', 'bmi'], axis=1, inplace=True)\n",
    "\n",
    "# Create a hold-out test set\n",
    "seed = 1\n",
    "C_train, C_test, X_train, X_test, Y_train, Y_test = train_test_split(C, X, Y, test_size=0.20, random_state=seed)\n",
    "\n",
    "# Normalize the data\n",
    "def normalize(train, test):\n",
    "    mean = train.mean()\n",
    "    std = train.std()\n",
    "    train = (train - mean) / std\n",
    "    test = (test - mean) / std\n",
    "    return train, test\n",
    "X_train, X_test = normalize(X_train, X_test)\n",
    "C_train, C_test = normalize(C_train, C_test)\n",
    "Y_train, Y_test = normalize(Y_train, Y_test)"
   ]
  },
  {
   "cell_type": "markdown",
   "id": "shaped-calcium",
   "metadata": {},
   "source": [
    "## Train a Contextualized Model\n",
    "\n",
    "Contextualized models follow an SKLearn-style interface to make fitting, predicting, and testing simple."
   ]
  },
  {
   "cell_type": "markdown",
   "id": "550ebdef",
   "metadata": {},
   "source": [
    "```{note}\n",
    "Common constructor keywords for most models include:\n",
    "\n",
    "- n_bootstraps: The integer number of bootstrap runs to fit. Useful for estimating uncertainty and reducing overfitting, and many contextualized.analysis tests use bootstraps to determine significance, but more bootstraps takes longer. Default is 1, which means no bootstrapping. \n",
    "- encoder_type: Which type of context encoder to use. Can be 'mlp' (multi-layer perceptron, i.e. vanilla neural network) or 'ngam' (a neural generalized additive model, i.e. a neural network with feature additivity constraints for interpretability). Default is 'mlp'.\n",
    "- num_archetypes: Degrees of freedom for the context-specific model parameters, defined by a set of learnable model archetypes. Useful for reducing overfitting and learning key axes of context-dependent variation. Default is 0, which allows full degrees of freedom.\n",
    "- alpha: non-negative float, regularization strength. Default is no 0.0, no regularization.\n",
    "- l1_ratio: float in range (0.0, 1.0), governs how much the regularization penalizes l1 vs l2 parameter norms. Default is 0.0, which means pure l2 regularization with alpha strength.\n",
    "- mu_ratio: float in range (0.0, 1.0), governs how much the regularization applies to context-specific model parameters or context-specific offsets. Default is 0.0, only parameter regularization.\n",
    "\n",
    "Common fitting keywords include:\n",
    "\n",
    "- val_split: float in range (0.0, 1.0), the fraction of the training data to use as a validation set for guaging generalization. Default is 0.2.\n",
    "- max_epochs: positive number, the maximum number of epochs (iterations over the training data) to fit. Default is 1.\n",
    "- es_patience: positive number, the number of epochs to wait for no improvement on the validation set before early stopping. Default is 1.\n",
    "- learning_rate: positive float, default is 1e-3.\n",
    "\n",
    "Common predict keywords include:\n",
    "\n",
    "- individual_preds: Whether to return individual predictions for each bootstrap. Defaults to False, averaging across bootstraps.\n",
    "\n",
    "Common predict_params keywords include:\n",
    "\n",
    "- individual_preds: Whether to return individual parameter predictions for each bootstrap. Defaults to False, averaging across bootstraps.\n",
    "- model_includes_mus: Whether the predicted context-specific model includes context-specific offsets (mu). Defaults to True.\n",
    "\n",
    "Please see the API documentation for the specific model you are using for more details.\n",
    "```"
   ]
  },
  {
   "cell_type": "code",
   "execution_count": 2,
   "id": "af41a81d",
   "metadata": {
    "scrolled": true
   },
   "outputs": [],
   "source": [
    "%%capture\n",
    "from contextualized.easy import ContextualizedRegressor\n",
    "model = ContextualizedRegressor(n_bootstraps=20)  # Many bootstraps for later analysis\n",
    "model.fit(C_train.values, X_train.values, Y_train,\n",
    "          encoder_type=\"mlp\", max_epochs=10,\n",
    "          learning_rate=1e-2)\n",
    "\n",
    "# Get predicted context-specific regression model parameters\n",
    "contextualized_coeffs, contextualized_offsets = model.predict_params(C_test.values)\n",
    "\n",
    "# Get the predicted outcomes using the context-specific regression models\n",
    "Y_pred = model.predict(C_test.values, X_test.values)\n"
   ]
  },
  {
   "cell_type": "markdown",
   "id": "965db1b9",
   "metadata": {},
   "source": [
    "## Test the Model"
   ]
  },
  {
   "cell_type": "code",
   "execution_count": 3,
   "id": "917d13c1",
   "metadata": {},
   "outputs": [
    {
     "name": "stdout",
     "output_type": "stream",
     "text": [
      "Mean-squared Error: 0.5375812218168962\n",
      "Correlation: 0.3872898219663774\n"
     ]
    }
   ],
   "source": [
    "from sklearn.metrics import mean_squared_error, r2_score\n",
    "print(f'Mean-squared Error: {mean_squared_error(Y_test, Y_pred)}')\n",
    "print(f'Correlation: {r2_score(Y_test, Y_pred)}')"
   ]
  },
  {
   "cell_type": "markdown",
   "id": "aa62ba84",
   "metadata": {},
   "source": [
    "## Save the trained model for follow-up analysis"
   ]
  },
  {
   "cell_type": "code",
   "execution_count": 4,
   "id": "16a1bd39",
   "metadata": {},
   "outputs": [],
   "source": [
    "from contextualized.utils import save, load\n",
    "\n",
    "save(model, path='my_contextualized_model.pt')"
   ]
  },
  {
   "cell_type": "markdown",
   "id": "64283f2c",
   "metadata": {},
   "source": [
    "In the next step, we will analyze what this model has learned."
   ]
  }
 ],
 "metadata": {
  "celltoolbar": "Tags",
  "kernelspec": {
   "display_name": "Python 3 (ipykernel)",
   "language": "python",
   "name": "python3"
  },
  "language_info": {
   "codemirror_mode": {
    "name": "ipython",
    "version": 3
   },
   "file_extension": ".py",
   "mimetype": "text/x-python",
   "name": "python",
   "nbconvert_exporter": "python",
   "pygments_lexer": "ipython3",
   "version": "3.10.14"
  }
 },
 "nbformat": 4,
 "nbformat_minor": 5
}
