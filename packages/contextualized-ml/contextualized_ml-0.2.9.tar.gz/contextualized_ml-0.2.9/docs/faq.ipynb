{
 "cells": [
  {
   "cell_type": "markdown",
   "id": "e20d798b",
   "metadata": {},
   "source": [
    "# Frequently Asked Questions"
   ]
  },
  {
   "cell_type": "markdown",
   "id": "da4fa0e1",
   "metadata": {},
   "source": [
    "Under construction.\n",
    "We could use more questions :)\n",
    "    \n",
    "Ask away on [Github issues](https://github.com/cnellington/Contextualized/issues)!"
   ]
  },
  {
   "cell_type": "code",
   "execution_count": null,
   "id": "8d74c810",
   "metadata": {},
   "outputs": [],
   "source": []
  }
 ],
 "metadata": {
  "kernelspec": {
   "display_name": "Python 3 (ipykernel)",
   "language": "python",
   "name": "python3"
  },
  "language_info": {
   "codemirror_mode": {
    "name": "ipython",
    "version": 3
   },
   "file_extension": ".py",
   "mimetype": "text/x-python",
   "name": "python",
   "nbconvert_exporter": "python",
   "pygments_lexer": "ipython3",
   "version": "3.10.8"
  }
 },
 "nbformat": 4,
 "nbformat_minor": 5
}
