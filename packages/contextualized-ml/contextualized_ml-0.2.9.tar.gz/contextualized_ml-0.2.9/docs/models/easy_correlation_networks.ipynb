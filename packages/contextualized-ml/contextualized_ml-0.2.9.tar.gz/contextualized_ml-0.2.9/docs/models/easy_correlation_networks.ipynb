{
 "cells": [
  {
   "cell_type": "markdown",
   "id": "6e32bc2f",
   "metadata": {},
   "source": [
    "# Contextualized Correlation Networks"
   ]
  },
  {
   "cell_type": "markdown",
   "id": "70c3d247",
   "metadata": {},
   "source": [
    "Correlation networks summarize symmetric relationships between variable.\n",
    "We can make context-specific correlation networks with contextualized.ml ."
   ]
  },
  {
   "cell_type": "code",
   "execution_count": 1,
   "id": "5967fd61",
   "metadata": {},
   "outputs": [],
   "source": [
    "import numpy as np\n",
    "import matplotlib.pyplot as plt\n",
    "%matplotlib inline"
   ]
  },
  {
   "cell_type": "code",
   "execution_count": 2,
   "id": "76d3c5b5",
   "metadata": {},
   "outputs": [],
   "source": [
    "X = np.random.normal(0, 1, size=(1000, 10))\n",
    "C = np.random.uniform(-1, 1, size=(1000, 5))"
   ]
  },
  {
   "cell_type": "code",
   "execution_count": 3,
   "id": "c850dfc0",
   "metadata": {
    "scrolled": true
   },
   "outputs": [],
   "source": [
    "%%capture\n",
    "from contextualized.easy import ContextualizedCorrelationNetworks\n",
    "\n",
    "ccn = ContextualizedCorrelationNetworks(encoder_type='ngam', num_archetypes=16, n_bootstraps=3)\n",
    "ccn.fit(C, X, max_epochs=5)\n",
    "\n",
    "# Get rho\n",
    "rho = ccn.predict_correlation(C, individual_preds=False, squared=False)\n",
    "\n",
    "# Get rho^2\n",
    "rho_squared = ccn.predict_correlation(C, individual_preds=False, squared=True)"
   ]
  },
  {
   "cell_type": "code",
   "execution_count": 4,
   "id": "d2a5b8c2",
   "metadata": {},
   "outputs": [
    {
     "name": "stdout",
     "output_type": "stream",
     "text": [
      "(3, 1000, 10, 10)\n"
     ]
    }
   ],
   "source": [
    "# To calculate confidence intervals, we can request individual predictions from the bootstrap models.\n",
    "rho_squared = ccn.predict_correlation(C, individual_preds=True, squared=True)\n",
    "# This prepends an axis to the output predictions.\n",
    "print(rho_squared.shape)"
   ]
  },
  {
   "cell_type": "code",
   "execution_count": null,
   "id": "1e1f953c",
   "metadata": {},
   "outputs": [],
   "source": []
  }
 ],
 "metadata": {
  "kernelspec": {
   "display_name": "Python 3 (ipykernel)",
   "language": "python",
   "name": "python3"
  },
  "language_info": {
   "codemirror_mode": {
    "name": "ipython",
    "version": 3
   },
   "file_extension": ".py",
   "mimetype": "text/x-python",
   "name": "python",
   "nbconvert_exporter": "python",
   "pygments_lexer": "ipython3",
   "version": "3.10.9"
  }
 },
 "nbformat": 4,
 "nbformat_minor": 5
}
