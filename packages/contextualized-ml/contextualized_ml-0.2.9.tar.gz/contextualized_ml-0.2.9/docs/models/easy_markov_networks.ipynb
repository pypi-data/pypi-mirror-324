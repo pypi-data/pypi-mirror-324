{
 "cells": [
  {
   "cell_type": "markdown",
   "id": "6e32bc2f",
   "metadata": {},
   "source": [
    "# Contextualized Markov Networks"
   ]
  },
  {
   "cell_type": "markdown",
   "id": "f7d99424",
   "metadata": {},
   "source": [
    "### Markov Networks, inferred as precision matrices, are undirected graphs where edges indicate dependencies between nodes."
   ]
  },
  {
   "cell_type": "code",
   "execution_count": 1,
   "id": "5967fd61",
   "metadata": {},
   "outputs": [],
   "source": [
    "import numpy as np\n",
    "import matplotlib.pyplot as plt\n",
    "%matplotlib inline"
   ]
  },
  {
   "cell_type": "code",
   "execution_count": 2,
   "id": "76d3c5b5",
   "metadata": {},
   "outputs": [],
   "source": [
    "X = np.random.normal(0, 1, size=(1000, 10))\n",
    "C = np.random.uniform(-1, 1, size=(1000, 5))"
   ]
  },
  {
   "cell_type": "code",
   "execution_count": 3,
   "id": "515bf779",
   "metadata": {},
   "outputs": [],
   "source": [
    "%%capture\n",
    "from contextualized.easy import ContextualizedMarkovNetworks\n",
    "\n",
    "cmn = ContextualizedMarkovNetworks(encoder_type='ngam', num_archetypes=16, n_bootstraps=3)\n",
    "cmn.fit(C, X, max_epochs=5)\n",
    "\n",
    "# Get networks\n",
    "networks = cmn.predict_networks(C)\n",
    "\n",
    "# Get precision matrices\n",
    "precision_mats = cmn.predict_precisions(C)"
   ]
  },
  {
   "cell_type": "code",
   "execution_count": null,
   "id": "d2a5b8c2",
   "metadata": {},
   "outputs": [],
   "source": []
  }
 ],
 "metadata": {
  "kernelspec": {
   "display_name": "Python 3 (ipykernel)",
   "language": "python",
   "name": "python3"
  },
  "language_info": {
   "codemirror_mode": {
    "name": "ipython",
    "version": 3
   },
   "file_extension": ".py",
   "mimetype": "text/x-python",
   "name": "python",
   "nbconvert_exporter": "python",
   "pygments_lexer": "ipython3",
   "version": "3.10.6"
  }
 },
 "nbformat": 4,
 "nbformat_minor": 5
}
