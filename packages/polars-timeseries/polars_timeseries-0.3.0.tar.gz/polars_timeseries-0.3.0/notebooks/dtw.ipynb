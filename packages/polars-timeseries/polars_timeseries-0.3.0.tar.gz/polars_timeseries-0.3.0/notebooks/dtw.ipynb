{
 "cells": [
  {
   "cell_type": "code",
   "execution_count": 15,
   "metadata": {},
   "outputs": [
    {
     "data": {
      "text/html": [
       "<div><style>\n",
       ".dataframe > thead > tr,\n",
       ".dataframe > tbody > tr {\n",
       "  text-align: right;\n",
       "  white-space: pre-wrap;\n",
       "}\n",
       "</style>\n",
       "<small>shape: (74_052, 3)</small><table border=\"1\" class=\"dataframe\"><thead><tr><th>unique_id</th><th>ds</th><th>y</th></tr><tr><td>str</td><td>i64</td><td>f64</td></tr></thead><tbody><tr><td>&quot;H1&quot;</td><td>1</td><td>-125.26119</td></tr><tr><td>&quot;H1&quot;</td><td>2</td><td>-125.382489</td></tr><tr><td>&quot;H1&quot;</td><td>3</td><td>-125.382489</td></tr><tr><td>&quot;H1&quot;</td><td>4</td><td>-125.55486</td></tr><tr><td>&quot;H1&quot;</td><td>5</td><td>-125.861299</td></tr><tr><td>&hellip;</td><td>&hellip;</td><td>&hellip;</td></tr><tr><td>&quot;H99&quot;</td><td>744</td><td>1.012409</td></tr><tr><td>&quot;H99&quot;</td><td>745</td><td>0.722225</td></tr><tr><td>&quot;H99&quot;</td><td>746</td><td>0.52868</td></tr><tr><td>&quot;H99&quot;</td><td>747</td><td>0.31602</td></tr><tr><td>&quot;H99&quot;</td><td>748</td><td>-0.184436</td></tr></tbody></table></div>"
      ],
      "text/plain": [
       "shape: (74_052, 3)\n",
       "┌───────────┬─────┬─────────────┐\n",
       "│ unique_id ┆ ds  ┆ y           │\n",
       "│ ---       ┆ --- ┆ ---         │\n",
       "│ str       ┆ i64 ┆ f64         │\n",
       "╞═══════════╪═════╪═════════════╡\n",
       "│ H1        ┆ 1   ┆ -125.26119  │\n",
       "│ H1        ┆ 2   ┆ -125.382489 │\n",
       "│ H1        ┆ 3   ┆ -125.382489 │\n",
       "│ H1        ┆ 4   ┆ -125.55486  │\n",
       "│ H1        ┆ 5   ┆ -125.861299 │\n",
       "│ …         ┆ …   ┆ …           │\n",
       "│ H99       ┆ 744 ┆ 1.012409    │\n",
       "│ H99       ┆ 745 ┆ 0.722225    │\n",
       "│ H99       ┆ 746 ┆ 0.52868     │\n",
       "│ H99       ┆ 747 ┆ 0.31602     │\n",
       "│ H99       ┆ 748 ┆ -0.184436   │\n",
       "└───────────┴─────┴─────────────┘"
      ]
     },
     "execution_count": 15,
     "metadata": {},
     "output_type": "execute_result"
    }
   ],
   "source": [
    "import polars as pl\n",
    "\n",
    "import polars_ts as pts  # noqa\n",
    "\n",
    "# Create sample dataframe with columns `unique_id`, `ds`, and `y`.\n",
    "df = (\n",
    "    pl.scan_parquet(\"https://datasets-nixtla.s3.amazonaws.com/m4-hourly.parquet\")\n",
    "    # Get only the first 100 timeseries\n",
    "    .filter(pl.col(\"unique_id\").str.strip_chars_start(\"H\").cast(pl.Int64) < 100)\n",
    "    # normalize values per time series\n",
    "    .with_columns((pl.col(\"y\") - pl.mean(\"y\")) / pl.std(\"y\").over(\"unique_id\"))\n",
    "    .collect()\n",
    ")\n",
    "df"
   ]
  },
  {
   "cell_type": "markdown",
   "metadata": {},
   "source": [
    "### Compute pairwise DTW distances between time series in two DataFrames, using extensive parallelism.\n",
    "\n",
    "**Highlights:**\n",
    "- **Less Complex Space:** This version uses O(m) memory instead of allocating the full (n+1)×(m+1) matrix.\n",
    "- **Avoid Self-comparison:** The code does not compute the distance for the same time series `(i,i)`.\n",
    "- **Avoid Duplicate Pairs:** If a pair `(i,j)` is computed, the symmetric pair `(j,i)` is not recomputed.\n",
    "- **Support for Mixed `unique_id` Types:** The algorithm works for unique IDs that are either strings or integers. It also works, if the unique_ids in both dataframes are of different dtype (one df str, the other int).\n"
   ]
  },
  {
   "cell_type": "code",
   "execution_count": 21,
   "metadata": {},
   "outputs": [
    {
     "data": {
      "text/html": [
       "<div><style>\n",
       ".dataframe > thead > tr,\n",
       ".dataframe > tbody > tr {\n",
       "  text-align: right;\n",
       "  white-space: pre-wrap;\n",
       "}\n",
       "</style>\n",
       "<small>shape: (4_851, 3)</small><table border=\"1\" class=\"dataframe\"><thead><tr><th>id_1</th><th>id_2</th><th>dtw</th></tr><tr><td>str</td><td>str</td><td>f64</td></tr></thead><tbody><tr><td>&quot;H1&quot;</td><td>&quot;H10&quot;</td><td>323593.054822</td></tr><tr><td>&quot;H1&quot;</td><td>&quot;H11&quot;</td><td>95024.421833</td></tr><tr><td>&quot;H1&quot;</td><td>&quot;H12&quot;</td><td>88756.652224</td></tr><tr><td>&quot;H1&quot;</td><td>&quot;H13&quot;</td><td>26698.268043</td></tr><tr><td>&quot;H1&quot;</td><td>&quot;H14&quot;</td><td>395201.77239</td></tr><tr><td>&hellip;</td><td>&hellip;</td><td>&hellip;</td></tr><tr><td>&quot;H96&quot;</td><td>&quot;H98&quot;</td><td>34955.942545</td></tr><tr><td>&quot;H96&quot;</td><td>&quot;H99&quot;</td><td>12529.282701</td></tr><tr><td>&quot;H97&quot;</td><td>&quot;H98&quot;</td><td>50947.917265</td></tr><tr><td>&quot;H97&quot;</td><td>&quot;H99&quot;</td><td>3011.452282</td></tr><tr><td>&quot;H98&quot;</td><td>&quot;H99&quot;</td><td>47485.225245</td></tr></tbody></table></div>"
      ],
      "text/plain": [
       "shape: (4_851, 3)\n",
       "┌──────┬──────┬───────────────┐\n",
       "│ id_1 ┆ id_2 ┆ dtw           │\n",
       "│ ---  ┆ ---  ┆ ---           │\n",
       "│ str  ┆ str  ┆ f64           │\n",
       "╞══════╪══════╪═══════════════╡\n",
       "│ H1   ┆ H10  ┆ 323593.054822 │\n",
       "│ H1   ┆ H11  ┆ 95024.421833  │\n",
       "│ H1   ┆ H12  ┆ 88756.652224  │\n",
       "│ H1   ┆ H13  ┆ 26698.268043  │\n",
       "│ H1   ┆ H14  ┆ 395201.77239  │\n",
       "│ …    ┆ …    ┆ …             │\n",
       "│ H96  ┆ H98  ┆ 34955.942545  │\n",
       "│ H96  ┆ H99  ┆ 12529.282701  │\n",
       "│ H97  ┆ H98  ┆ 50947.917265  │\n",
       "│ H97  ┆ H99  ┆ 3011.452282   │\n",
       "│ H98  ┆ H99  ┆ 47485.225245  │\n",
       "└──────┴──────┴───────────────┘"
      ]
     },
     "execution_count": 21,
     "metadata": {},
     "output_type": "execute_result"
    }
   ],
   "source": [
    "pts.compute_pairwise_dtw(df, df).sort(\"id_1\", \"id_2\")"
   ]
  },
  {
   "cell_type": "code",
   "execution_count": 3,
   "metadata": {},
   "outputs": [
    {
     "data": {
      "text/html": [
       "<div><style>\n",
       ".dataframe > thead > tr,\n",
       ".dataframe > tbody > tr {\n",
       "  text-align: right;\n",
       "  white-space: pre-wrap;\n",
       "}\n",
       "</style>\n",
       "<small>shape: (4_950, 3)</small><table border=\"1\" class=\"dataframe\"><thead><tr><th>id_1</th><th>id_2</th><th>dtw</th></tr><tr><td>i16</td><td>i16</td><td>f64</td></tr></thead><tbody><tr><td>1</td><td>2</td><td>72723.789913</td></tr><tr><td>1</td><td>3</td><td>41214.283077</td></tr><tr><td>1</td><td>4</td><td>80042.978954</td></tr><tr><td>1</td><td>5</td><td>73544.577091</td></tr><tr><td>1</td><td>6</td><td>79447.142707</td></tr><tr><td>&hellip;</td><td>&hellip;</td><td>&hellip;</td></tr><tr><td>100</td><td>95</td><td>39830.721886</td></tr><tr><td>100</td><td>96</td><td>24053.177779</td></tr><tr><td>100</td><td>97</td><td>39913.269024</td></tr><tr><td>100</td><td>98</td><td>10539.125862</td></tr><tr><td>100</td><td>99</td><td>36464.836699</td></tr></tbody></table></div>"
      ],
      "text/plain": [
       "shape: (4_950, 3)\n",
       "┌──────┬──────┬──────────────┐\n",
       "│ id_1 ┆ id_2 ┆ dtw          │\n",
       "│ ---  ┆ ---  ┆ ---          │\n",
       "│ i16  ┆ i16  ┆ f64          │\n",
       "╞══════╪══════╪══════════════╡\n",
       "│ 1    ┆ 2    ┆ 72723.789913 │\n",
       "│ 1    ┆ 3    ┆ 41214.283077 │\n",
       "│ 1    ┆ 4    ┆ 80042.978954 │\n",
       "│ 1    ┆ 5    ┆ 73544.577091 │\n",
       "│ 1    ┆ 6    ┆ 79447.142707 │\n",
       "│ …    ┆ …    ┆ …            │\n",
       "│ 100  ┆ 95   ┆ 39830.721886 │\n",
       "│ 100  ┆ 96   ┆ 24053.177779 │\n",
       "│ 100  ┆ 97   ┆ 39913.269024 │\n",
       "│ 100  ┆ 98   ┆ 10539.125862 │\n",
       "│ 100  ┆ 99   ┆ 36464.836699 │\n",
       "└──────┴──────┴──────────────┘"
      ]
     },
     "execution_count": 3,
     "metadata": {},
     "output_type": "execute_result"
    }
   ],
   "source": [
    "# Cast the unique_ids of the dataframes to Int.\n",
    "df_casted = df.with_columns(pl.col(\"unique_id\").str.strip_chars_start(\"H\").cast(pl.Int16))\n",
    "pts.compute_pairwise_dtw(df_casted, df_casted).sort(\"id_1\", \"id_2\")"
   ]
  },
  {
   "cell_type": "code",
   "execution_count": 7,
   "metadata": {},
   "outputs": [
    {
     "data": {
      "text/html": [
       "<div><style>\n",
       ".dataframe > thead > tr,\n",
       ".dataframe > tbody > tr {\n",
       "  text-align: right;\n",
       "  white-space: pre-wrap;\n",
       "}\n",
       "</style>\n",
       "<small>shape: (10_000, 3)</small><table border=\"1\" class=\"dataframe\"><thead><tr><th>id_1</th><th>id_2</th><th>dtw</th></tr><tr><td>str</td><td>i16</td><td>f64</td></tr></thead><tbody><tr><td>&quot;H1&quot;</td><td>1</td><td>0.0</td></tr><tr><td>&quot;H1&quot;</td><td>2</td><td>72723.789913</td></tr><tr><td>&quot;H1&quot;</td><td>3</td><td>41214.283077</td></tr><tr><td>&quot;H1&quot;</td><td>4</td><td>80042.978954</td></tr><tr><td>&quot;H1&quot;</td><td>5</td><td>73544.577091</td></tr><tr><td>&hellip;</td><td>&hellip;</td><td>&hellip;</td></tr><tr><td>&quot;H99&quot;</td><td>96</td><td>12411.65892</td></tr><tr><td>&quot;H99&quot;</td><td>97</td><td>2984.795222</td></tr><tr><td>&quot;H99&quot;</td><td>98</td><td>47003.962561</td></tr><tr><td>&quot;H99&quot;</td><td>99</td><td>0.0</td></tr><tr><td>&quot;H99&quot;</td><td>100</td><td>36464.836699</td></tr></tbody></table></div>"
      ],
      "text/plain": [
       "shape: (10_000, 3)\n",
       "┌──────┬──────┬──────────────┐\n",
       "│ id_1 ┆ id_2 ┆ dtw          │\n",
       "│ ---  ┆ ---  ┆ ---          │\n",
       "│ str  ┆ i16  ┆ f64          │\n",
       "╞══════╪══════╪══════════════╡\n",
       "│ H1   ┆ 1    ┆ 0.0          │\n",
       "│ H1   ┆ 2    ┆ 72723.789913 │\n",
       "│ H1   ┆ 3    ┆ 41214.283077 │\n",
       "│ H1   ┆ 4    ┆ 80042.978954 │\n",
       "│ H1   ┆ 5    ┆ 73544.577091 │\n",
       "│ …    ┆ …    ┆ …            │\n",
       "│ H99  ┆ 96   ┆ 12411.65892  │\n",
       "│ H99  ┆ 97   ┆ 2984.795222  │\n",
       "│ H99  ┆ 98   ┆ 47003.962561 │\n",
       "│ H99  ┆ 99   ┆ 0.0          │\n",
       "│ H99  ┆ 100  ┆ 36464.836699 │\n",
       "└──────┴──────┴──────────────┘"
      ]
     },
     "execution_count": 7,
     "metadata": {},
     "output_type": "execute_result"
    }
   ],
   "source": [
    "# It also works for mixed types, i.e. one dataframe has str, the other has int for unique_id.\n",
    "# Now we don't have duplicate calculations to skip, that is why we have more combinations to compute.\n",
    "pts.compute_pairwise_dtw(df, df_casted).sort(\"id_1\", \"id_2\")"
   ]
  },
  {
   "cell_type": "code",
   "execution_count": null,
   "metadata": {},
   "outputs": [],
   "source": []
  }
 ],
 "metadata": {
  "kernelspec": {
   "display_name": ".venv",
   "language": "python",
   "name": "python3"
  },
  "language_info": {
   "codemirror_mode": {
    "name": "ipython",
    "version": 3
   },
   "file_extension": ".py",
   "mimetype": "text/x-python",
   "name": "python",
   "nbconvert_exporter": "python",
   "pygments_lexer": "ipython3",
   "version": "3.12.8"
  }
 },
 "nbformat": 4,
 "nbformat_minor": 2
}
