{
 "cells": [
  {
   "cell_type": "code",
   "execution_count": 1,
   "metadata": {},
   "outputs": [],
   "source": [
    "import polars as pl\n",
    "from polars.testing import assert_frame_equal\n",
    "\n",
    "from polars_ts import mann_kendall\n",
    "\n",
    "\n",
    "def mk_stat_polars(y: pl.Series) -> pl.Expr:\n",
    "    \"\"\"Naive implementation of Mann-Kendall trend test for a Polars columns.\n",
    "    \n",
    "    Use this just to verify the output. The optimized method is available via\n",
    "    from polars_ts import mann_kendall.\n",
    "    \"\"\"\n",
    "    n = y.len()\n",
    "\n",
    "    # Initialize variable for sum of ranks (s)\n",
    "    s = 0\n",
    "\n",
    "    # We will use vectorized operations to compute the sums hopefully\n",
    "    for k in range(n - 1):\n",
    "        # Compare each element with all subsequent elements\n",
    "        greater = (y[k + 1 : n] > y[k]).sum()\n",
    "        less = (y[k + 1 : n] < y[k]).sum()\n",
    "        s += greater - less\n",
    "\n",
    "    # Mann-Kendall statistic formula: s / (0.5 * n * (n - 1))\n",
    "    mk_stat = s / (0.5 * n * (n - 1))\n",
    "    return mk_stat"
   ]
  },
  {
   "cell_type": "code",
   "execution_count": 2,
   "metadata": {},
   "outputs": [],
   "source": [
    "df = pl.read_parquet(\"https://datasets-nixtla.s3.amazonaws.com/m4-hourly.parquet\")"
   ]
  },
  {
   "cell_type": "code",
   "execution_count": 3,
   "metadata": {},
   "outputs": [
    {
     "data": {
      "text/html": [
       "<div><style>\n",
       ".dataframe > thead > tr,\n",
       ".dataframe > tbody > tr {\n",
       "  text-align: right;\n",
       "  white-space: pre-wrap;\n",
       "}\n",
       "</style>\n",
       "<small>shape: (414, 2)</small><table border=\"1\" class=\"dataframe\"><thead><tr><th>unique_id</th><th>mann_kendall</th></tr><tr><td>str</td><td>f64</td></tr></thead><tbody><tr><td>&quot;H1&quot;</td><td>0.144457</td></tr><tr><td>&quot;H10&quot;</td><td>-0.208341</td></tr><tr><td>&quot;H100&quot;</td><td>0.183003</td></tr><tr><td>&quot;H101&quot;</td><td>-0.072339</td></tr><tr><td>&quot;H102&quot;</td><td>-0.050867</td></tr><tr><td>&hellip;</td><td>&hellip;</td></tr><tr><td>&quot;H95&quot;</td><td>0.296763</td></tr><tr><td>&quot;H96&quot;</td><td>-0.043858</td></tr><tr><td>&quot;H97&quot;</td><td>0.118803</td></tr><tr><td>&quot;H98&quot;</td><td>0.006375</td></tr><tr><td>&quot;H99&quot;</td><td>0.245674</td></tr></tbody></table></div>"
      ],
      "text/plain": [
       "shape: (414, 2)\n",
       "┌───────────┬──────────────┐\n",
       "│ unique_id ┆ mann_kendall │\n",
       "│ ---       ┆ ---          │\n",
       "│ str       ┆ f64          │\n",
       "╞═══════════╪══════════════╡\n",
       "│ H1        ┆ 0.144457     │\n",
       "│ H10       ┆ -0.208341    │\n",
       "│ H100      ┆ 0.183003     │\n",
       "│ H101      ┆ -0.072339    │\n",
       "│ H102      ┆ -0.050867    │\n",
       "│ …         ┆ …            │\n",
       "│ H95       ┆ 0.296763     │\n",
       "│ H96       ┆ -0.043858    │\n",
       "│ H97       ┆ 0.118803     │\n",
       "│ H98       ┆ 0.006375     │\n",
       "│ H99       ┆ 0.245674     │\n",
       "└───────────┴──────────────┘"
      ]
     },
     "execution_count": 3,
     "metadata": {},
     "output_type": "execute_result"
    }
   ],
   "source": [
    "optimized = (\n",
    "    df.group_by(\"unique_id\", maintain_order=True)\n",
    "    .agg(mann_kendall=mann_kendall(\"y\"))\n",
    "    .with_columns(pl.col(\"mann_kendall\").list.first())\n",
    ")\n",
    "optimized"
   ]
  },
  {
   "cell_type": "code",
   "execution_count": 4,
   "metadata": {},
   "outputs": [],
   "source": [
    "naive = (\n",
    "    df.group_by(\"unique_id\", maintain_order=True)\n",
    "    .agg(pl.col(\"y\").map_batches(mk_stat_polars, return_dtype=pl.Float64).alias(\"mann_kendall\"))\n",
    "    .with_columns(pl.col(\"mann_kendall\").list.first())\n",
    ")"
   ]
  },
  {
   "cell_type": "code",
   "execution_count": 5,
   "metadata": {},
   "outputs": [],
   "source": [
    "assert_frame_equal(optimized, naive)"
   ]
  }
 ],
 "metadata": {
  "kernelspec": {
   "display_name": ".venv",
   "language": "python",
   "name": "python3"
  },
  "language_info": {
   "codemirror_mode": {
    "name": "ipython",
    "version": 3
   },
   "file_extension": ".py",
   "mimetype": "text/x-python",
   "name": "python",
   "nbconvert_exporter": "python",
   "pygments_lexer": "ipython3",
   "version": "3.12.8"
  }
 },
 "nbformat": 4,
 "nbformat_minor": 2
}
