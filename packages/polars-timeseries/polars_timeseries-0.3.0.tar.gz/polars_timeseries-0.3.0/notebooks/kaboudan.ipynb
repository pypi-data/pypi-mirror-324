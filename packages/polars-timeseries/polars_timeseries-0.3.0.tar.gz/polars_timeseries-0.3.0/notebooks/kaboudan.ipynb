{
 "cells": [
  {
   "cell_type": "code",
   "execution_count": 1,
   "metadata": {},
   "outputs": [
    {
     "data": {
      "text/html": [
       "<div><style>\n",
       ".dataframe > thead > tr,\n",
       ".dataframe > tbody > tr {\n",
       "  text-align: right;\n",
       "  white-space: pre-wrap;\n",
       "}\n",
       "</style>\n",
       "<small>shape: (3, 3)</small><table border=\"1\" class=\"dataframe\"><thead><tr><th>unique_id</th><th>OptimizedTheta</th><th>AutoETS</th></tr><tr><td>str</td><td>f64</td><td>f64</td></tr></thead><tbody><tr><td>&quot;H1&quot;</td><td>0.523165</td><td>0.130512</td></tr><tr><td>&quot;H2&quot;</td><td>0.489781</td><td>0.028746</td></tr><tr><td>&quot;H3&quot;</td><td>0.45061</td><td>0.129111</td></tr></tbody></table></div>"
      ],
      "text/plain": [
       "shape: (3, 3)\n",
       "┌───────────┬────────────────┬──────────┐\n",
       "│ unique_id ┆ OptimizedTheta ┆ AutoETS  │\n",
       "│ ---       ┆ ---            ┆ ---      │\n",
       "│ str       ┆ f64            ┆ f64      │\n",
       "╞═══════════╪════════════════╪══════════╡\n",
       "│ H1        ┆ 0.523165       ┆ 0.130512 │\n",
       "│ H2        ┆ 0.489781       ┆ 0.028746 │\n",
       "│ H3        ┆ 0.45061        ┆ 0.129111 │\n",
       "└───────────┴────────────────┴──────────┘"
      ]
     },
     "execution_count": 1,
     "metadata": {},
     "output_type": "execute_result"
    }
   ],
   "source": [
    "import polars as pl\n",
    "from statsforecast import StatsForecast\n",
    "from statsforecast.models import AutoETS, OptimizedTheta\n",
    "\n",
    "import polars_ts as pts  # noqa\n",
    "\n",
    "# Create sample dataframe with columns `unique_id`, `ds`, and `y`.\n",
    "df = (\n",
    "    pl.scan_parquet(\"https://datasets-nixtla.s3.amazonaws.com/m4-hourly.parquet\")\n",
    "    .filter(pl.col(\"unique_id\").is_in([\"H1\", \"H2\", \"H3\"]))\n",
    "    .collect()\n",
    ")\n",
    "\n",
    "# Define models\n",
    "season_length = 24\n",
    "models = [\n",
    "    OptimizedTheta(season_length=season_length, decomposition_type=\"additive\"),\n",
    "    AutoETS(season_length=season_length),\n",
    "]\n",
    "sf = StatsForecast(models=models, freq=1, n_jobs=-1)\n",
    "\n",
    "# Compute the Kaboudan metric in the `ts` namespace\n",
    "res = df.pts.kaboudan(sf, block_size=200, backtesting_start=0.5, n_folds=10, agg=False)\n",
    "res"
   ]
  },
  {
   "cell_type": "code",
   "execution_count": null,
   "metadata": {},
   "outputs": [],
   "source": []
  }
 ],
 "metadata": {
  "kernelspec": {
   "display_name": ".venv",
   "language": "python",
   "name": "python3"
  },
  "language_info": {
   "codemirror_mode": {
    "name": "ipython",
    "version": 3
   },
   "file_extension": ".py",
   "mimetype": "text/x-python",
   "name": "python",
   "nbconvert_exporter": "python",
   "pygments_lexer": "ipython3",
   "version": "3.12.8"
  }
 },
 "nbformat": 4,
 "nbformat_minor": 2
}
