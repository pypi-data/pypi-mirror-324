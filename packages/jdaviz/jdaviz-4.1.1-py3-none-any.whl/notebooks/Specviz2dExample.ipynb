{
 "cells": [
  {
   "cell_type": "markdown",
   "id": "73ca6a10",
   "metadata": {},
   "source": [
    "# Specviz2d Demonstration Notebook\n",
    "This notebook demonstrates the Specviz2d API in the Notebook setting. General documentation about Jdaviz UI and interactions can be found here: https://jdaviz.readthedocs.io/en/latest/index.html"
   ]
  },
  {
   "cell_type": "markdown",
   "id": "ec894f29",
   "metadata": {},
   "source": [
    "## Create Specviz2d via Helper"
   ]
  },
  {
   "cell_type": "code",
   "execution_count": null,
   "id": "f99e3d2d",
   "metadata": {},
   "outputs": [],
   "source": [
    "from jdaviz import Specviz2d\n",
    "\n",
    "specviz2d = Specviz2d()"
   ]
  },
  {
   "cell_type": "markdown",
   "id": "0ed07713",
   "metadata": {},
   "source": [
    "## Display Specviz2d"
   ]
  },
  {
   "cell_type": "code",
   "execution_count": null,
   "id": "45802673",
   "metadata": {},
   "outputs": [],
   "source": [
    "specviz2d.show()"
   ]
  },
  {
   "cell_type": "markdown",
   "id": "c5d391ee",
   "metadata": {},
   "source": [
    "## Load a File\n",
    "\n",
    "Now we load observations. If you already have the files on your local machine, you can \n",
    "load them by passing their file paths to `load_data` as strings. For this example, \n",
    "we will retrieve remote data from [MAST](https://mast.stsci.edu/) via `astroquery`\n",
    "by passing the observation's URI as a string. By default, the downloaded files are \n",
    "saved to the current working directory. If you set `cache=False` in the `load_data` \n",
    "call, it will re-download the file if desired.\n",
    "\n",
    "One other thing to note about retrieving MAST data through astroquery is that it caches\n",
    "the data by default. It is possible for files to be updated in MAST with more recent calibrations\n",
    "but remain the same size, in which case your local cached file would not be replaced by the new\n",
    "version. You can turn off caching by setting `cache=False` in the `download_file` call to\n",
    "force it to re-download the file if desired."
   ]
  },
  {
   "cell_type": "code",
   "execution_count": null,
   "id": "ec94837b",
   "metadata": {},
   "outputs": [],
   "source": [
    "uri = f\"mast:JWST/product/jw01538-o160_s00004_nirspec_f170lp-g235h-s1600a1-sub2048_s2d.fits\"\n",
    "\n",
    "specviz2d.load_data(uri, cache=True)"
   ]
  },
  {
   "cell_type": "markdown",
   "id": "795bc520",
   "metadata": {},
   "source": [
    "Alternatively, the data and the configuration can be autodetected and loaded simultaneously by calling `jdaviz.open(uri)`"
   ]
  },
  {
   "cell_type": "code",
   "execution_count": null,
   "id": "eab25c8f-fd01-4057-98ac-c9e0cd4f8397",
   "metadata": {},
   "outputs": [],
   "source": []
  }
 ],
 "metadata": {
  "kernelspec": {
   "display_name": "Python 3 (ipykernel)",
   "language": "python",
   "name": "python3"
  },
  "language_info": {
   "codemirror_mode": {
    "name": "ipython",
    "version": 3
   },
   "file_extension": ".py",
   "mimetype": "text/x-python",
   "name": "python",
   "nbconvert_exporter": "python",
   "pygments_lexer": "ipython3",
   "version": "3.11.5"
  }
 },
 "nbformat": 4,
 "nbformat_minor": 5
}
