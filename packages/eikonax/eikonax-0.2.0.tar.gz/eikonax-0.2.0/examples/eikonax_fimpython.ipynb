{
 "cells": [
  {
   "cell_type": "code",
   "execution_count": null,
   "metadata": {},
   "outputs": [],
   "source": [
    "import jax.numpy as jnp\n",
    "import matplotlib.pyplot as plt\n",
    "import numpy as np\n",
    "import seaborn as sns\n",
    "from fimpy.solver import create_fim_solver\n",
    "from scipy.spatial import Delaunay\n",
    "\n",
    "from eikonax import corefunctions, preprocessing, solver\n",
    "\n",
    "sns.set_theme(style=\"ticks\")"
   ]
  },
  {
   "cell_type": "code",
   "execution_count": 2,
   "metadata": {},
   "outputs": [],
   "source": [
    "def generate_mesh(num_points):\n",
    "    mesh_bounds_x = (0, 1)\n",
    "    mesh_bounds_y = (0, 1)\n",
    "    num_points_x = num_points\n",
    "    num_points_y = num_points\n",
    "    mesh_points_x = np.linspace(*mesh_bounds_x, num_points_x)\n",
    "    mesh_points_y = np.linspace(*mesh_bounds_y, num_points_y)\n",
    "    mesh_points = np.column_stack(\n",
    "        (np.repeat(mesh_points_x, num_points_x), np.tile(mesh_points_y, num_points_y))\n",
    "    )\n",
    "    triangulation = Delaunay(mesh_points)\n",
    "    vertices = triangulation.points\n",
    "    simplices = triangulation.simplices\n",
    "    return vertices, simplices\n",
    "\n",
    "\n",
    "def generate_uniform_tensor_field(num_simplices):\n",
    "    tensor_field = np.repeat(np.identity(2)[np.newaxis, :, :], num_simplices, axis=0)\n",
    "    return tensor_field\n",
    "\n",
    "\n",
    "def generate_random_tensor_field(num_simplices):\n",
    "    rng = np.random.default_rng(seed=0)\n",
    "    inv_speed_values = rng.uniform(0.5, 1.5, num_simplices)\n",
    "    tensor_field = np.repeat(np.identity(2)[np.newaxis, :, :], num_simplices, axis=0)\n",
    "    tensor_field = np.einsum(\"i,ijk->ijk\", inv_speed_values, tensor_field)\n",
    "    return tensor_field\n",
    "\n",
    "\n",
    "def generate_function_tensor_field(vertices, simplices):\n",
    "    simplex_centers = np.mean(vertices[simplices], axis=1)\n",
    "    inv_speed_values = 1 / (\n",
    "        1\n",
    "        + 10\n",
    "        * np.exp(-50 * np.linalg.norm(simplex_centers - np.array([[0.65, 0.65]]), axis=-1) ** 2)\n",
    "    )\n",
    "    tensor_field = np.repeat(np.identity(2)[np.newaxis, :, :], simplices.shape[0], axis=0)\n",
    "    tensor_field = np.einsum(\"i,ijk->ijk\", inv_speed_values, tensor_field)\n",
    "    return tensor_field"
   ]
  },
  {
   "cell_type": "code",
   "execution_count": 3,
   "metadata": {},
   "outputs": [],
   "source": [
    "num_points = 100\n",
    "initial_sites = (np.array([0]), np.array([0]))\n",
    "vertices, simplices = generate_mesh(num_points)\n",
    "simplex_centers = np.mean(vertices[simplices], axis=1)\n",
    "uniform_tensor_field = generate_uniform_tensor_field(simplices.shape[0])\n",
    "random_tensor_field = generate_random_tensor_field(simplices.shape[0])\n",
    "function_tensor_field = generate_function_tensor_field(vertices, simplices)\n",
    "\n",
    "eikonax_initial_sites = corefunctions.InitialSites(inds=jnp.array((0,)), values=jnp.array((0,)))\n",
    "eikonax_adjacency_data = preprocessing.get_adjacent_vertex_data(simplices, vertices.shape[0])\n",
    "eikonax_mesh_data = corefunctions.MeshData(vertices=vertices, adjacency_data=eikonax_adjacency_data)\n",
    "eikonax_solver_data = solver.SolverData(\n",
    "    tolerance=1e-8,\n",
    "    max_num_iterations=1000,\n",
    "    loop_type=\"jitted_while\",\n",
    "    max_value=1000,\n",
    "    use_soft_update=False,\n",
    "    softminmax_order=20,\n",
    "    softminmax_cutoff=1.0,\n",
    "    log_interval=1,\n",
    ")"
   ]
  },
  {
   "cell_type": "code",
   "execution_count": null,
   "metadata": {},
   "outputs": [],
   "source": [
    "for tensor_field in [uniform_tensor_field, random_tensor_field, function_tensor_field]:\n",
    "    fimpython_solver = create_fim_solver(vertices, simplices, tensor_field, use_active_list=False)\n",
    "    fimpython_solution = fimpython_solver.comp_fim(*initial_sites)\n",
    "    eikonax_tensor_field = jnp.array(np.linalg.inv(tensor_field))\n",
    "    eikonax_solver = solver.Solver(eikonax_mesh_data, eikonax_solver_data, eikonax_initial_sites)\n",
    "    eikonax_solution = np.array(eikonax_solver.run(eikonax_tensor_field).values)\n",
    "    solution_diff = fimpython_solution - eikonax_solution\n",
    "    arrays_to_plot = [fimpython_solution, eikonax_solution, solution_diff]\n",
    "    plot_titles = [\"FIMPy\", \"Eikonax\", \"Difference\"]\n",
    "\n",
    "    fig, axs = plt.subplots(nrows=1, ncols=4, figsize=(18, 4), layout=\"constrained\")\n",
    "    axs[0].set_title(\"Tensor Field\")\n",
    "    scatter_plot = axs[0].scatter(\n",
    "        simplex_centers[:, 0], simplex_centers[:, 1], c=tensor_field[:, 0, 0]\n",
    "    )\n",
    "    plt.colorbar(scatter_plot)\n",
    "\n",
    "    for ax, title, array in zip(axs[1:], plot_titles, arrays_to_plot, strict=True):\n",
    "        ax.set_title(title)\n",
    "        scatter_plot = ax.scatter(vertices[:, 0], vertices[:, 1], c=array)\n",
    "        plt.colorbar(scatter_plot)"
   ]
  },
  {
   "cell_type": "code",
   "execution_count": null,
   "metadata": {},
   "outputs": [],
   "source": [
    "fig, ax = plt.subplots(figsize=(7.2, 6), layout=\"constrained\")\n",
    "contour_plot = ax.tricontourf(vertices[:, 0], vertices[:, 1], eikonax_solution, cmap=\"Blues_r\")\n",
    "ax.set_xticks([0, 0.2, 0.4, 0.6, 0.8, 1])\n",
    "ax.set_yticks([0, 0.2, 0.4, 0.6, 0.8, 1])\n",
    "plt.colorbar(contour_plot)"
   ]
  }
 ],
 "metadata": {
  "kernelspec": {
   "display_name": ".venv",
   "language": "python",
   "name": "python3"
  },
  "language_info": {
   "codemirror_mode": {
    "name": "ipython",
    "version": 3
   },
   "file_extension": ".py",
   "mimetype": "text/x-python",
   "name": "python",
   "nbconvert_exporter": "python",
   "pygments_lexer": "ipython3",
   "version": "3.12.8"
  }
 },
 "nbformat": 4,
 "nbformat_minor": 2
}
