{
 "cells": [
  {
   "cell_type": "markdown",
   "metadata": {},
   "source": [
    "# Exercise 2: My first compatibility study"
   ]
  },
  {
   "cell_type": "markdown",
   "metadata": {},
   "source": [
    "## License\n",
    "\n",
    "```\n",
    "Basic conversion formulas for Radioastronomy.\n",
    "Copyright (C) 2012+  Axel Jessner (jessner@mpifr.de)\n",
    "              2015+  Benjamin Winkel (bwinkel@mpifr.de)\n",
    "\n",
    "This program is free software; you can redistribute it and/or\n",
    "modify it under the terms of the GNU General Public License\n",
    "as published by the Free Software Foundation; either version 2\n",
    "of the License, or (at your option) any later version.\n",
    "\n",
    "This program is distributed in the hope that it will be useful,\n",
    "but WITHOUT ANY WARRANTY; without even the implied warranty of\n",
    "MERCHANTABILITY or FITNESS FOR A PARTICULAR PURPOSE.  See the\n",
    "GNU General Public License for more details.\n",
    "\n",
    "You should have received a copy of the GNU General Public License\n",
    "along with this program; if not, write to the Free Software\n",
    "Foundation, Inc., 51 Franklin Street, Fifth Floor, Boston, MA  02110-1301, USA.\n",
    "```"
   ]
  },
  {
   "cell_type": "markdown",
   "metadata": {},
   "source": [
    "## Exercises\n",
    "\n",
    "### Kepler's anniversary\n",
    "\n",
    "Johannes Kepler was born on December 27, 1571. To celebrate his 450th anniversary, the government of the state of North-Rhine-Westphalia decides to switch off all artificial light sources on December 27, 2021, so that people can finally enjoy the stars in the sky in the middle of Europe.\n",
    "\n",
    "Unfortunately, hundreds of amateur astronomers make themselves ready to use their sophisticated and highly automated optical telescopes during this night. It is well known, that especially the Pro-OBS-2000 telescope motorized mount has insufficient shielding and produces radio frequency interference at multiples of an oscillator running at 48.5 MHz. One of the harmonics happens to lie at 1406.5 MHz, close to the important 21-cm HI line at 1420 MHz and well within the protected RAS band.\n",
    "\n",
    "Therefore, the German administration has asked you, to provide the necessary calculations to determine a protection zone around the 100-m radio telescope at Effelsberg, such that no harm is put to radio observations on that night."
   ]
  },
  {
   "cell_type": "markdown",
   "metadata": {},
   "source": [
    "### Emission characteristics\n",
    "\n",
    "Since HI line observations are planned, we have to use the spectral-line limits of ITU-R RA.769.\n",
    "\n",
    "- What is the permitted power limit that applies and what is the bandwidth of a spectral channel?"
   ]
  },
  {
   "cell_type": "markdown",
   "metadata": {},
   "source": [
    "The strength of the RFI line is -70 dBm/Hz and it has a width of 2.5 Hz.\n",
    "\n",
    "- How much power goes into the spectral channel (defined in RA.769)?"
   ]
  },
  {
   "cell_type": "markdown",
   "metadata": {},
   "source": [
    "### Separation distances\n",
    "\n",
    "-  What is the minimal coupling loss, i.e., the necessary amount of attenuation to bring the RFI signal below the RA.769 levels?"
   ]
  },
  {
   "cell_type": "markdown",
   "metadata": {},
   "source": [
    "- Assuming Line-of-Sight attenuation only, what is the minimal distance that a single interferer must have from the telescope?"
   ]
  },
  {
   "cell_type": "markdown",
   "metadata": {},
   "source": [
    "Fortunately, Effelsberg is surrounded by some hills, which provide additional shielding.\n",
    "\n",
    "- Calculate the exclusion zone around the 100-m based on the topography and visualize it!"
   ]
  },
  {
   "cell_type": "markdown",
   "metadata": {},
   "source": [
    "### Simple aggregation"
   ]
  },
  {
   "cell_type": "markdown",
   "metadata": {},
   "source": [
    "A group of amateur astronomers builds a camp well outside of the exclusion zone at $(l, b)=(6.9^\\circ, 50.57^\\circ)$.\n",
    "\n",
    "- How many Pro-OBS-2000 mounts are at most tolerable before the aggregated emission will again be above the RA.769 levels?"
   ]
  },
  {
   "cell_type": "markdown",
   "metadata": {},
   "source": [
    "### Deadlines...\n",
    "\n",
    "Everything goes as planned. However, one day before the event, you get a phone call: a Chinese vendor sold hundreds of LED based flash lights to the amateur astronomers, which leak broadband emission into the L-band. The estimated power level is -50 dBm/MHz over the full protected RAS band. You have 30 minutes to calculate the necessary single-interferer exclusion zone, before it is too late!\n",
    "\n",
    "- Repeat the separation-distance calculations (as above) for the LED spectrum (RA.769 continuum case)."
   ]
  }
 ],
 "metadata": {
  "anaconda-cloud": {},
  "kernelspec": {
   "display_name": "Python [Root]",
   "language": "python",
   "name": "Python [Root]"
  },
  "language_info": {
   "codemirror_mode": {
    "name": "ipython",
    "version": 3
   },
   "file_extension": ".py",
   "mimetype": "text/x-python",
   "name": "python",
   "nbconvert_exporter": "python",
   "pygments_lexer": "ipython3",
   "version": "3.5.2"
  }
 },
 "nbformat": 4,
 "nbformat_minor": 0
}
