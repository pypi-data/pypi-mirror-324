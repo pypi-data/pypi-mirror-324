{
 "cells": [
  {
   "cell_type": "markdown",
   "metadata": {},
   "source": [
    "# Basic conversion formulas"
   ]
  },
  {
   "cell_type": "markdown",
   "metadata": {},
   "source": [
    "## License\n",
    "\n",
    "```\n",
    "Basic conversion formulas for Radioastronomy.\n",
    "Copyright (C) 2012+  Axel Jessner (jessner@mpifr.de)\n",
    "              2015+  Benjamin Winkel (bwinkel@mpifr.de)\n",
    "              2021+  Gyula Józsa (gjozsa@mpifr.de)\n",
    "\n",
    "This program is free software; you can redistribute it and/or\n",
    "modify it under the terms of the GNU General Public License\n",
    "as published by the Free Software Foundation; either version 2\n",
    "of the License, or (at your option) any later version.\n",
    "\n",
    "This program is distributed in the hope that it will be useful,\n",
    "but WITHOUT ANY WARRANTY; without even the implied warranty of\n",
    "MERCHANTABILITY or FITNESS FOR A PARTICULAR PURPOSE.  See the\n",
    "GNU General Public License for more details.\n",
    "\n",
    "You should have received a copy of the GNU General Public License\n",
    "along with this program; if not, write to the Free Software\n",
    "Foundation, Inc., 51 Franklin Street, Fifth Floor, Boston, MA  02110-1301, USA.\n",
    "```"
   ]
  },
  {
   "cell_type": "markdown",
   "metadata": {},
   "source": [
    "## Basic quantities and conversions\n",
    "\n",
    "The Pointing flux is defined as\n",
    "\n",
    "$$\\vec S = \\vec E \\times \\vec H\\,.$$\n",
    "\n",
    "For a plane wave we find\n",
    "\n",
    "$$S\\equiv\\vert \\vec S \\vert = \\sqrt{\\frac{\\varepsilon_0}{\\mu_0}} \\vert \\vec E \\vert^2 = \\frac{E^2}{R_0}$$\n",
    "\n",
    "with\n",
    "\n",
    "$$R_0 \\equiv \\sqrt{\\frac{\\mu_0}{\\varepsilon_0}} = 376.73~\\Omega\\,.$$\n",
    "\n",
    "$S$ is called irradiance or power flux density, or total flux density.\n",
    "\n",
    "The antenna gain $G_\\mathrm{tx}(\\theta,\\phi)$ of a transmitter is defined through the relationship between radiated flux density at distance $d$ and input power $P_\\mathrm{tx}$ at the feed point (also called conducted power at the antenna port):\n",
    "\n",
    "$$ S = G_\\mathrm{tx}(\\theta,\\phi)\\frac{P_\\mathrm{tx}}{4\\pi d^2} = \\int \\mathrm{d}\\nu\\,S_\\nu\\,\\qquad . $$\n",
    "\n",
    "$S_\\nu$ is the spectral flux density (in radio astronomy usually called flux density, while $S$ is called the total flux density), which is often expressed in units of Jansky in radio astronomy.\n",
    "\n",
    "$$\n",
    "1\\,\\mathrm{Jy} \\equiv 10^{-26}\\,\\mathrm{W\\,m^{-2}\\,Hz^{-1}}\n",
    "$$\n",
    "\n",
    "$S$ varies along the sphere with radius $d$, which is why $G$ is direction-dependent ($G\\,=\\,G(\\theta,\\phi)$, where $\\theta$ and $\\phi$ are polar coordinates). The total radiated power $P_\\mathrm{rad}$ is\n",
    "\n",
    "\\begin{equation}\n",
    "P_\\mathrm{rad}\\,=\\, \\int U(\\theta, \\phi) \\sin \\theta\\,\\mathrm{d}\\theta\\,\\mathrm{d}\\phi \\,=\\,\\int S\\,d^2\\, \\sin \\theta\\, \\mathrm{d}\\theta\\, \\mathrm{d}\\phi\\qquad ,\n",
    "\\end{equation}\n",
    "\n",
    "where $U(\\theta, \\phi) = S\\,d^2$ is the distance-independent radiation intensity. Generally, since there are always losses in an antenna-feed system, the input power $P_\\mathrm{tx}$ is larger than the radiated power $P_\\mathrm{rad}$. The antenna efficiency or radiation efficiency $\\epsilon_\\mathrm{ant}$ is defined through\n",
    "\n",
    "\\begin{equation}\n",
    "\\epsilon_\\mathrm{ant} = \\frac{P_\\mathrm{rad}}{P_\\mathrm{tx}}\n",
    "\\end{equation}\n",
    "\n",
    "and the directivity $D_\\mathrm{tx}(\\theta, \\phi)$ of the antenna through\n",
    "\n",
    "\\begin{equation}\n",
    "G_\\mathrm{tx}(\\theta,\\phi) = \\epsilon_\\mathrm{ant}\\,D_\\mathrm{tx}(\\theta, \\phi) \\qquad .\n",
    "\\end{equation}\n",
    "\n",
    "Hence, the directivity is the ratio between radiaton intensity and average radiation intensity.\n",
    "\n",
    "\\begin{equation}\n",
    "D_\\mathrm{tx}(\\theta, \\phi)\\,=\\, \\frac{U(\\theta,\\phi)}{\\frac{\\int U(\\theta, \\phi) \\sin \\theta\\,\\mathrm{d}\\theta\\,\\mathrm{d}\\phi}{4\\pi}}\\,=\\,\\frac{4\\pi\\,U(\\theta, \\phi)}{P_\\mathrm{rad}}\n",
    "\\end{equation}\n",
    "\n",
    "By definition,\n",
    "\\begin{align}\n",
    "\\int D(\\theta,\\phi) \\,\\sin \\theta\\,\\mathrm{d}\\theta\\,\\mathrm{d}\\phi\\,=\\,&4\\pi\\\\\n",
    "\\int G(\\theta,\\phi) \\,\\sin \\theta\\,\\mathrm{d}\\theta\\,\\mathrm{d}\\phi\\,=\\,&4\\pi\\,\\epsilon_\\mathrm{a}\\qquad .\n",
    "\\end{align}\n",
    "\n",
    "If antenna gain $G_\\mathrm{tx}$ and directivity $D_\\mathrm{tx}$ are specified without direction, their respective maxima are meant. Usually, the coordinate system is chosen such that $G_\\mathrm{tx}\\,=\\,\\max(G_\\mathrm{tx}(\\theta,\\phi))\\,=\\,G_\\mathrm{tx}(0,0)$ or $D_\\mathrm{tx}\\,=\\,\\max(D_\\mathrm{tx}(\\theta,\\phi))\\,=\\,D_\\mathrm{tx}(0,0)$. \n",
    "\n",
    "Finally, the radiation pattern, power pattern, or antenna pattern $F_\\mathrm{tx}(\\theta,\\phi)$ is defined as:\n",
    "\n",
    "\\begin{equation}\n",
    "F(\\theta,\\phi)\\,=\\,\\frac{D_\\mathrm{tx}(\\theta,\\phi)}{\\max(D_\\mathrm{tx}(\\theta,\\phi))}\\,=\\,\\frac{G_\\mathrm{tx}(\\theta,\\phi)}{\\max(G_\\mathrm{tx}(\\theta,\\phi))}\n",
    "\\end{equation}\n",
    "\n",
    "If a field strength, $E_\\mathrm{rx}$, is observed originating from a transmitter we can thus calculate $P_\\mathrm{tx}$ via\n",
    "\n",
    "$$ P_\\mathrm{tx}(E_\\mathrm{rx}, d, G_\\mathrm{tx}) = \\frac{4\\pi d^2}{G_\\mathrm{tx}} \\frac{E_\\mathrm{rx}^2}{R_0}\\,. $$\n",
    "\n",
    "Here, free-space propagation is assumed! Likewise, we can calculate $E_\\mathrm{rx}$ for a given transmitter power, $P_\\mathrm{tx}$,\n",
    "\n",
    "$$ E_\\mathrm{rx}(P_\\mathrm{tx}, d, G_\\mathrm{tx}) = \\sqrt{\\frac{P_\\mathrm{tx}G_\\mathrm{tx}}{4\\pi} R_0} \\frac{1}{d}\\,. $$\n",
    "\n",
    "Example (isotropic, lossless emitter):\n",
    "\n",
    "$$ E_\\mathrm{rx}^\\mathrm{unit}\n",
    "  \\equiv E_\\mathrm{rx}(1~\\mathrm{W}, 1~\\mathrm{km}, 1)\n",
    "  = 5.475\\cdot10^{-3}~\\frac{\\mathrm{V}}{\\mathrm{m}}\n",
    "$$"
   ]
  },
  {
   "cell_type": "markdown",
   "metadata": {},
   "source": [
    "## Conversion functions and examples\n",
    "### Logarithmic units\n",
    "One often uses logarithmic units for convenience. The common unit used for that is the Decibel dB, which, however, is differently defined for \"power quantities\" (like power, and flux density) and \"root-power\" quantities (voltage, electric field strength). With $\\log x \\equiv\\log_{10}x$ the operator $\\mathrm{dB}$ for dimensionless quantities $r$ is defined as\n",
    "\n",
    "$$\\mathrm{dB}[r]\\equiv 10 \\log x\\qquad .$$\n",
    "\n",
    "The unit dB is generally used to describe the ratio $p$ or $r$ of two quantities and the conversion to the equivalent logarithmic quantity $L$ is defined as:\n",
    "\n",
    "$$L(p)\\left[\\mathrm{dB}\\right] \\equiv \\mathrm{dB}\\left[p\\right]\n",
    "= 10 \\log p$$ for (the ratio of) \"power quantities\"\n",
    " \n",
    "$$L(r)\\left[\\mathrm{dB}\\right] \\equiv \\mathrm{dB}\\left[r^2\\right]\n",
    "= 20 \\log r$$ for (the ratio of) \"root-power quantities\".\n",
    "\n",
    "One hast to simply know by heart or to guess by context whether a quantity is a power quantity or a root-power quantity (there aren't that many, though). Also notice that the ratio $r$ and its logarithmic equivalent $L(r)$ are different quantities. In the following, we will as much as possible use the the unambiguous $\\mathrm{dB}$-operator to prevent misunderstandings. If the ratio is determined by a fixed reference value (or unit) $\\mathrm{P_0}$ or $\\mathrm{F_0}$\n",
    "\n",
    "$$p = \\frac{P}{\\mathrm{P_0}}$$ (for a power quantity)\n",
    "\n",
    "$$r = \\frac{R}{\\mathrm{R_0}}$$ (for a root power quantity),\n",
    "\n",
    "the notations\n",
    "\n",
    "$$\\mathrm{dB_{P_0}}(P)\n",
    "\\equiv P\\left[\\mathrm{dB}_\\mathrm{P_0}\\right]\n",
    "\\equiv L\\left(\\frac{P}{\\mathrm{P_0}}\\right)\\left[\\mathrm{dB}\\right]\n",
    "= \\mathrm{dB}\\left[\\frac{P}{\\mathrm{P_0}}\\right]\n",
    "= 10 \\log \\frac{P}{\\mathrm{P_0}}$$ for power quantities and\n",
    " \n",
    "$$\\mathrm{dB_{R_0}}(F)\n",
    "\\equiv R\\left[\\mathrm{dB}_\\mathrm{R_0}\\right]\n",
    "\\equiv L\\left(\\frac{R}{\\mathrm{R_0}}\\right)\\left[\\mathrm{dB}\\right]\n",
    "= \\mathrm{dB}\\left[\\left(\\frac{R}{\\mathrm{R_0}}\\right)^2\\right]\n",
    "= 20 \\log \\frac{R}{\\mathrm{R_0}}$$ for root power quantities\n",
    "\n",
    "are often used. For a linear unit $\\mathrm{U_0}$ of a quantity $U$ the notation\n",
    "\n",
    "$$\n",
    "U[\\mathrm{U_0}] \\equiv \\frac{U}{\\mathrm{U_0}}\n",
    "$$\n",
    "\n",
    "is also common (Read: \"$U$ in units of $\\mathrm{U_0}$\"). Hence, one can write:\n",
    "\n",
    "\\begin{equation}\n",
    "\\mathrm{dB_{P_0}}(P)\n",
    "= P\\left[\\mathrm{dB}_\\mathrm{P_0}\\right]\n",
    "= L\\left(P\\left[\\mathrm{P_0}\\right]\\right)\\left[\\mathrm{dB}\\right]\n",
    "= \\mathrm{dB}\\left[P\\left[\\mathrm{P_0}\\right]\\right]\n",
    "= 10 \\log P\\left[\\mathrm{P_0}\\right]\n",
    "\\end{equation}\n",
    "\n",
    "for power quantities and\n",
    "\n",
    "\\begin{equation}\n",
    "\\mathrm{dB_{R_0}}(F)\n",
    "= R\\left[\\mathrm{dB}_\\mathrm{R_0}\\right]\n",
    "= L\\left(R\\left[\\mathrm{R_0}\\right]\\right)\\left[\\mathrm{dB}\\right]\n",
    "= \\mathrm{dB}\\left[\\left(R\\left[\\mathrm{R_0}\\right]\\right)^2\\right]\n",
    "= 20 \\log R\\left[\\mathrm{R_0}\\right]\n",
    "\\end{equation}\n",
    "\n",
    "for root power quantities.\n",
    "\n",
    "The most important examples are (including the additional common notations $\\mathrm{dBm}$ and $\\mathrm{dBi}$ for Power P and Gain G):\n",
    "\n",
    "\\begin{alignat*}{3}\n",
    "\\mathrm{dBm}(P) \\equiv \\,& P[\\mathrm{dBm}] &&\\equiv\\, && \\mathrm{dB}_\\mathrm{mW}(P)         &&= P[\\mathrm{dB_{mW}}]                 &&= \\mathrm{dB}\\left[P[\\mathrm{mW}]\\right] &&= 10\\log\\left(P[W]\\right) + 30 \\\\\n",
    "                    &&&&& \\mathrm{dB}_{\\mathrm{\\mu V / m}}(E) &&= E[\\mathrm{dB}_\\mathrm{\\mu V/m}] &&= \\mathrm{dB}\\left[\\left(E[\\mathrm{\\mu V / m}]\\right)^2\\right] &&= 20\\log\\left(E\\left[\\mathrm{\\mu V/m}\\right]\\right)\\\\\n",
    "                    &&&&& \\mathrm{dB}_{\\mathrm{W / m^2}}(S)   &&= S[\\mathrm{dB}_\\mathrm{W / m^2}] &&= \\mathrm{dB}\\left[S[\\mathrm{W / m^2}]\\right] &&= 10\\log\\left(S\\left[\\mathrm{W/m^2}\\right]\\right)\\\\\n",
    "\\mathrm{dBi}(G)  \\equiv \\,& G[\\mathrm{dBi}] &&\\equiv\\, && \\mathrm{dB}(G)     &&= G[\\mathrm{dBi}]                 &&= \\mathrm{dB}\\left[G\\right] &&= 10\\log\\left(G_\\mathrm{tx/rx}\\right)\n",
    "\\end{alignat*}\n",
    "\n",
    "with \"i\" standing for \"isotropic\" in the last definition.\n",
    "\n",
    "Example:\n",
    "\n",
    "\\begin{align}\n",
    "E_\\mathrm{rx}^\\mathrm{unit} \\,&=\\, 5.475\\cdot10^{-3}~\\frac{\\mathrm{V}}{\\mathrm{m}}\\\\\n",
    "&\\Leftrightarrow\\\\\n",
    "E_\\mathrm{rx}^\\mathrm{unit}\\left[\\mathrm{V}\\,\\mathrm{m}^{-1}\\right] \\,&=\\, 5.475\\cdot10^{-3}\\\\\n",
    "&\\Leftrightarrow\\\\\n",
    "E_\\mathrm{rx}^\\mathrm{unit} \\left[\\mathrm{dB}_{\\mathrm{\\mu V / m}}\\right] \\,&=\\, 74.768\n",
    "\\end{align}"
   ]
  },
  {
   "cell_type": "markdown",
   "metadata": {},
   "source": [
    "### EIRP\n",
    "The equivalent isotropically radiated power ($EIRP$) of a field strength $E_\\mathrm{rx}$ (measured at the location of the receiver) and a distance $d$, is the power $P_\\mathrm{tx}$ radiated by an isotropic transmitter ($G_\\mathrm{tx}\\,=\\,0~\\mathrm{dBi}$) at distance $d$. The actual radiated power of a transmitter at that distance may be much lower (higher), if the transmitter had positive (negative) gain (measured in $\\mathrm{dBi}$) towards the receiver.\n",
    "\n",
    "\\begin{equation}\n",
    "\\begin{split}\n",
    "EIRP &=P_\\mathrm{tx}\\left[\\mathrm{dBm}\\right]\\\\\n",
    "&= \\mathrm{dBm}\\left[\\frac{4\\pi d^2}{G} \\frac{E_\\mathrm{rx}^2}{R_0}\\right]\\\\\n",
    "&= \\mathrm{dB}\\left[\\frac{4\\pi d^2}{G} \\frac{E_\\mathrm{rx}^2}{R_0}\\mathrm{mW}^{-1}\\right]\\\\\n",
    "&= \\mathrm{dB}\\left[4\\pi\n",
    "   \\cdot\\left(\\frac{d}{\\mathrm{m}}\\right)^2\n",
    "   \\cdot{G}^{-1}\n",
    "   \\cdot \\left(\\frac{E_\\mathrm{rx}}{\\mathrm{\\mu V\\,m^{-1}}}\\right)^2\n",
    "   \\cdot\\left(\\frac{R_0}{\\mathrm{\\Omega}}\\right)^{-1}\n",
    "   \\cdot \\frac{\\mathrm{m}^2\\mathrm{\\mu V^2}}{\\mathrm{m^{2}\\,\\Omega\\,mW}}\\right]\\\\\n",
    "&= \\mathrm{dB}\\left[4\\pi\\right]\n",
    "   + \\mathrm{dB}\\left[\\left(d[\\mathrm{m}]\\right)^2\\right]\n",
    "   - \\mathrm{dB}\\left[G\\right]\n",
    "   + \\mathrm{dB}\\left[\\left(E[\\mathrm{\\mu V / m}]\\right)^2\\right]\n",
    "   - \\mathrm{dB}\\left[R_0[\\mathrm{\\Omega}]\\right] \n",
    "   + \\mathrm{dB}\\left[\\frac{\\mathrm{\\mu V^2}}{\\mathrm{\\Omega\\,mW}}\\right]\\\\\n",
    "&\\left(= \\mathrm{dB}\\left[\\left(E[\\mathrm{\\mu V / m}]\\right)^2\\right]\n",
    "   + \\mathrm{dB}\\left[\\left(d[\\mathrm{m}]\\right)^2\\right]\n",
    "   - \\mathrm{dB}\\left[G\\right]\n",
    "   + \\mathrm{dB}\\left[4\\pi\\right]\n",
    "   - \\mathrm{dB}\\left[R_0[\\mathrm{mW / \\mu V}^2]\\right]\\right) \\\\\n",
    "&=   20\\log\\left(E\\left[\\mathrm{\\mu V/m}\\right]\\right)\n",
    "   + 20\\log(d[\\mathrm{m}])\n",
    "   - 10\\log(G)\n",
    "   + 11\n",
    "   - 25.8\n",
    "   - 90 \\\\\n",
    "&=   20\\log\\left(E\\left[\\mathrm{\\mu V/m}\\right]\\right)\n",
    "   + 20\\log(d[\\mathrm{m}])\n",
    "   - 10\\log(G)\n",
    "   - 104.8 \\\\\n",
    "&=   20\\log\\left(E\\left[\\mathrm{\\mu V/m}\\right]\\right)\n",
    "   + 20\\log(d[\\mathrm{km}])\n",
    "   + 10\\log(G)\n",
    "   - 44.8 \n",
    "\\end{split}\n",
    "\\end{equation}\n",
    "\n",
    "\\begin{equation}\n",
    "\\begin{split}\n",
    "P_\\mathrm{eirp}[\\mathrm{dBm}] \\overset{G=1}{\\equiv}  P_\\mathrm{tx}\\left[\\mathrm{dBm}\\right]\n",
    "&=   20\\log\\left(E\\left[\\mathrm{\\mu V/m}\\right]\\right)\n",
    "   + 20\\log(d[\\mathrm{km}])\n",
    "   - 44.8 \n",
    "\\end{split}\n",
    "\\end{equation}\n"
   ]
  },
  {
   "cell_type": "markdown",
   "metadata": {},
   "source": [
    "## Power transmission and free-space propagation\n",
    " \n",
    "Up to now, we only converted (transmitted) power to the field strength or the flux density at a certain distance. However, usually an antenna is used to measure (the power of) the field strength. This is where things get frequency-dependent, as we will see now. The observed unpolarized power flux density, $S$, from the transmitter, assuming that the antenna receives radiation in only one polarization, creates a power, $P_\\mathrm{rx}$, depending on the effective area of the receiver \n",
    "\n",
    "$$ P_\\mathrm{rx} = \\frac{S\\cdot A_\\mathrm{eff}^\\mathrm{rx}}{2}\\,,$$\n",
    "\n",
    "where $A_\\mathrm{eff}^\\mathrm{rx}\\left(\\theta, \\phi\\right)$ is the so-called effective antenna area, which depends on the direction $\\left(\\theta, \\phi\\right)$ of the antenna relative to the source. In the case of a fully polarized signal and a matched receiving antenna, or an unpolarized signal and a dual-polarization receiver, one derives\n",
    "\n",
    "$$ P_\\mathrm{rx} = S\\cdot A_\\mathrm{eff}^\\mathrm{rx}\\,\\qquad,$$\n",
    "\n",
    "which sometimes serves as an alternative definition for the effective area of an antenna (notice, however, that $A_\\mathrm{eff}$ might well differ depending on the received polarisation). The polarisation characteristics of the transmitter and the receiver are hence relevant for calculating the received power. In the following it is assumed that the antenna emits and receives in one polarisation only. As with gain and directivity, the coordinate system is usually chosen such that the effective antenna area has its maximum in the direction (0,0), and if $A_\\mathrm{eff}^\\mathrm{rx}$ is specified without any direction, its maximum is referred to:\n",
    "\n",
    "\\begin{equation}\n",
    "A_\\mathrm{eff}^\\mathrm{rx}\\,=\\,A_\\mathrm{eff}^\\mathrm{rx}(0,0)\\,=\\,\\max(A_\\mathrm{eff}^\\mathrm{rx}(\\theta,\\phi))\n",
    "\\end{equation}\n",
    "\n",
    "### Reciprocity theorem\n",
    "\n",
    "One can show that independent of the antenna type\n",
    "\n",
    "$$ \\frac{G(\\theta, \\phi)}{A_\\mathrm{eff}(\\theta, \\phi)} = \\frac{4\\pi}{\\lambda^2}\\qquad . $$\n",
    "\n",
    "Hence (unpolarised signal),\n",
    "\n",
    "$$ P_\\mathrm{rx} = \\frac{1}{2}\\,S\\cdot A_\\mathrm{eff}^\\mathrm{rx} = \\frac{1}{2}\\,S\\cdot G_\\mathrm{rx}\\frac{\\lambda^2}{4\\pi}$$\n",
    "\n",
    "for  i.e., the received power is dependent on frequency. For the antenna pattern, we get a third, alternative, definition:\n",
    "\n",
    "\\begin{equation}\n",
    "F(\\theta,\\phi)\\,=\\,\\frac{D_\\mathrm{rx}(\\theta,\\phi)}{\\max(D_\\mathrm{rx}(\\theta,\\phi))}\\,=\\,\\frac{G_\\mathrm{rx}(\\theta,\\phi)}{\\max(G_\\mathrm{rx}(\\theta,\\phi))}\\,=\\,\\frac{A_\\mathrm{eff}^\\mathrm{rx}(\\theta,\\phi)}{\\max(A_\\mathrm{eff}^\\mathrm{rx}(\\theta,\\phi))}\n",
    "\\end{equation}\n",
    "\n",
    "It also follows that\n",
    "\n",
    "$$ P_\\mathrm{rx} =  \\frac{1}{2}\\frac{E^2}{R_0} G_\\mathrm{rx}\\frac{\\lambda^2}{4\\pi} \\,.$$\n",
    "\n",
    "This seemingly counterintuitive behavior can also be understood with the following argument. Assume that both antenna gains are one, $G=1=0~\\mathrm{dBi}$ (w.l.o.g). To receive a certain power with the given antenna area, i.e., receive power flux density, $S$, and as such have $G=1$, an antenna needs to get larger with larger wavelength, because\n",
    "\n",
    "$$ A_\\mathrm{eff} = G\\frac{\\lambda^2}{4\\pi}$$\n",
    "\n",
    "An isotropic loss-less antenna has $A_\\mathrm{eff}^\\mathrm{iso} = \\lambda^2 / 4\\pi$. Trivially,\n",
    "\\begin{equation}\n",
    "\\int A_\\mathrm{eff}\\,\\sin \\theta\\,\\mathrm{d}\\theta\\,\\mathrm{d}\\phi\\,=\\,\\epsilon_\\mathrm{a}\\,\\lambda^2\n",
    "\\end{equation}\n",
    "\n",
    "### Friis transmission equation and link budget\n",
    "We assume a link between two antennas, matched in polarisation. Combining \n",
    "\n",
    "$$ P_\\mathrm{rx} = S\\cdot G_\\mathrm{rx}\\frac{\\lambda^2}{4\\pi}= S\\cdot G_\\mathrm{rx}\\frac{c^2}{4\\pi}\\frac{1}{f^2} \\,,$$\n",
    "\n",
    "and\n",
    "\n",
    "$$ S = G_\\mathrm{tx}\\frac{P_\\mathrm{tx}}{4\\pi d^2}\\,, $$\n",
    "\n",
    "it follows directly that\n",
    "\n",
    "$$ \\frac{P_\\mathrm{rx}}{P_\\mathrm{tx}} \n",
    "= G_\\mathrm{tx} G_\\mathrm{rx} \\left(\\frac{\\lambda}{4\\pi d}\\right)^2$$\n",
    "\n",
    "(Friis' transmission equation)\n",
    "\n",
    "$$ P_\\mathrm{rx} [\\mathrm{dBm}] \n",
    "= P_\\mathrm{tx} [\\mathrm{dBm}] + G_\\mathrm{tx} [\\mathrm{dB}] + G_\\mathrm{rx} [\\mathrm{dB}]\n",
    "+ 20\\log\\left(\\frac{\\lambda}{4\\pi d}\\right)$$\n",
    "\n",
    "Notice that transmitter and receiver can simply be exchanged in this formula. The (symmetric) link budget of two antennas describes the ratio of the transmitted and the received power of an antenna pair:\n",
    "\n",
    "\\begin{equation}\n",
    "\\frac{P_\\mathrm{rx}}{P_\\mathrm{tx}} \n",
    "= G_\\mathrm{tx} G_\\mathrm{rx} L_\\mathrm{path} L_\\mathrm{misc 1} L_\\mathrm{misc 2}\\, ...\\qquad,\n",
    "\\end{equation}\n",
    "\n",
    "\\begin{equation}\n",
    "P_\\mathrm{rx} [\\mathrm{dBm}] \n",
    "= P_\\mathrm{tx} [\\mathrm{dBm}] + G_\\mathrm{tx} [\\mathrm{dB}] + G_\\mathrm{rx} [\\mathrm{dB}]\n",
    "+ L_\\mathrm{path} [\\mathrm{dB}] + L_\\mathrm{misc 1} [\\mathrm{dB}] + L_\\mathrm{misc 2} [\\mathrm{dB}]$$\n",
    "\\end{equation}\n",
    "\n",
    "where the path $L_\\mathrm{path}$ descibes all losses occurring on the path between the two antennas and $L_\\mathrm{misc 1}$, $L_\\mathrm{misc 2}$, ... describe all other losses at the receiver- and transmitter systems, e.g. a polarisation loss if the two antennas are not polarisation-matched. Friis' formula hence describes the link budget between two lossless antennas linked without any obscuration."
   ]
  },
  {
   "cell_type": "markdown",
   "metadata": {},
   "source": [
    "### Free-space loss\n",
    "The last term is called free-space propagation loss $FSPL$\n",
    "\n",
    "\\begin{equation}\n",
    "\\begin{split}\n",
    "FSPL\n",
    "&\\equiv P_\\mathrm{rx} [\\mathrm{dBm}] - P_\\mathrm{tx} [\\mathrm{dBm}] \n",
    "      - G_\\mathrm{tx} [\\mathrm{dB}] - G_\\mathrm{rx} [\\mathrm{dB}] \\\\\n",
    "&= 20\\log\\left(\\frac{\\lambda}{4\\pi d}\\right) = 20\\log\\left(\\frac{1}{4\\pi d}\\frac{c}{f}\\right) \\\\\n",
    "&= - \\mathrm{dB}\\left[\\left(d[\\mathrm{km}]\\right)^2\\right]\n",
    "- \\mathrm{dB}\\left[\\left(f[\\mathrm{GHz}]\\right)^2\\right] -92.4 \\\\\n",
    "&= - 20\\log\\left(d[\\mathrm{km}]\\right) - 20\\log\\left(f[\\mathrm{GHz}]\\right)-92.4\n",
    "\\end{split}\n",
    "\\end{equation}\n",
    "\n",
    "Note, often one only quotes the absolute value of this as FSPL (as the name 'loss' is unambiguous).\n",
    "\n",
    "Example:\n",
    "\n",
    "$$ \\mathrm{FSPL}(1~\\mathrm{km},1~\\mathrm{GHz}) = -92.4~\\mathrm{dB} $$\n",
    "\n",
    "or, if \"loss\" is taken literally,\n",
    "$$ \\mathrm{FSPL}(1~\\mathrm{km},1~\\mathrm{GHz}) = 92.4~\\mathrm{dB} $$"
   ]
  },
  {
   "cell_type": "markdown",
   "metadata": {},
   "source": [
    "## Convenience equations\n",
    "The above equations can be combined in various ways (for convenience, we repeat some of the above). Superscript 'iso' is used if $G_\\mathrm{rx}=1$ or $G_\\mathrm{tx}=1$, respectively\n",
    "\n",
    "\\begin{align}\n",
    "P_\\mathrm{rx} [\\mathrm{dBm}] \n",
    "&= P_\\mathrm{tx} [\\mathrm{dBm}] + G_\\mathrm{tx} [\\mathrm{dB}] + G_\\mathrm{rx} [\\mathrm{dB}]\n",
    "+ \\mathrm{FSPL} \\\\\n",
    "\\mathrm{FSPL} \n",
    "&= - 20\\log\\left(d[\\mathrm{km}]\\right) - 20\\log\\left(f[\\mathrm{GHz}]\\right)-92.4\n",
    "\\end{align}"
   ]
  },
  {
   "cell_type": "markdown",
   "metadata": {},
   "source": [
    "\\begin{align}\n",
    "S\\left[\\mathrm{dB}_{\\mathrm{W / m^2}}\\right]\n",
    "&= P_\\mathrm{tx}[\\mathrm{dBm}] + G_\\mathrm{tx}[\\mathrm{dB}] - 20\\log\\left(d[\\mathrm{km}]\\right) - 101\\\\\n",
    "S\\left[\\mathrm{dB}_{\\mathrm{Jy\\cdot Hz}}\\right]\n",
    "&= P_\\mathrm{tx}[\\mathrm{dBm}] + G_\\mathrm{tx}[\\mathrm{dB}] - 20\\log\\left(d[\\mathrm{km}]\\right) + 159\\\\\n",
    "P_\\mathrm{rx}[\\mathrm{dBm}]\n",
    "&= S\\left[\\mathrm{dB}_{\\mathrm{W / m^2}}\\right] + G_\\mathrm{rx}[\\mathrm{dB}] - 20\\log\\left(f[\\mathrm{GHz}]\\right) + 8.5 \\\\\n",
    "P_\\mathrm{rx}[\\mathrm{dBm}]\n",
    "&= S\\left[\\mathrm{dB}_{\\mathrm{Jy\\cdot Hz}}\\right] + G_\\mathrm{rx}[\\mathrm{dB}] - 20\\log\\left(f[\\mathrm{GHz}]\\right) - 251.5 \n",
    "\\end{align}"
   ]
  },
  {
   "cell_type": "markdown",
   "metadata": {},
   "source": [
    "\\begin{align}\n",
    "P_\\mathrm{tx} [\\mathrm{dBm}] \n",
    "&=   E_\\mathrm{rx}\\left[\\mathrm{dB}_{\\mathrm{\\mu V / m}}\\right] + G_\\mathrm{tx}[\\mathrm{dB}] + 20\\log(d[\\mathrm{km}]) - 44.8 \\\\\n",
    "P_\\mathrm{rx} [\\mathrm{dBm}] \n",
    "&= E_\\mathrm{rx}\\left[\\mathrm{dB}_{\\mathrm{\\mu V / m}}\\right]+ G_\\mathrm{rx}[\\mathrm{dB}]  -20\\log\\left(f[\\mathrm{GHz}]\\right) - 137.2 \n",
    "\\end{align}"
   ]
  },
  {
   "cell_type": "markdown",
   "metadata": {},
   "source": [
    "\\begin{align}\n",
    "P_\\mathrm{eirp}[\\mathrm{dBm}]  = P_\\mathrm{tx}^\\mathrm{iso} [\\mathrm{dBm}] \n",
    "&=   E_\\mathrm{rx}\\left[\\mathrm{dB}_{\\mathrm{\\mu V / m}}\\right] + 20\\log(d[\\mathrm{km}]) - 44.8 \\\\\n",
    "P_\\mathrm{rx}^\\mathrm{iso} [\\mathrm{dBm}] \n",
    "&= E_\\mathrm{rx}\\left[\\mathrm{dB}_{\\mathrm{\\mu V / m}}\\right] -20\\log\\left(f[\\mathrm{GHz}]\\right) - 137.2 \n",
    "\\end{align}"
   ]
  },
  {
   "cell_type": "markdown",
   "metadata": {},
   "source": [
    "\\begin{equation}\n",
    "S\\left[\\mathrm{dB}_{\\mathrm{W / m^2}}\\right]\n",
    "= E_\\mathrm{rx}\\left[\\mathrm{dB}_{\\mathrm{\\mu V / m}}\\right] - 145.8\n",
    "\\end{equation}"
   ]
  },
  {
   "cell_type": "markdown",
   "metadata": {},
   "source": [
    "## Antenna properties\n",
    "\n",
    "The aperture efficiency, $\\epsilon_\\mathrm{a}$ (not to be confused with the antenna efficiency $\\epsilon_\\mathrm{ant}$ defined above), is defined as\n",
    "\\begin{equation}\n",
    "\\epsilon_\\mathrm{a} \\equiv \\frac{A_\\mathrm{eff}(0,0)}{A_\\mathrm{geom}}\n",
    "\\end{equation}\n",
    "\n",
    "Therefore,\n",
    "\\begin{equation}\n",
    "G \\equiv G(0, 0) = \\frac{4\\pi }{\\lambda^2} \\epsilon_\\mathrm{a}A_\\mathrm{geom}\\,.\n",
    "\\end{equation}"
   ]
  },
  {
   "cell_type": "markdown",
   "metadata": {},
   "source": [
    "### Antenna temperature\n",
    "The antenna temperature, $T_\\mathrm{A}$ is the temperature of a hypothetical resistor at the input of an ideal noise-free receiver that would generate the same output noise power per unit bandwidth as that at the antenna output at a specified frequency (from [Wikipedia](https://en.wikipedia.org/wiki/Antenna_noise_temperature)). Thus (e.g. using a hypothetical experiment involving the Rayleigh-Jeans approximation)\n",
    "\n",
    "\\begin{equation}\n",
    "T_\\mathrm{A} = \\frac{P_{\\mathrm{rx}} }{k_\\mathrm{B}\\Delta\\nu} = \\frac{P_{\\mathrm{rx}, \\nu} }{k_\\mathrm{B}} = \\frac{S_\\nu\\,A_\\mathrm{eff}}{2\\,k_\\mathrm{B}}\n",
    "\\end{equation}\n",
    "\n",
    "with $P_{\\mathrm{rx},\\nu} = P_\\mathrm{rx}/\\Delta\\nu$, the spectral power over bandwidth $\\Delta \\nu$."
   ]
  },
  {
   "cell_type": "markdown",
   "metadata": {},
   "source": [
    "### Sensitivity\n",
    "Often, especially in radio astronomy, the \"sensitivity\", $\\Gamma$, of an antenna is introduced as\n",
    "\n",
    "\\begin{equation}\n",
    "\\Gamma = \\frac{A_\\mathrm{eff}}{2k_\\mathrm{B}}\\qquad.\n",
    "\\end{equation}\n",
    "\n",
    "As the power received from unpolarised emission by a lossless antenna (in one polarisation) is given by\n",
    "\n",
    "\\begin{align}\n",
    "P_\\mathrm{rx} \\,= \\,& \\frac{1}{2}A_\\mathrm{eff}S_\\mathrm{\\nu}\\Delta \\nu\\\\\n",
    "              =\\, & \\frac{1}{2}\\epsilon_\\mathrm{a} A_\\mathrm{geo}S_\\mathrm{\\nu}\\Delta \\nu\\\\\n",
    "              =\\, & k_\\mathrm{B} \\Gamma S_\\mathrm{\\nu} \\Delta \\nu\n",
    "\\end{align}\n",
    "\n",
    "the sensitivity provides a shortcut to calculate the antenna temperature from the flux density.\n",
    "\n",
    "\\begin{equation}\n",
    "T_\\mathrm{A} = \\Gamma S_\\mathrm{\\nu}\n",
    "\\end{equation}\n",
    "$\\Gamma$ can be expressed in units of $\\mathrm{K}\\,\\mathrm{Jy}^{-1}$ and is often referred to as the \"Kelvins-per-Jansky\" of an antenna. Knowing its value, one can easily compute, by how much the antenna temperature increases when observing a source with a certain flux density:\n",
    "\\begin{equation}\n",
    "\\Delta T_\\mathrm{A} = \\Gamma \\Delta S_\\nu.\n",
    "\\end{equation}\n",
    "For an ideal (loss-less) isotropic antenna\n",
    "\\begin{equation}\n",
    "\\Gamma_\\mathrm{iso} = \\frac{\\lambda^2}{8\\pi k_\\mathrm{B}}.\n",
    "\\end{equation}\n",
    "\n",
    "Notice that $\\Gamma$ is a direction-dependent quantity (just as $A_\\mathrm{eff}$ and $\\varepsilon_\\mathrm{a}$). If no direction-dependency is implied, the quantity always refers to the maximum ($\\Gamma(0,0)$)."
   ]
  },
  {
   "cell_type": "markdown",
   "metadata": {},
   "source": [
    "### System temperature and SEFD\n",
    "The system temperature is the temperature equivalent to the noise power $P_\\mathrm{N}$ generated by the total receiver-emitter system (hence including the sky):\n",
    "\\begin{equation}\n",
    "P_\\mathrm{N} \\,=\\, k_\\mathrm{B}T_\\mathrm{sys}\\Delta \\nu\n",
    "\\end{equation}\n",
    "and it allows to calculate the uncertainty of the measured sky temperature with the so-called radiometer equation (for a single polarisation):\n",
    "\\begin{equation}\n",
    "\\Delta T = \\frac{T_\\mathrm{sys}}{\\sqrt{\\tau\\Delta\\nu}}\\qquad ,\n",
    "\\end{equation}\n",
    "in which $\\tau$ is the integration time and $\\Delta \\nu$ the frequency interval for the measurement. For the uncertainty $\\sigma_\\mathrm{rx}$ of the flux density of a single source we get\n",
    "\\begin{align}\n",
    "\\sigma_\\mathrm{rx}\\,= \\,&\\frac{2k_\\mathrm{B}T_\\mathrm{sys}}{A_\\mathrm{eff}\\sqrt{\\tau\\Delta\\nu}}\\\\\n",
    "                    = \\,&\\frac{SEFD}{\\sqrt{\\tau\\Delta\\nu}}\n",
    "\\end{align}\n",
    "where we used the so-called system-equivalent flux density\n",
    "\\begin{align}\n",
    "SEFD\\,=\\,&\\frac{2kT_\\mathrm{sys}}{A_\\mathrm{eff}}\\\\\n",
    "      =\\,&\\frac{2kT_\\mathrm{sys}}{\\varepsilon_\\mathrm{a}A_\\mathrm{geo}}\\\\\n",
    "      =\\,&\\frac{T_\\mathrm{sys}}{\\Gamma}\\qquad ,\n",
    "\\end{align}\n",
    "a measure for the sensitivity of the complete telescope system."
   ]
  },
  {
   "cell_type": "markdown",
   "metadata": {},
   "source": [
    "### Thin-element antennas\n",
    "Note, for \"1-D\" antennas, $A_\\mathrm{geom}$ is not defined. However, one can assign an $A_\\mathrm{eff}$ using the power-gain figure. From [Wikipedia](https://en.wikipedia.org/wiki/Antenna_aperture#Thin_element_antennas):\n",
    "\n",
    "|Wire antenna|Power gain|Effective area|\n",
    "|------------|----------|--------------|\n",
    "|Short dipole|1.50 (1.76 dB)|0.1194 $\\lambda^2$\n",
    "|Dipole antenna/Half-wave dipole|1.64 (2.15 dB) |0.1305 $\\lambda^2$|\n",
    "|Monopole antenna/Quarter-wave monopole|1.28 (1.07 dB)|0.1025 $\\lambda^2$|"
   ]
  },
  {
   "cell_type": "markdown",
   "metadata": {},
   "source": [
    "### Beam solid angle and main beam efficiency\n",
    "\n",
    "If the antenna is highly directive, the antenna pattern is often called the antenna beam and the region between its maximum and the first minima the main lobe or main beam. The name comes from the fact that the antenna diagrams of highly directive antennas (like parabola dishes) show a single distinctive maximum resembling a beam in diagrams depicting the antenna pattern. The beam solid angle $\\Omega_\\mathrm{and}$ is defined as the integral over the antenna pattern\n",
    "\n",
    "\\begin{align}\n",
    "\\Omega_\\mathrm{ant}\\,&=\\,\\int F(\\theta,\\phi)\\,\\sin \\theta\\,\\mathrm{d}\\theta\\,\\mathrm{d}\\phi\\\\\n",
    "                     &=\\,\\frac{4\\pi}{D}\\\\\n",
    "                     &=\\,\\frac{4\\pi\\,\\epsilon_\\mathrm{ant}}{G}\\\\\n",
    "                     &=\\,\\frac{\\lambda^2\\,\\epsilon_\\mathrm{ant}}{A_\\mathrm{eff}}\\qquad .\n",
    "\\end{align}\n",
    "\n",
    "Notice that $\\Omega_\\mathrm{ant}$ is measured in $\\mathrm{sr}$ for the three last expressions in the equation above. The higher the directivity the smaller is the beam solid angle. A measure for the purity of the antenna pattern or its ability to solely target one direction is the main beam efficiency $\\epsilon_\\mathrm{MB}$, the ratio of the integral of the antenna pattern over the main beam $\\Omega_\\mathrm{M}$ and the beam solid angle:\n",
    "\n",
    "\\begin{equation}\n",
    "\\epsilon_\\mathrm{MB}\\,=\\,\\frac{\\Omega_\\mathrm{M}}{\\Omega_\\mathrm{B}}\\,=\\,\\frac{\\int_\\mathrm{main \\, beam} F(\\theta,\\phi)\\,\\sin \\theta\\,\\mathrm{d}\\theta\\,\\mathrm{d}\\phi}{\\int_{4\\pi} F(\\theta,\\phi)\\,\\sin \\theta\\,\\mathrm{d}\\theta\\,\\mathrm{d}\\phi}\n",
    "\\end{equation}\n",
    "\n",
    "If the antenna pattern is highly directive, another parameter to characterize the extent of the is the half-power-beam-width $\\theta_\\mathrm{HPBW}$, the diameter of the are above half the maximum of the antenna pattern. For beams which are non-circularly symmetric two $\\theta_\\mathrm{HPBW}$s are specified, one major axis $\\theta_\\mathrm{HPBW, maj}$ and one minor axis $\\theta_\\mathrm{HPBW, min}$\n",
    "\n",
    "The antenna patterns of large antennas are often approximated as Gaussians\n",
    "\n",
    "\\begin{equation}\n",
    "F(\\theta,\\phi)\\,=\\,e^{-\\frac{\\theta^2}{2\\sigma_\\mathrm{B}^2}}\\qquad ,\n",
    "\\end{equation}\n",
    "\n",
    "hence \n",
    "\n",
    "$$\\theta_\\mathrm{HPBW}\\,=\\,\\sqrt{8\\,\\ln 2}\\,\\sigma_\\mathrm{B} \\,\\approx \\,2.355\\,\\sigma_\\mathrm{B}$$\n",
    "\n",
    "and \n",
    "\n",
    "$$\\Omega_\\mathrm{B}\\,=\\,2\\pi\\,\\sigma_\\mathrm{B}^2 = \\frac{\\pi}{4\\,\\ln 2}\\theta_\\mathrm{HPBW}^2 \\,=\\,1.13309\\,\\theta_\\mathrm{HPBW}^2 \\qquad .$$\n",
    "\n",
    "Therefore, one can, if the Gaussian approximation is appropriate and the antenna efficiency is high, estimate the gain from the HPBW $\\theta$ of an antenna:\n",
    "\n",
    "\\begin{equation}\n",
    "G\\,\\approx\\, \\epsilon_\\mathrm{a}\\,\\frac{16\\,\\ln 2}{\\theta_\\mathrm{HPBW}^2}\\,\\overset{\\epsilon_\\mathrm{a}\\approx 1}{\\approx}\\, \\,\\frac{16\\,\\ln 2}{\\theta_\\mathrm{HPBW}^2}\n",
    "\\end{equation}"
   ]
  },
  {
   "cell_type": "markdown",
   "metadata": {},
   "source": [
    "### Extended emission\n",
    "Up to now, we have treated the transfer of power from one antenna to another antenna. The transmitter has been assumed to appear as a point source to the receiver(far-field approximation). Astronomical sources (like e.g. the sun), though, are extended. Their radiation field is hence not described by the (spectral) flux density, but by the spectral brightness or intensity $I_\\nu(\\phi,\\theta)$ or $B_\\nu(\\phi,\\theta)$, which is the flux density per unit solid angle. The flux density $S_\\nu$ of an extended source is then calculated by integrating the intensity of the source over its extent on the sky\n",
    "\n",
    "\\begin{equation}\n",
    "S_\\nu\\,=\\,\\int_\\mathrm{source} I_\\nu{\\theta,\\phi}\\,\\mathrm{d}\\theta\\,\\mathrm{d}\\phi\\qquad ,\n",
    "\\end{equation}\n",
    "\n",
    "while the power received by an antenna observing the source is given by\n",
    "\n",
    "\\begin{equation}\n",
    "P_\\mathrm{rx}\\,=\\,\\frac{1}{2}\\int_\\mathrm{frequency\\,interval}\\left(\\int_\\mathrm{source} I_\\nu(\\theta,\\phi)\\,A_\\mathrm{eff}(\\theta,\\phi,\\nu) \\,\\sin \\theta\\,\\mathrm{d}\\theta\\,\\mathrm{d}\\phi\\right)\\mathrm{d}\\nu\\qquad .\n",
    "\\end{equation}\n",
    "\n",
    "Making use of the Rayleigh-Jeans approximation, one defines the brightness temperature $T_\\mathrm{B}$ of a (position on a) source\n",
    "\n",
    "\\begin{equation}\n",
    "T_\\mathrm{B}(\\theta,\\phi) \\,=\\, \\frac{I_\\nu(\\theta,\\phi)\\lambda^2}{2k_\\mathrm{B}}\\qquad .\n",
    "\\end{equation}\n",
    "\n",
    "The meaning of the brightness temperature becomes clear if one calculates the antenna temperature $T_\\mathrm{A}$ under the assumption that the sky has a constant brightness temperature $T_\\mathrm{B}^0$ (alternatively a constant intensity or brightness).\n",
    "\n",
    "\\begin{align}\n",
    "P_\\mathrm{rx}\\,&=\\,\\frac{1}{2}\\int_\\mathrm{frequency\\,interval}\\left(\\int_\\mathrm{source} I_\\nu(\\theta,\\phi)\\,A_\\mathrm{eff}(\\theta,\\phi,\\nu) \\,\\sin \\theta \\,\\mathrm{d}\\theta\\,\\mathrm{d}\\phi\\right)\\mathrm{d}\\nu\\\\\n",
    "&=\\,\\frac{1}{2}\\int_\\mathrm{frequency\\,interval}\\left(\\int_\\mathrm{source} \\frac{2\\,k_\\mathrm{B}\\,T_\\mathrm{B}^0}{\\lambda^2}\\,A_\\mathrm{eff}(\\theta,\\phi,\\nu) \\,\\sin \\theta \\,\\mathrm{d}\\theta\\,\\mathrm{d}\\phi\\right)\\mathrm{d}\\nu\\\\\n",
    "&=\\,\\frac{1}{2}\\int_\\mathrm{frequency\\,interval}\\frac{2\\,k_\\mathrm{B}\\,T_\\mathrm{B}^0}{\\lambda^2}\\,\\epsilon_\\mathrm{a}\\,\\lambda^2\\mathrm{d}\\nu\\\\\n",
    "&=\\,\\int_\\mathrm{frequency\\,interval}\n",
    "\\epsilon_\\mathrm{a}\\,k_\\mathrm{B}\\,T_\\mathrm{B}^0\\,\\mathrm{d}\\nu\\\\\n",
    "&=\\,\\int_\\mathrm{frequency\\,interval}k_\\mathrm{B}\\,T_\\mathrm{A}\\,\\mathrm{d}\\nu\\\\\n",
    "&\\Leftrightarrow\\\\\n",
    "T_\\mathrm{A}\\,&=\\,\\epsilon_\\mathrm{a}\\,T_\\mathrm{B}^0\\qquad .\n",
    "\\end{align}\n",
    "\n",
    "This means that the antenna temperature equals the brightness temperature if the antenna efficiency is high. If the main beam (of a highly directive antenna) covers a source of constant brightness temperature $T_\\mathrm{B}^0$, the antenna temperature (and hence the power received) can be calculated as\n",
    "\n",
    "\\begin{equation}\n",
    "T_\\mathrm{A}\\,=\\,\\epsilon_\\mathrm{MB}\\epsilon_\\mathrm{a}\\,T_\\mathrm{B}^0\\qquad .\n",
    "\\end{equation}\n",
    "\n",
    "It should be mentioned that for some celestial bodies, like some moons in the solar system (including the earth's moon), the brightness temperature is a pretty good approximation to the physical temperature. In that case, if the main beam fully covers the celestial body, and the antenna has a high antenna efficiency and a high main beam efficiency, the antenna temperature is to first order equal to the actual temperature of the celestial body.\n",
    "\n",
    "If the source is sufficiently compact, it can of course be approximated as a point source. This simple concept is well-known to (radio-) astronomers but maybe less to to radio engineers.\n",
    "\n",
    "### Typical dimensions of quantities and conversions\n",
    "### Example"
   ]
  },
  {
   "cell_type": "markdown",
   "metadata": {},
   "source": [
    "### Antenna factor, $K_\\mathrm{A}$\n",
    "This is another way to characterize an antenna, which allows easy conversion between E-field strength at the antenna, $E_\\mathrm{ant}\\equiv E_\\mathrm{rx}$ and induced voltage in the receiver, $U_\\mathrm{rx}$:\n",
    "\n",
    "\\begin{align}\n",
    "K_\\mathrm{A} &= \\frac{E_\\mathrm{rx}}{U_\\mathrm{rx}}\\\\\n",
    "K_\\mathrm{A} \\left[\\mathrm{dB_{1 / m}}\\right] \n",
    "&=   E_\\mathrm{rx}\\left[\\mathrm{dB}_{\\mathrm{\\mu V / m}}\\right] \n",
    "   - U_\\mathrm{rx}\\left[\\mathrm{dB}_{\\mathrm{\\mu V}}\\right]\n",
    "\\end{align}"
   ]
  },
  {
   "cell_type": "markdown",
   "metadata": {},
   "source": [
    "The antenna factor can be related to the antenna gain via\n",
    "\n",
    "\\begin{equation}\n",
    "K_\\mathrm{A} = \\sqrt{\\frac{4\\pi}{G_\\mathrm{rx}\\lambda^2}\\frac{R_0}{Z_\\mathrm{i}}}\n",
    "\\end{equation}\n",
    "because\n",
    "\\begin{equation}\n",
    "P_\\mathrm{rx}=\\frac{U_\\mathrm{rx}^2}{Z_\\mathrm{i}} =  \\frac{E^2}{R_0} G_\\mathrm{rx}\\frac{\\lambda^2}{4\\pi}\n",
    "\\end{equation}\n",
    "\n",
    "with $Z_\\mathrm{i}$ being the Antenna impedance (at footpoint). Note, that receiver input impedance and antenna impedance at footpoint are not necessarily equal. One may have to apply a correction factor (especially for high Voltage Standing Wave Ratio, VSWR)."
   ]
  },
  {
   "cell_type": "markdown",
   "metadata": {},
   "source": [
    "## Python code\n",
    "\n",
    "The pycraf package contains functions that implement the above equation. Making use of the astropy.units module, one can avoid many pitfalls related to the conversion between linear and logarithmic scales, etc."
   ]
  },
  {
   "cell_type": "code",
   "execution_count": 1,
   "metadata": {},
   "outputs": [],
   "source": [
    "%matplotlib inline"
   ]
  },
  {
   "cell_type": "code",
   "execution_count": 2,
   "metadata": {
    "jupyter": {
     "outputs_hidden": false
    }
   },
   "outputs": [],
   "source": [
    "import matplotlib.pyplot as plt\n",
    "import numpy as np\n",
    "from pycraf import conversions as cnv\n",
    "from astropy import units as u\n",
    "from astropy import constants"
   ]
  },
  {
   "cell_type": "markdown",
   "metadata": {},
   "source": [
    "For convenience, pycraf defines the often used log-scales and quantities"
   ]
  },
  {
   "cell_type": "code",
   "execution_count": 3,
   "metadata": {
    "jupyter": {
     "outputs_hidden": false
    }
   },
   "outputs": [
    {
     "name": "stdout",
     "output_type": "stream",
     "text": [
      "R0 = 376.730 Ohm\n",
      "Erx = 74.768 dB(uV2 / m2)\n"
     ]
    }
   ],
   "source": [
    "cnv.dimless  # == u.Unit(1)\n",
    "cnv.dB  # == dBi = u.dB(dimless)\n",
    "cnv.dB_W  # == u.dB(u.W)\n",
    "cnv.dB_W_Hz  # == u.dB(u.W / u.Hz)\n",
    "cnv.dB_W_m2  # == u.dB(u.W / u.m ** 2)\n",
    "cnv.dB_W_m2_Hz  # == u.dB(u.W / u.Hz / u.m ** 2)\n",
    "cnv.dB_Jy_Hz  # == u.dB(u.Jy * u.Hz)\n",
    "cnv.dBm  # == dB_mW = u.dB(u.mW)\n",
    "cnv.dBm_MHz  # == dB_mW_MHz = u.dB(u.mW / u.MHz)\n",
    "cnv.dB_uV_m  # == u.dB(u.uV ** 2 / u.m ** 2)\n",
    "cnv.dB_1_m  # == u.dB(1. / u.m)  # for antenna factor\n",
    "\n",
    "cnv.R0  # == 1. * (con.mu0 / con.eps0)  ** 0.5\n",
    "cnv.Erx_unit  #= (1 * u.W / 4. / np.pi * R0) ** 0.5 / (1 * u.km)\n",
    "\n",
    "print('R0 = {0.value:.3f} {0.unit}'.format(cnv.R0.to(u.ohm)))\n",
    "print('Erx = {0.value:.3f} {0.unit}'.format(cnv.Erx_unit.to(cnv.dB_uV_m)))"
   ]
  },
  {
   "cell_type": "markdown",
   "metadata": {},
   "source": [
    "Note, that mathematically, the $\\mathrm{dB}_{\\mathrm{\\mu V / m}}$ scale operates on amplitude-squares, so for astropy we need to take this into account."
   ]
  },
  {
   "cell_type": "markdown",
   "metadata": {},
   "source": [
    "Conversion between linear and logscale is easy (usually, only necessary for printing):"
   ]
  },
  {
   "cell_type": "code",
   "execution_count": 4,
   "metadata": {
    "jupyter": {
     "outputs_hidden": false
    }
   },
   "outputs": [
    {
     "name": "stdout",
     "output_type": "stream",
     "text": [
      "1 dBm = -29.000 dB(W) = 0.001 W\n"
     ]
    }
   ],
   "source": [
    "print('1 dBm = {0.value:.3f} {0.unit} = {1.value:.3f} {1.unit}'.format(\n",
    "    (1 * cnv.dBm).to(cnv.dB_W), (1 * cnv.dBm).to(u.W)\n",
    "    ))"
   ]
  },
  {
   "cell_type": "markdown",
   "metadata": {},
   "source": [
    "## Available functions\n",
    "### Converting antenna gains, effective areas, etc."
   ]
  },
  {
   "cell_type": "code",
   "execution_count": 5,
   "metadata": {},
   "outputs": [],
   "source": [
    "A_eff = 10 * u.m ** 2  # effective area\n",
    "A_geom = 20 * u.m ** 2  # geometric area\n",
    "eta_a = 50 * u.percent  # antenna efficiency"
   ]
  },
  {
   "cell_type": "code",
   "execution_count": 6,
   "metadata": {
    "jupyter": {
     "outputs_hidden": false
    }
   },
   "outputs": [
    {
     "name": "stdout",
     "output_type": "stream",
     "text": [
      "A_eff = 10.0 m2\n",
      "A_geom = 20.0 m2\n"
     ]
    }
   ],
   "source": [
    "print('A_eff = {0.value:.1f} {0.unit}'.format(cnv.eff_from_geom_area(A_geom, eta_a)))\n",
    "print('A_geom = {0.value:.1f} {0.unit}'.format(cnv.geom_from_eff_area(A_eff, eta_a)))"
   ]
  },
  {
   "cell_type": "code",
   "execution_count": 7,
   "metadata": {},
   "outputs": [],
   "source": [
    "frequency = 10 * u.GHz\n",
    "gain = 60 * cnv.dBi"
   ]
  },
  {
   "cell_type": "code",
   "execution_count": 8,
   "metadata": {
    "jupyter": {
     "outputs_hidden": false
    }
   },
   "outputs": [
    {
     "name": "stdout",
     "output_type": "stream",
     "text": [
      "G = 51.5 dB\n",
      "Aeff = 71.5 m2\n"
     ]
    }
   ],
   "source": [
    "print('G = {0.value:.1f} {0.unit}'.format(cnv.gain_from_eff_area(A_eff, frequency)))\n",
    "print('Aeff = {0.value:.1f} {0.unit}'.format(cnv.eff_area_from_gain(gain, frequency)))"
   ]
  },
  {
   "cell_type": "markdown",
   "metadata": {},
   "source": [
    "### Converting field strengths and powers"
   ]
  },
  {
   "cell_type": "code",
   "execution_count": 9,
   "metadata": {},
   "outputs": [],
   "source": [
    "S = 10 * u.Jy * u.MHz\n",
    "E_rx = -30 * cnv.dB_uV_m\n",
    "distance = 10 * u.km\n",
    "G_tx = 20 * cnv.dBi\n",
    "G_rx = 10 * cnv.dBi\n",
    "P_rx = -10 * cnv.dBm\n",
    "P_tx = 20 * cnv.dBm"
   ]
  },
  {
   "cell_type": "code",
   "execution_count": 10,
   "metadata": {
    "jupyter": {
     "outputs_hidden": false
    }
   },
   "outputs": [
    {
     "name": "stdout",
     "output_type": "stream",
     "text": [
      "E_rx = -44.2 dB(uV2 / m2)\n",
      "S = -175.8 dB(W / m2)\n"
     ]
    }
   ],
   "source": [
    "print('E_rx = {0.value:.1f} {0.unit}'.format(cnv.efield_from_powerflux(S).to(cnv.dB_uV_m)))\n",
    "print('S = {0.value:.1f} {0.unit}'.format(cnv.powerflux_from_efield(E_rx).to(cnv.dB_W_m2)))"
   ]
  },
  {
   "cell_type": "code",
   "execution_count": 11,
   "metadata": {
    "jupyter": {
     "outputs_hidden": false
    }
   },
   "outputs": [
    {
     "name": "stdout",
     "output_type": "stream",
     "text": [
      "P_tx = -104.8 dB(W)\n",
      "E_rx = 64.8 dB(uV2 / m2)\n"
     ]
    }
   ],
   "source": [
    "print('P_tx = {0.value:.1f} {0.unit}'.format(cnv.ptx_from_efield(E_rx, distance, G_tx).to(cnv.dB_W)))\n",
    "print('E_rx = {0.value:.1f} {0.unit}'.format(cnv.efield_from_ptx(P_tx, distance, G_tx).to(cnv.dB_uV_m)))"
   ]
  },
  {
   "cell_type": "code",
   "execution_count": 12,
   "metadata": {
    "jupyter": {
     "outputs_hidden": false
    }
   },
   "outputs": [
    {
     "name": "stdout",
     "output_type": "stream",
     "text": [
      "P_tx = -119.0 dB(W)\n",
      "S = -81.0 dB(W / m2)\n"
     ]
    }
   ],
   "source": [
    "print('P_tx = {0.value:.1f} {0.unit}'.format(cnv.ptx_from_powerflux(S, distance, G_tx).to(cnv.dB_W)))\n",
    "print('S = {0.value:.1f} {0.unit}'.format(cnv.powerflux_from_ptx(P_tx, distance, G_tx).to(cnv.dB_W_m2)))"
   ]
  },
  {
   "cell_type": "code",
   "execution_count": 13,
   "metadata": {
    "jupyter": {
     "outputs_hidden": false
    }
   },
   "outputs": [
    {
     "name": "stdout",
     "output_type": "stream",
     "text": [
      "P_rx = -221.5 dB(W)\n",
      "S = -8.5 dB(W / m2)\n"
     ]
    }
   ],
   "source": [
    "print('P_rx = {0.value:.1f} {0.unit}'.format(cnv.prx_from_powerflux(S, frequency, G_rx).to(cnv.dB_W)))\n",
    "print('S = {0.value:.1f} {0.unit}'.format(cnv.powerflux_from_prx(P_rx, frequency, G_rx).to(cnv.dB_W_m2)))"
   ]
  },
  {
   "cell_type": "markdown",
   "metadata": {},
   "source": [
    "### Transmission loss"
   ]
  },
  {
   "cell_type": "code",
   "execution_count": 14,
   "metadata": {
    "jupyter": {
     "outputs_hidden": false
    }
   },
   "outputs": [
    {
     "name": "stdout",
     "output_type": "stream",
     "text": [
      "FSPL = -132.4 dB\n"
     ]
    }
   ],
   "source": [
    "fspl = cnv.free_space_loss(distance, frequency)\n",
    "print('FSPL = {0.value:.1f} {0.unit}'.format(fspl))"
   ]
  },
  {
   "cell_type": "code",
   "execution_count": 15,
   "metadata": {
    "jupyter": {
     "outputs_hidden": false
    }
   },
   "outputs": [
    {
     "name": "stdout",
     "output_type": "stream",
     "text": [
      "P_rx = -112.4 dB(W)\n",
      "P_tx = 62.4 dB(W)\n"
     ]
    }
   ],
   "source": [
    "print('P_rx = {0.value:.1f} {0.unit}'.format(\n",
    "    cnv.prx_from_ptx(P_tx, G_tx, G_rx, distance, frequency).to(cnv.dB_W)\n",
    "    ))\n",
    "print('P_tx = {0.value:.1f} {0.unit}'.format(\n",
    "    cnv.ptx_from_prx(P_rx, G_tx, G_rx, distance, frequency).to(cnv.dB_W)\n",
    "    ))\n"
   ]
  },
  {
   "cell_type": "markdown",
   "metadata": {},
   "source": [
    "## Additional examples"
   ]
  },
  {
   "cell_type": "code",
   "execution_count": 16,
   "metadata": {
    "jupyter": {
     "outputs_hidden": false
    }
   },
   "outputs": [
    {
     "name": "stdout",
     "output_type": "stream",
     "text": [
      "Flux at 1 km distance for Ptx = 0 dBm, isotropic:\n",
      "-101.0 dB(W / m2) = 159.0 dB(Hz Jy)\n",
      "\n",
      "Received power for a power flux density of 1 W / m^2 at 1 GHz, isotropic:\n",
      "8.5 dB(mW)\n",
      "\n",
      "Received power for a power flux density of 1 Jy.Hz at 1 GHz, isotropic:\n",
      "-251.5 dB(mW)\n",
      "\n",
      "Power received from a 0 dBm transmitter at 1 km distance, at 1 GHz:\n",
      "(both antennas isotropic)\n",
      "-92.4 dB(mW)\n",
      "\n"
     ]
    }
   ],
   "source": [
    "flux_0dbm_1km_iso = cnv.powerflux_from_ptx(0 * cnv.dBm, 1 * u.km, 0 * cnv.dBi)\n",
    "\n",
    "print(\n",
    "    'Flux at 1 km distance for Ptx = 0 dBm, isotropic:\\n'\n",
    "    '{0.value:.1f} {0.unit} = {1.value:.1f} {1.unit}\\n'.format(\n",
    "        flux_0dbm_1km_iso.to(cnv.dB_W_m2),\n",
    "        flux_0dbm_1km_iso.to(cnv.dB_Jy_Hz)\n",
    "        )\n",
    "    )\n",
    "prx_1W_m2_at1GHz_iso = cnv.prx_from_powerflux(1 * u.Watt / u.m ** 2, 1 * u.GHz, 0 * cnv.dBi)\n",
    "\n",
    "print(\n",
    "    'Received power for a power flux density of 1 W / m^2 at 1 GHz, isotropic:\\n'\n",
    "    '{0.value:.1f} {0.unit}\\n'.format(\n",
    "        prx_1W_m2_at1GHz_iso.to(cnv.dBm)\n",
    "        )\n",
    "    )\n",
    "\n",
    "prx_1JyHz_at1GHz_iso = cnv.prx_from_powerflux(1 * u.Jy * u.Hz, 1 * u.GHz, 0 * cnv.dBi)\n",
    "\n",
    "print(\n",
    "    'Received power for a power flux density of 1 Jy.Hz at 1 GHz, isotropic:\\n'\n",
    "    '{0.value:.1f} {0.unit}\\n'.format(\n",
    "        prx_1JyHz_at1GHz_iso.to(cnv.dBm)\n",
    "        )\n",
    "    )\n",
    "\n",
    "prx_0dbm_at1km1GHz_iso = cnv.prx_from_powerflux(\n",
    "    cnv.powerflux_from_ptx(0 * cnv.dBm, 1 * u.km, 0 * cnv.dBi),\n",
    "    1 * u.GHz, 0 * cnv.dBi\n",
    "    )\n",
    "\n",
    "print(\n",
    "    'Power received from a 0 dBm transmitter at 1 km distance, at 1 GHz:\\n'\n",
    "    '(both antennas isotropic)\\n'\n",
    "    '{0.value:.1f} {0.unit}\\n'.format(\n",
    "        prx_0dbm_at1km1GHz_iso.to(cnv.dBm)\n",
    "        )\n",
    "    )"
   ]
  },
  {
   "cell_type": "markdown",
   "metadata": {},
   "source": [
    "### Convenience equations\n",
    "We can also check, if the convenience equations above are correct:"
   ]
  },
  {
   "cell_type": "code",
   "execution_count": 17,
   "metadata": {
    "jupyter": {
     "outputs_hidden": false
    }
   },
   "outputs": [
    {
     "name": "stdout",
     "output_type": "stream",
     "text": [
      "Free-space loss at 1 km, 1 GHz: -92.4 dB\n",
      "PFD from 1 dbm at 1 km distance: -101.0 dB(W / m2) = 159.0 dB(Hz Jy)\n",
      "\n",
      "Prx from 1 W/m**2 at 1 GHz: 8.5 dB(mW)\n",
      "\n",
      "Prx from 1 Jy*Hz at 1 GHz: -251.5 dB(mW)\n",
      "\n",
      "EIRP from 1 uV/m at 1 km distance: -44.768 dB(mW)\n",
      "\n",
      "Prx from 1 uV/m at 1 GHz: -137.2 dB(mW)\n",
      "\n"
     ]
    }
   ],
   "source": [
    "freq = 1 * u.GHz\n",
    "dist = 1 * u.km\n",
    "loss_1ghz_1km = cnv.free_space_loss(dist, freq)\n",
    "print(\n",
    "    'Free-space loss at 1 km, 1 GHz: '\n",
    "    '{0.value:.1f} {0.unit}'.format(\n",
    "        loss_1ghz_1km\n",
    "    ))\n",
    "\n",
    "print(\n",
    "    'PFD from 1 dbm at 1 km distance: '\n",
    "    '{0.value:.1f} {0.unit} = {1.value:.1f} {1.unit}\\n'.format(\n",
    "        cnv.powerflux_from_ptx(0 * cnv.dBm, 1 * u.km, 1. * cnv.dimless).to(cnv.dB_W_m2),\n",
    "        cnv.powerflux_from_ptx(0 * cnv.dBm, 1 * u.km, 1. * cnv.dimless).to(cnv.dB_Jy_Hz)\n",
    "    ))\n",
    "\n",
    "print(\n",
    "    'Prx from 1 W/m**2 at 1 GHz: {0.value:.1f} {0.unit}\\n'.format(\n",
    "        cnv.prx_from_powerflux(0 * cnv.dB_W_m2, 1 * u.GHz, 1. * cnv.dimless).to(cnv.dBm)\n",
    "    ))\n",
    "\n",
    "print(\n",
    "    'Prx from 1 Jy*Hz at 1 GHz: {0.value:.1f} {0.unit}\\n'.format(\n",
    "        cnv.prx_from_powerflux(0 * cnv.dB_Jy_Hz, 1 * u.GHz, 1. * cnv.dimless).to(cnv.dBm)\n",
    "    ))\n",
    "\n",
    "print('EIRP from 1 uV/m at 1 km distance: {0.value:.3f} {0.unit}\\n'.format(\n",
    "    cnv.ptx_from_efield(0. * cnv.dB_uV_m, 1 * u.km, 1. * cnv.dimless).to(cnv.dBm)\n",
    "    ))\n",
    "\n",
    "print('Prx from 1 uV/m at 1 GHz: {0.value:.1f} {0.unit}\\n'.format(\n",
    "    cnv.prx_from_ptx(\n",
    "        cnv.ptx_from_efield(0. * cnv.dB_uV_m, 1 * u.km, 0. * cnv.dBi),\n",
    "        0. * cnv.dBi, 0. * cnv.dBi, 1 * u.km, 1 * u.GHz\n",
    "    ).to(cnv.dBm)))"
   ]
  }
 ],
 "metadata": {
  "anaconda-cloud": {},
  "kernelspec": {
   "display_name": "Python [conda env:pycraf3.7_02]",
   "language": "python",
   "name": "conda-env-pycraf3.7_02-py"
  },
  "language_info": {
   "codemirror_mode": {
    "name": "ipython",
    "version": 3
   },
   "file_extension": ".py",
   "mimetype": "text/x-python",
   "name": "python",
   "nbconvert_exporter": "python",
   "pygments_lexer": "ipython3",
   "version": "3.7.11"
  }
 },
 "nbformat": 4,
 "nbformat_minor": 4
}
