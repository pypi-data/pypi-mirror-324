{
 "cells": [
  {
   "cell_type": "markdown",
   "id": "54b17849-e49c-46e6-b938-a88029a4e8f3",
   "metadata": {},
   "source": [
    "# Tutorial notebook for LCA-Modeller\n",
    "\n",
    "Welcome to the *LCA-Modeller* library tutorial! *LCA-Modeller* offers a streamlined interface designed to facilitate the creation of **parametric LCA models** with **prospective capabilities**. It builds on the open-source libraries [*lca-algebraic*](https://lca-algebraic.readthedocs.io/) and [*premise*](https://premise.readthedocs.io/), so having a basic understanding of these tools, while not essential, is recommended.\n",
    "\n",
    "The core functionality of *LCA-Modeller* revolves around reading a user-provided configuration file that defines the LCA model. From this configuration, *LCA-Modeller* generates a parametric LCA model, which can be evaluated for any parameter values using *lca-algebraic*'s built-in functions.\n",
    "If prospective scenarios are provided, *premise* is used to adapt the EcoInvent database to future conditions. The parametric LCA model then selects the appropriate prospective databases based on the user-specified evaluation year."
   ]
  },
  {
   "cell_type": "code",
   "execution_count": null,
   "id": "d899accf-092e-4a6c-bef2-626114ae040d",
   "metadata": {
    "tags": []
   },
   "outputs": [],
   "source": [
    "# Import libraries\n",
    "from lca_modeller.io.configuration import LCAProblemConfigurator\n",
    "import lca_algebraic as agb\n",
    "import brightway2 as bw\n",
    "import numpy as np\n",
    "\n",
    "# Add data folder to path\n",
    "import sys\n",
    "import os.path as pth\n",
    "sys.path.insert(0, '../..')\n",
    "DATA_FOLDER = './data'"
   ]
  },
  {
   "cell_type": "markdown",
   "id": "4f1206b6-444c-412d-ac0d-8bde355e5573",
   "metadata": {},
   "source": [
    "## 1. A basic example"
   ]
  },
  {
   "cell_type": "code",
   "execution_count": null,
   "id": "34230586-ccc1-4336-8935-786bb845b5ff",
   "metadata": {
    "tags": []
   },
   "outputs": [],
   "source": [
    "# Provide the configuration file where the ecoinvent database, system model and impact categories are defined\n",
    "configuration_file = pth.join(DATA_FOLDER, 'basic_example.yaml')\n",
    "project, model, methods = LCAProblemConfigurator(configuration_file).generate()"
   ]
  },
  {
   "cell_type": "code",
   "execution_count": null,
   "id": "209474c6-61d1-4001-9a02-907da64b613c",
   "metadata": {
    "tags": []
   },
   "outputs": [],
   "source": [
    "# Provide values for parameters\n",
    "parameters = {\n",
    "    'a': 1.0,\n",
    "    'b': 0.7,\n",
    "    'c': 1.2,\n",
    "    'd': 10.0,\n",
    "}\n",
    "\n",
    "# Compute impacts. The first call takes some time (compilation of the LCA functions) but next ones are much faster.\n",
    "df = agb.compute_impacts(\n",
    "    model,\n",
    "    methods,\n",
    "    **parameters\n",
    ")\n",
    "df"
   ]
  },
  {
   "cell_type": "code",
   "execution_count": null,
   "id": "5ff0d9e1-7efc-44d3-a69d-183013062d26",
   "metadata": {
    "tags": []
   },
   "outputs": [],
   "source": [
    "# Compute impacts for several values at once\n",
    "parameters = {\n",
    "    'a': [1.0, 1.2, 1.4],  # list of values\n",
    "    'b': [0.7, 0.5, 0.2],  # all lists must be of the same size\n",
    "    'c': 1.2,  # constant value\n",
    "    'd': 10.0,\n",
    "}\n",
    "agb.compute_impacts(\n",
    "    model,\n",
    "    methods,\n",
    "    **parameters\n",
    ")"
   ]
  },
  {
   "cell_type": "code",
   "execution_count": null,
   "id": "26ca1293-f3ed-4f68-8824-586a555cf68c",
   "metadata": {
    "tags": []
   },
   "outputs": [],
   "source": [
    "# Another example\n",
    "parameters = {\n",
    "    'a': np.linspace(1.0, 2.0, 50),\n",
    "    'b': np.linspace(0.7, 0.0, 50),\n",
    "    'c': 1.2,\n",
    "    'd': 10.0,\n",
    "}\n",
    "agb.compute_impacts(\n",
    "    model,\n",
    "    methods,\n",
    "    **parameters\n",
    ")"
   ]
  },
  {
   "cell_type": "markdown",
   "id": "df21058c-8cc6-4dff-bbc8-b66b1a2af233",
   "metadata": {},
   "source": [
    "## 2. Get impacts by phase or subsystem"
   ]
  },
  {
   "cell_type": "code",
   "execution_count": null,
   "id": "050fee02-5b4b-453b-9523-757bc11c1e8f",
   "metadata": {
    "tags": []
   },
   "outputs": [],
   "source": [
    "# Provide the configuration file where the ecoinvent database, system model and impact categories are defined\n",
    "configuration_file = pth.join(DATA_FOLDER, 'basic_example_split_impacts.yaml')\n",
    "project, model, methods = LCAProblemConfigurator(configuration_file).generate()"
   ]
  },
  {
   "cell_type": "code",
   "execution_count": null,
   "id": "6067babb-7477-4a4d-a555-6de7e3f23de9",
   "metadata": {
    "tags": []
   },
   "outputs": [],
   "source": [
    "# Provide values for parameters\n",
    "parameters = {\n",
    "    'a': 1.0,\n",
    "    'b': 0.7,\n",
    "    'c': 1.2,\n",
    "    'd': 10.0,\n",
    "}\n",
    "\n",
    "# Compute impacts and provide results by subsystem \n",
    "agb.compute_impacts(\n",
    "    model,\n",
    "    methods,\n",
    "    axis='subsystem',\n",
    "    **parameters\n",
    ")"
   ]
  },
  {
   "cell_type": "markdown",
   "id": "a992509d-723b-4902-9545-20e87cf6addb",
   "metadata": {},
   "source": [
    "## 3. Prospective LCA\n",
    "\n",
    "Warning: depending on the IAM, the locations might be changed compared to the original ecoinvent database."
   ]
  },
  {
   "cell_type": "code",
   "execution_count": null,
   "id": "4923a683-46b0-4ccc-933a-3b82a0e54921",
   "metadata": {
    "tags": []
   },
   "outputs": [],
   "source": [
    "# Provide the configuration file where the ecoinvent database, system model and impact categories are defined\n",
    "configuration_file = pth.join(DATA_FOLDER, 'prospective_lca.yaml')\n",
    "project, model, methods = LCAProblemConfigurator(configuration_file).generate()"
   ]
  },
  {
   "cell_type": "code",
   "execution_count": null,
   "id": "1b9da3b2-2bfd-4546-8887-3c67da47d779",
   "metadata": {},
   "outputs": [],
   "source": [
    "# List databases installed in the project\n",
    "bw.databases"
   ]
  },
  {
   "cell_type": "code",
   "execution_count": null,
   "id": "43b01a5d-f781-40fa-96c1-2a31cd94814b",
   "metadata": {
    "tags": []
   },
   "outputs": [],
   "source": [
    "# Running a project with premise will automatically add the parameter 'year' to the model to enable the user to select the year of evaluation.\n",
    "parameters = {\n",
    "    'year': [2020, 2025, 2030, 2035, 2040],  # if the year falls between two ecoinvent datasets (e.g. 2020 and 2030), the result will be a linear interpolation of the two\n",
    "    'a': [1.0, 1.2, 1.4, 1.6, 1.8],\n",
    "    'b': [0.7, 0.5, 0.2, 0.1, 0.0],\n",
    "    'c': 1.2,\n",
    "    'd': 10.0,\n",
    "}\n",
    "agb.compute_impacts(\n",
    "    model,\n",
    "    methods,\n",
    "    **parameters\n",
    ")"
   ]
  },
  {
   "cell_type": "markdown",
   "id": "c94fd188-5e8c-49ab-bd3e-2c9b06c180b2",
   "metadata": {},
   "source": [
    "## 4. Advanced examples"
   ]
  },
  {
   "cell_type": "markdown",
   "id": "578063dd-3c15-45d8-b135-6e56916c00b9",
   "metadata": {},
   "source": [
    "### Reference a previously defined activity and modify existing activities"
   ]
  },
  {
   "cell_type": "code",
   "execution_count": null,
   "id": "65a6f663-c947-4825-a75e-e0e37d796824",
   "metadata": {
    "tags": []
   },
   "outputs": [],
   "source": [
    "# Provide the configuration file where the ecoinvent database, system model and impact categories are defined\n",
    "configuration_file = pth.join(DATA_FOLDER, 'advanced_example.yaml')\n",
    "project, model, methods = LCAProblemConfigurator(configuration_file).generate()"
   ]
  },
  {
   "cell_type": "code",
   "execution_count": null,
   "id": "80d39dcb-3600-40f8-b684-045457bd8a7a",
   "metadata": {
    "tags": []
   },
   "outputs": [],
   "source": [
    "# Running a project with premise will automatically add the parameter 'year' to the model to enable the user to select the year of evaluation.\n",
    "parameters = {\n",
    "    'year': [2020, 2025, 2030, 2035, 2040],  # if the year falls between two ecoinvent datasets (e.g. 2020 and 2030), the result will be a linear interpolation of the two\n",
    "    'a': [1.0, 1.2, 1.4, 1.6, 1.8],\n",
    "    'b': [0.7, 0.5, 0.2, 0.1, 0.0],\n",
    "    'c': 1.2,\n",
    "    'd': 10.0,\n",
    "    'p': [0.3, 0.2, 0.15, 0.12, 0.08]\n",
    "}\n",
    "agb.compute_impacts(\n",
    "    model,\n",
    "    methods,\n",
    "    **parameters\n",
    ")"
   ]
  },
  {
   "cell_type": "markdown",
   "id": "d16e9ce9-19ff-4133-a873-aabfe47a6f62",
   "metadata": {},
   "source": [
    "## 5. Define your own LCIA methods"
   ]
  },
  {
   "cell_type": "code",
   "execution_count": null,
   "id": "dc12c9c2-417b-43aa-a820-235a4b91ac81",
   "metadata": {
    "tags": []
   },
   "outputs": [],
   "source": [
    "# Provide the configuration file where the ecoinvent database, system model and impact categories are defined\n",
    "configuration_file = pth.join(DATA_FOLDER, 'custom_lcia_methods.yaml')\n",
    "project, model, methods = LCAProblemConfigurator(configuration_file).generate()"
   ]
  },
  {
   "cell_type": "code",
   "execution_count": null,
   "id": "7640b77f-dec8-4e4d-846d-d4bef141d74d",
   "metadata": {
    "tags": []
   },
   "outputs": [],
   "source": [
    "# The custom method is automatically added to the list\n",
    "methods"
   ]
  },
  {
   "cell_type": "code",
   "execution_count": null,
   "id": "035e3d4f-3890-4a93-97a2-53f3e103791f",
   "metadata": {
    "tags": []
   },
   "outputs": [],
   "source": [
    "# Compute impacts with new method\n",
    "parameters = {\n",
    "    'a': [1.0, 1.2, 1.4, 1.6, 1.8],\n",
    "    'b': [0.7, 0.5, 0.2, 0.1, 0.0],\n",
    "    'c': 1.2,\n",
    "    'd': 10.0,\n",
    "}\n",
    "\n",
    "agb.compute_impacts(\n",
    "    model,\n",
    "    methods,\n",
    "    **parameters\n",
    ")"
   ]
  },
  {
   "cell_type": "markdown",
   "id": "d64c82be-f38d-488e-84b9-4719e1fce41d",
   "metadata": {},
   "source": [
    "# 6. Declare metadata for parameters\n",
    "For example, declare min/max values and distribution type for each parameter to run a Monte Carlo using lca-algebraic's capabilities"
   ]
  },
  {
   "cell_type": "code",
   "execution_count": null,
   "id": "d2975d72-9d4c-4808-862e-e8ac980cc8d3",
   "metadata": {},
   "outputs": [],
   "source": [
    "# Provide the configuration file where the ecoinvent database, system model and impact categories are defined\n",
    "configuration_file = pth.join(DATA_FOLDER, 'metadata_example.yaml')\n",
    "project, model, methods = LCAProblemConfigurator(configuration_file).generate()"
   ]
  },
  {
   "cell_type": "code",
   "execution_count": null,
   "id": "c0abb724-0de2-4487-ab25-6465345c5c77",
   "metadata": {},
   "outputs": [],
   "source": [
    "agb.list_parameters()"
   ]
  },
  {
   "cell_type": "code",
   "execution_count": null,
   "id": "a6939d8a-8bc9-4cbc-8e03-1709c5f16835",
   "metadata": {},
   "outputs": [],
   "source": [
    "agb.incer_stochastic_dashboard(model, methods, n=1024)"
   ]
  }
 ],
 "metadata": {
  "kernelspec": {
   "display_name": "Python 3 (ipykernel)",
   "language": "python",
   "name": "python3"
  },
  "language_info": {
   "codemirror_mode": {
    "name": "ipython",
    "version": 3
   },
   "file_extension": ".py",
   "mimetype": "text/x-python",
   "name": "python",
   "nbconvert_exporter": "python",
   "pygments_lexer": "ipython3",
   "version": "3.10.0"
  }
 },
 "nbformat": 4,
 "nbformat_minor": 5
}
