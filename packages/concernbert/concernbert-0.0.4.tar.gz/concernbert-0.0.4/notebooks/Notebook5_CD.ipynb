{
 "cells": [
  {
   "cell_type": "code",
   "execution_count": 1,
   "metadata": {},
   "outputs": [
    {
     "ename": "ImportError",
     "evalue": "cannot import name 'triu' from 'scipy.linalg' (/Users/jtl86/source/python/concernbert/.venv/lib/python3.12/site-packages/scipy/linalg/__init__.py)",
     "output_type": "error",
     "traceback": [
      "\u001b[0;31m---------------------------------------------------------------------------\u001b[0m",
      "\u001b[0;31mImportError\u001b[0m                               Traceback (most recent call last)",
      "Cell \u001b[0;32mIn[1], line 1\u001b[0m\n\u001b[0;32m----> 1\u001b[0m \u001b[38;5;28;01mfrom\u001b[39;00m \u001b[38;5;21;01mconcernbert\u001b[39;00m\u001b[38;5;21;01m.\u001b[39;00m\u001b[38;5;21;01mfrontend\u001b[39;00m \u001b[38;5;28;01mimport\u001b[39;00m CdCalculator\n",
      "File \u001b[0;32m~/source/python/concernbert/src/concernbert/frontend.py:6\u001b[0m\n\u001b[1;32m      2\u001b[0m \u001b[38;5;28;01mimport\u001b[39;00m \u001b[38;5;21;01mitertools\u001b[39;00m \u001b[38;5;28;01mas\u001b[39;00m \u001b[38;5;21;01mit\u001b[39;00m\n\u001b[1;32m      4\u001b[0m \u001b[38;5;28;01mimport\u001b[39;00m \u001b[38;5;21;01mnumpy\u001b[39;00m \u001b[38;5;28;01mas\u001b[39;00m \u001b[38;5;21;01mnp\u001b[39;00m\n\u001b[0;32m----> 6\u001b[0m \u001b[38;5;28;01mfrom\u001b[39;00m \u001b[38;5;21;01mconcernbert\u001b[39;00m\u001b[38;5;21;01m.\u001b[39;00m\u001b[38;5;21;01msemantic\u001b[39;00m \u001b[38;5;28;01mimport\u001b[39;00m find_entity_docs\n\u001b[1;32m      7\u001b[0m \u001b[38;5;28;01mfrom\u001b[39;00m \u001b[38;5;21;01mconcernbert\u001b[39;00m\u001b[38;5;21;01m.\u001b[39;00m\u001b[38;5;21;01membeddings\u001b[39;00m \u001b[38;5;28;01mimport\u001b[39;00m load_caching_embedder\n\u001b[1;32m      8\u001b[0m \u001b[38;5;28;01mfrom\u001b[39;00m \u001b[38;5;21;01mconcernbert\u001b[39;00m\u001b[38;5;21;01m.\u001b[39;00m\u001b[38;5;21;01mmetrics\u001b[39;00m \u001b[38;5;28;01mimport\u001b[39;00m to_aad\n",
      "File \u001b[0;32m~/source/python/concernbert/src/concernbert/semantic.py:13\u001b[0m\n\u001b[1;32m     11\u001b[0m \u001b[38;5;28;01mimport\u001b[39;00m \u001b[38;5;21;01mnumpy\u001b[39;00m \u001b[38;5;28;01mas\u001b[39;00m \u001b[38;5;21;01mnp\u001b[39;00m\n\u001b[1;32m     12\u001b[0m \u001b[38;5;28;01mfrom\u001b[39;00m \u001b[38;5;21;01mtree_sitter_languages\u001b[39;00m \u001b[38;5;28;01mimport\u001b[39;00m get_language, get_parser\n\u001b[0;32m---> 13\u001b[0m \u001b[38;5;28;01mfrom\u001b[39;00m \u001b[38;5;21;01mgensim\u001b[39;00m\u001b[38;5;21;01m.\u001b[39;00m\u001b[38;5;21;01mcorpora\u001b[39;00m \u001b[38;5;28;01mimport\u001b[39;00m Dictionary\n\u001b[1;32m     14\u001b[0m \u001b[38;5;28;01mfrom\u001b[39;00m \u001b[38;5;21;01mgensim\u001b[39;00m\u001b[38;5;21;01m.\u001b[39;00m\u001b[38;5;21;01mmatutils\u001b[39;00m \u001b[38;5;28;01mimport\u001b[39;00m sparse2full\n\u001b[1;32m     15\u001b[0m \u001b[38;5;28;01mfrom\u001b[39;00m \u001b[38;5;21;01mgensim\u001b[39;00m\u001b[38;5;21;01m.\u001b[39;00m\u001b[38;5;21;01mmodels\u001b[39;00m\u001b[38;5;21;01m.\u001b[39;00m\u001b[38;5;21;01mdoc2vec\u001b[39;00m \u001b[38;5;28;01mimport\u001b[39;00m Doc2Vec, TaggedDocument\n",
      "File \u001b[0;32m~/source/python/concernbert/.venv/lib/python3.12/site-packages/gensim/__init__.py:11\u001b[0m\n\u001b[1;32m      7\u001b[0m __version__ \u001b[38;5;241m=\u001b[39m \u001b[38;5;124m'\u001b[39m\u001b[38;5;124m4.3.2\u001b[39m\u001b[38;5;124m'\u001b[39m\n\u001b[1;32m      9\u001b[0m \u001b[38;5;28;01mimport\u001b[39;00m \u001b[38;5;21;01mlogging\u001b[39;00m\n\u001b[0;32m---> 11\u001b[0m \u001b[38;5;28;01mfrom\u001b[39;00m \u001b[38;5;21;01mgensim\u001b[39;00m \u001b[38;5;28;01mimport\u001b[39;00m parsing, corpora, matutils, interfaces, models, similarities, utils  \u001b[38;5;66;03m# noqa:F401\u001b[39;00m\n\u001b[1;32m     14\u001b[0m logger \u001b[38;5;241m=\u001b[39m logging\u001b[38;5;241m.\u001b[39mgetLogger(\u001b[38;5;124m'\u001b[39m\u001b[38;5;124mgensim\u001b[39m\u001b[38;5;124m'\u001b[39m)\n\u001b[1;32m     15\u001b[0m \u001b[38;5;28;01mif\u001b[39;00m \u001b[38;5;129;01mnot\u001b[39;00m logger\u001b[38;5;241m.\u001b[39mhandlers:  \u001b[38;5;66;03m# To ensure reload() doesn't add another one\u001b[39;00m\n",
      "File \u001b[0;32m~/source/python/concernbert/.venv/lib/python3.12/site-packages/gensim/corpora/__init__.py:6\u001b[0m\n\u001b[1;32m      1\u001b[0m \u001b[38;5;124;03m\"\"\"\u001b[39;00m\n\u001b[1;32m      2\u001b[0m \u001b[38;5;124;03mThis package contains implementations of various streaming corpus I/O format.\u001b[39;00m\n\u001b[1;32m      3\u001b[0m \u001b[38;5;124;03m\"\"\"\u001b[39;00m\n\u001b[1;32m      5\u001b[0m \u001b[38;5;66;03m# bring corpus classes directly into package namespace, to save some typing\u001b[39;00m\n\u001b[0;32m----> 6\u001b[0m \u001b[38;5;28;01mfrom\u001b[39;00m \u001b[38;5;21;01m.\u001b[39;00m\u001b[38;5;21;01mindexedcorpus\u001b[39;00m \u001b[38;5;28;01mimport\u001b[39;00m IndexedCorpus  \u001b[38;5;66;03m# noqa:F401 must appear before the other classes\u001b[39;00m\n\u001b[1;32m      8\u001b[0m \u001b[38;5;28;01mfrom\u001b[39;00m \u001b[38;5;21;01m.\u001b[39;00m\u001b[38;5;21;01mmmcorpus\u001b[39;00m \u001b[38;5;28;01mimport\u001b[39;00m MmCorpus  \u001b[38;5;66;03m# noqa:F401\u001b[39;00m\n\u001b[1;32m      9\u001b[0m \u001b[38;5;28;01mfrom\u001b[39;00m \u001b[38;5;21;01m.\u001b[39;00m\u001b[38;5;21;01mbleicorpus\u001b[39;00m \u001b[38;5;28;01mimport\u001b[39;00m BleiCorpus  \u001b[38;5;66;03m# noqa:F401\u001b[39;00m\n",
      "File \u001b[0;32m~/source/python/concernbert/.venv/lib/python3.12/site-packages/gensim/corpora/indexedcorpus.py:14\u001b[0m\n\u001b[1;32m     10\u001b[0m \u001b[38;5;28;01mimport\u001b[39;00m \u001b[38;5;21;01mlogging\u001b[39;00m\n\u001b[1;32m     12\u001b[0m \u001b[38;5;28;01mimport\u001b[39;00m \u001b[38;5;21;01mnumpy\u001b[39;00m\n\u001b[0;32m---> 14\u001b[0m \u001b[38;5;28;01mfrom\u001b[39;00m \u001b[38;5;21;01mgensim\u001b[39;00m \u001b[38;5;28;01mimport\u001b[39;00m interfaces, utils\n\u001b[1;32m     16\u001b[0m logger \u001b[38;5;241m=\u001b[39m logging\u001b[38;5;241m.\u001b[39mgetLogger(\u001b[38;5;18m__name__\u001b[39m)\n\u001b[1;32m     19\u001b[0m \u001b[38;5;28;01mclass\u001b[39;00m \u001b[38;5;21;01mIndexedCorpus\u001b[39;00m(interfaces\u001b[38;5;241m.\u001b[39mCorpusABC):\n",
      "File \u001b[0;32m~/source/python/concernbert/.venv/lib/python3.12/site-packages/gensim/interfaces.py:19\u001b[0m\n\u001b[1;32m      7\u001b[0m \u001b[38;5;124;03m\"\"\"Basic interfaces used across the whole Gensim package.\u001b[39;00m\n\u001b[1;32m      8\u001b[0m \n\u001b[1;32m      9\u001b[0m \u001b[38;5;124;03mThese interfaces are used for building corpora, model transformation and similarity queries.\u001b[39;00m\n\u001b[0;32m   (...)\u001b[0m\n\u001b[1;32m     14\u001b[0m \n\u001b[1;32m     15\u001b[0m \u001b[38;5;124;03m\"\"\"\u001b[39;00m\n\u001b[1;32m     17\u001b[0m \u001b[38;5;28;01mimport\u001b[39;00m \u001b[38;5;21;01mlogging\u001b[39;00m\n\u001b[0;32m---> 19\u001b[0m \u001b[38;5;28;01mfrom\u001b[39;00m \u001b[38;5;21;01mgensim\u001b[39;00m \u001b[38;5;28;01mimport\u001b[39;00m utils, matutils\n\u001b[1;32m     22\u001b[0m logger \u001b[38;5;241m=\u001b[39m logging\u001b[38;5;241m.\u001b[39mgetLogger(\u001b[38;5;18m__name__\u001b[39m)\n\u001b[1;32m     25\u001b[0m \u001b[38;5;28;01mclass\u001b[39;00m \u001b[38;5;21;01mCorpusABC\u001b[39;00m(utils\u001b[38;5;241m.\u001b[39mSaveLoad):\n",
      "File \u001b[0;32m~/source/python/concernbert/.venv/lib/python3.12/site-packages/gensim/matutils.py:20\u001b[0m\n\u001b[1;32m     18\u001b[0m \u001b[38;5;28;01mimport\u001b[39;00m \u001b[38;5;21;01mscipy\u001b[39;00m\u001b[38;5;21;01m.\u001b[39;00m\u001b[38;5;21;01msparse\u001b[39;00m\n\u001b[1;32m     19\u001b[0m \u001b[38;5;28;01mfrom\u001b[39;00m \u001b[38;5;21;01mscipy\u001b[39;00m\u001b[38;5;21;01m.\u001b[39;00m\u001b[38;5;21;01mstats\u001b[39;00m \u001b[38;5;28;01mimport\u001b[39;00m entropy\n\u001b[0;32m---> 20\u001b[0m \u001b[38;5;28;01mfrom\u001b[39;00m \u001b[38;5;21;01mscipy\u001b[39;00m\u001b[38;5;21;01m.\u001b[39;00m\u001b[38;5;21;01mlinalg\u001b[39;00m \u001b[38;5;28;01mimport\u001b[39;00m get_blas_funcs, triu\n\u001b[1;32m     21\u001b[0m \u001b[38;5;28;01mfrom\u001b[39;00m \u001b[38;5;21;01mscipy\u001b[39;00m\u001b[38;5;21;01m.\u001b[39;00m\u001b[38;5;21;01mlinalg\u001b[39;00m\u001b[38;5;21;01m.\u001b[39;00m\u001b[38;5;21;01mlapack\u001b[39;00m \u001b[38;5;28;01mimport\u001b[39;00m get_lapack_funcs\n\u001b[1;32m     22\u001b[0m \u001b[38;5;28;01mfrom\u001b[39;00m \u001b[38;5;21;01mscipy\u001b[39;00m\u001b[38;5;21;01m.\u001b[39;00m\u001b[38;5;21;01mspecial\u001b[39;00m \u001b[38;5;28;01mimport\u001b[39;00m psi  \u001b[38;5;66;03m# gamma function utils\u001b[39;00m\n",
      "\u001b[0;31mImportError\u001b[0m: cannot import name 'triu' from 'scipy.linalg' (/Users/jtl86/source/python/concernbert/.venv/lib/python3.12/site-packages/scipy/linalg/__init__.py)"
     ]
    }
   ],
   "source": [
    "from concernbert.frontend import CdCalculator"
   ]
  },
  {
   "cell_type": "code",
   "execution_count": null,
   "metadata": {},
   "outputs": [],
   "source": [
    "SOURCE = \"\"\"\n",
    "/*\n",
    " * Licensed to the Apache Software Foundation (ASF) under one\n",
    " * or more contributor license agreements. See the NOTICE file\n",
    " * distributed with this work for additional information\n",
    " * regarding copyright ownership. The ASF licenses this file\n",
    " * to you under the Apache License, Version 2.0 (the\n",
    " * \"License\"); you may not use this file except in compliance\n",
    " * with the License. You may obtain a copy of the License at\n",
    " *\n",
    " * http://www.apache.org/licenses/LICENSE-2.0\n",
    " *\n",
    " * Unless required by applicable law or agreed to in writing,\n",
    " * software distributed under the License is distributed on an\n",
    " * \"AS IS\" BASIS, WITHOUT WARRANTIES OR CONDITIONS OF ANY\n",
    " * KIND, either express or implied. See the License for the\n",
    " * specific language governing permissions and limitations\n",
    " * under the License.\n",
    " */\n",
    "package org.apache.deltaspike.core.impl.message;\n",
    "\n",
    "import jakarta.enterprise.context.ApplicationScoped;\n",
    "import jakarta.enterprise.event.Observes;\n",
    "import jakarta.enterprise.inject.Default;\n",
    "import jakarta.enterprise.inject.spi.*;\n",
    "import jakarta.enterprise.inject.spi.configurator.BeanConfigurator;\n",
    "import org.apache.deltaspike.core.api.message.Message;\n",
    "import org.apache.deltaspike.core.api.message.MessageBundle;\n",
    "import org.apache.deltaspike.core.api.message.MessageTemplate;\n",
    "import org.apache.deltaspike.core.spi.activation.Deactivatable;\n",
    "import org.apache.deltaspike.core.util.BeanConfiguratorUtils;\n",
    "import org.apache.deltaspike.core.util.ClassDeactivationUtils;\n",
    "import org.apache.deltaspike.core.util.ClassUtils;\n",
    "\n",
    "import java.io.Serializable;\n",
    "import java.lang.reflect.Method;\n",
    "import java.lang.reflect.Proxy;\n",
    "import java.util.*;\n",
    "\n",
    "/**\n",
    " * Extension for handling {@link MessageBundle}s.\n",
    " *\n",
    " * @see MessageBundle\n",
    " * @see MessageTemplate\n",
    " */\n",
    "public class MessageBundleExtension implements Extension, Deactivatable\n",
    "{\n",
    "    private final Collection<AnnotatedType<?>> messageBundleTypes = new HashSet<AnnotatedType<?>>();\n",
    "\n",
    "    private List<String> deploymentErrors = new ArrayList<String>();\n",
    "\n",
    "    private Boolean isActivated = true;\n",
    "\n",
    "    @SuppressWarnings(\"UnusedDeclaration\")\n",
    "    protected void init(@Observes BeforeBeanDiscovery beforeBeanDiscovery)\n",
    "    {\n",
    "        isActivated = ClassDeactivationUtils.isActivated(getClass());\n",
    "    }\n",
    "\n",
    "    @SuppressWarnings(\"UnusedDeclaration\")\n",
    "    protected void detectInterfaces(@Observes ProcessAnnotatedType processAnnotatedType)\n",
    "    {\n",
    "        if (!isActivated)\n",
    "        {\n",
    "            return;\n",
    "        }\n",
    "\n",
    "        AnnotatedType<?> type = processAnnotatedType.getAnnotatedType();\n",
    "\n",
    "        if (type.isAnnotationPresent(MessageBundle.class))\n",
    "        {\n",
    "            if (validateMessageBundle(type.getJavaClass()))\n",
    "            {\n",
    "                messageBundleTypes.add(type);\n",
    "            }\n",
    "        }\n",
    "    }\n",
    "\n",
    "    /**\n",
    "     * @return <code>true</code> if all is well\n",
    "     */\n",
    "    private boolean validateMessageBundle(Class<?> currentClass)\n",
    "    {\n",
    "        boolean ok = true;\n",
    "\n",
    "        // sanity check: annotated class must be an Interface\n",
    "        if (!currentClass.isInterface())\n",
    "        {\n",
    "            deploymentErrors.add(\"@MessageBundle must only be used on Interfaces, but got used on class \" +\n",
    "                    currentClass.getName());\n",
    "            return false;\n",
    "        }\n",
    "\n",
    "        for (Method currentMethod : currentClass.getDeclaredMethods())\n",
    "        {\n",
    "            if (!currentMethod.isAnnotationPresent(MessageTemplate.class))\n",
    "            {\n",
    "                continue;\n",
    "            }\n",
    "            \n",
    "            if (String.class.isAssignableFrom(currentMethod.getReturnType()))\n",
    "            {\n",
    "                continue;\n",
    "            }\n",
    "\n",
    "            if (Message.class.isAssignableFrom(currentMethod.getReturnType()))\n",
    "            {\n",
    "                continue;\n",
    "            }\n",
    "\n",
    "            deploymentErrors.add(currentMethod.getReturnType().getName() + \" isn't supported. Details: \" +\n",
    "                    currentMethod.getDeclaringClass().getName() + \"#\" + currentMethod.getName() +\n",
    "                    \" only \" + String.class.getName() + \" or \" + Message.class.getName());\n",
    "            ok = false;\n",
    "        }\n",
    "\n",
    "        return ok;\n",
    "    }\n",
    "\n",
    "    @SuppressWarnings(\"UnusedDeclaration\")\n",
    "    protected void installMessageBundleProducerBeans(@Observes AfterBeanDiscovery abd, BeanManager beanManager)\n",
    "    {\n",
    "        if (!deploymentErrors.isEmpty())\n",
    "        {\n",
    "            abd.addDefinitionError(new IllegalArgumentException(\"The following MessageBundle problems where found: \" +\n",
    "                    Arrays.toString(deploymentErrors.toArray())));\n",
    "            return;\n",
    "        }\n",
    "\n",
    "        for (AnnotatedType<?> type : messageBundleTypes)\n",
    "        {\n",
    "            addAsBean(abd, beanManager, type);\n",
    "        }\n",
    "    }\n",
    "\n",
    "    protected <T> void addAsBean(AfterBeanDiscovery abd, BeanManager beanManager, AnnotatedType<T> type)\n",
    "    {\n",
    "        BeanConfigurator<T> beanConfigurator = abd.addBean()\n",
    "                .createWith(cc ->\n",
    "                    {\n",
    "                        final Bean<?> invocationHandlerBean = beanManager.resolve(\n",
    "                                beanManager.getBeans(MessageBundleInvocationHandler.class));\n",
    "\n",
    "                        return createMessageBundleProxy(type.getJavaClass(),\n",
    "                                (MessageBundleInvocationHandler)\n",
    "                                        beanManager.getReference(invocationHandlerBean, MessageBundleInvocationHandler.class, cc));\n",
    "                    });\n",
    "        BeanConfiguratorUtils.read(beanManager, beanConfigurator, type)\n",
    "                .types(type.getJavaClass(), Object.class, Serializable.class)\n",
    "                .addQualifier(Default.Literal.INSTANCE)\n",
    "                .scope(ApplicationScoped.class) // needs to be a normalscope due to a bug in older Weld versions\n",
    "                .id(\"MessageBundleBean#\" + type.getJavaClass().getName());\n",
    "    }\n",
    "\n",
    "    @SuppressWarnings(\"UnusedDeclaration\")\n",
    "    protected void cleanup(@Observes AfterDeploymentValidation afterDeploymentValidation)\n",
    "    {\n",
    "        messageBundleTypes.clear();\n",
    "    }\n",
    "\n",
    "    private <T> T createMessageBundleProxy(Class<T> type, MessageBundleInvocationHandler handler)\n",
    "    {\n",
    "        return type.cast(Proxy.newProxyInstance(ClassUtils.getClassLoader(null),\n",
    "            new Class<?>[]{type, Serializable.class}, handler));\n",
    "    }\n",
    "}\n",
    "\"\"\""
   ]
  },
  {
   "cell_type": "code",
   "execution_count": null,
   "metadata": {},
   "outputs": [],
   "source": [
    "SOURCE = Path(\"View.java\").read_text()"
   ]
  },
  {
   "cell_type": "code",
   "execution_count": null,
   "metadata": {},
   "outputs": [],
   "source": [
    "cd_calculator = CdCalculator(\"_models/EntityBERT-v3_train_nonldl-lr5e5-2_83-e3\", \"_foo\")"
   ]
  },
  {
   "cell_type": "code",
   "execution_count": null,
   "metadata": {},
   "outputs": [],
   "source": [
    "cd_calculator.calc_cd(SOURCE, pbar=True)"
   ]
  },
  {
   "cell_type": "code",
   "execution_count": null,
   "metadata": {},
   "outputs": [],
   "source": []
  },
  {
   "cell_type": "code",
   "execution_count": null,
   "metadata": {},
   "outputs": [],
   "source": []
  },
  {
   "cell_type": "code",
   "execution_count": null,
   "metadata": {},
   "outputs": [],
   "source": [
    "res = find_entity_docs(SOURCE)\n",
    "res"
   ]
  },
  {
   "cell_type": "code",
   "execution_count": null,
   "metadata": {},
   "outputs": [],
   "source": [
    "texts = res[\"(45, 0)\"]"
   ]
  },
  {
   "cell_type": "code",
   "execution_count": null,
   "metadata": {},
   "outputs": [],
   "source": [
    "embedder = load_caching_embedder(\"_models/EntityBERT-v3_train_nonldl-lr5e5-2_83-e3\", \"_foo\", 32)"
   ]
  },
  {
   "cell_type": "code",
   "execution_count": null,
   "metadata": {},
   "outputs": [],
   "source": [
    "arr = np.array(list(embedder.embed(texts, pbar=True).values()))"
   ]
  },
  {
   "cell_type": "code",
   "execution_count": null,
   "metadata": {},
   "outputs": [],
   "source": [
    "to_aad(arr)"
   ]
  },
  {
   "cell_type": "code",
   "execution_count": null,
   "metadata": {},
   "outputs": [],
   "source": []
  }
 ],
 "metadata": {
  "kernelspec": {
   "display_name": ".venv",
   "language": "python",
   "name": "python3"
  },
  "language_info": {
   "codemirror_mode": {
    "name": "ipython",
    "version": 3
   },
   "file_extension": ".py",
   "mimetype": "text/x-python",
   "name": "python",
   "nbconvert_exporter": "python",
   "pygments_lexer": "ipython3",
   "version": "3.12.6"
  }
 },
 "nbformat": 4,
 "nbformat_minor": 2
}
